{
  "nbformat": 4,
  "nbformat_minor": 0,
  "metadata": {
    "colab": {
      "name": "CAPSTONE_PROJECT_USING_PYTHON.ipynb",
      "provenance": [],
      "collapsed_sections": []
    },
    "kernelspec": {
      "name": "python3",
      "display_name": "Python 3"
    },
    "language_info": {
      "name": "python"
    }
  },
  "cells": [
    {
      "cell_type": "markdown",
      "source": [
        "# **OLYMPICS CAPSTONE PROJECT**"
      ],
      "metadata": {
        "id": "_2prgH4XErIv"
      }
    },
    {
      "cell_type": "markdown",
      "source": [
        "## **INTRODUCTION**"
      ],
      "metadata": {
        "id": "Ui5n7zsNE0up"
      }
    },
    {
      "cell_type": "markdown",
      "source": [
        "In this article, we will be working on the Olympix data analysis and here we will be doing a complete process to determine the paticipants of every country  meanwhile we will draw some insights from data visualization and analysis so that we could get the factors which will affect the output.\n",
        "\n",
        "The file olympix_data.csv contains 8618 rows and 10 columns; Each row corresponds to an individual athlete competing in an individual Olympic event.\n",
        "Players names, ages, countries, medal types, and total medals earned are all included in the data collection.\n",
        "The dataset also assume Medal won in group sports also as individual Medal for each player.\n",
        "\n",
        "A single player can play many games. The columns are the following:\n",
        "\n",
        "ID - Unique number for each athlete\n",
        "\n",
        "Name - Athlete's name\n",
        "\n",
        "Age - Integer\n",
        "\n",
        "Sports - Year and season\n",
        "\n",
        "Year - The year in which a certain olympic event took place.\n",
        "\n",
        "Country - Host city\n",
        "\n",
        "Sport - Sport\n",
        "\n",
        "Medal - Gold, Silver, Bronze, and Total medals\n",
        "\n",
        "Date_given - The date on which a sporting event will take place.\n"
      ],
      "metadata": {
        "id": "FydLzDEdE6yC"
      }
    },
    {
      "cell_type": "markdown",
      "source": [
        "## Basic exploration of data."
      ],
      "metadata": {
        "id": "Sest6WazKo8-"
      }
    },
    {
      "cell_type": "markdown",
      "source": [
        "## Importing the reqires libraries"
      ],
      "metadata": {
        "id": "BplflEJl5c9e"
      }
    },
    {
      "cell_type": "code",
      "execution_count": 1,
      "metadata": {
        "id": "JDhQStDb8u9g"
      },
      "outputs": [],
      "source": [
        "# data processing\n",
        "import numpy as np\n",
        "import pandas as pd\n",
        "# data visualisation\n",
        "import seaborn as sns   \n",
        "import matplotlib.pyplot as plt\n",
        "# Ignoring warnings\n",
        "import warnings\n",
        "warnings.filterwarnings('ignore')\n"
      ]
    },
    {
      "cell_type": "code",
      "source": [
        "olympix = pd.read_csv(\"olympix_data_organized_with_header (1) (1).csv\") # reading the dataset "
      ],
      "metadata": {
        "id": "mA55_Mhi9Jfs"
      },
      "execution_count": 2,
      "outputs": []
    },
    {
      "cell_type": "code",
      "source": [
        "olympix.columns # checking the columns of the dataset"
      ],
      "metadata": {
        "colab": {
          "base_uri": "https://localhost:8080/"
        },
        "id": "eyB3-Fe99wUy",
        "outputId": "bf8a0455-d298-4a38-836e-b69ef17212ec"
      },
      "execution_count": null,
      "outputs": [
        {
          "output_type": "execute_result",
          "data": {
            "text/plain": [
              "Index(['name', 'age', 'country', 'year', 'Date_Given', 'sports', 'gold_medal',\n",
              "       'silver_medal', 'brone_medal', 'total_medal'],\n",
              "      dtype='object')"
            ]
          },
          "metadata": {},
          "execution_count": 225
        }
      ]
    },
    {
      "cell_type": "code",
      "source": [
        "olympix.shape # checking the size of the dataset"
      ],
      "metadata": {
        "colab": {
          "base_uri": "https://localhost:8080/"
        },
        "id": "iB1jiuCdGARF",
        "outputId": "07ae5f14-e9a7-4da5-d969-9306c5de542e"
      },
      "execution_count": null,
      "outputs": [
        {
          "output_type": "execute_result",
          "data": {
            "text/plain": [
              "(8618, 10)"
            ]
          },
          "metadata": {},
          "execution_count": 242
        }
      ]
    },
    {
      "cell_type": "code",
      "source": [
        "olympix.head() # checking the data using head function"
      ],
      "metadata": {
        "colab": {
          "base_uri": "https://localhost:8080/",
          "height": 337
        },
        "id": "atVWRlnn9Vkn",
        "outputId": "be12fc3f-f537-43a1-96fe-f049fdabeabb"
      },
      "execution_count": null,
      "outputs": [
        {
          "output_type": "execute_result",
          "data": {
            "text/plain": [
              "               name   age        country  year  Date_Given      sports  \\\n",
              "0    Michael Phelps  23.0  United States  2008   8/24/2008    Swimming   \n",
              "1    Michael Phelps  19.0  United States  2004   8/29/2004    Swimming   \n",
              "2    Michael Phelps  27.0  United States  2012  08-12-2012    Swimming   \n",
              "3  Natalie Coughlin  25.0  United States  2008   8/24/2008    Swimming   \n",
              "4     Aleksey Nemov  24.0         Russia  2000  10-01-2000  Gymnastics   \n",
              "\n",
              "   gold_medal  silver_medal  brone_medal  total_medal  \n",
              "0           8             0            0            8  \n",
              "1           6             0            2            8  \n",
              "2           4             2            0            6  \n",
              "3           1             2            3            6  \n",
              "4           2             1            3            6  "
            ],
            "text/html": [
              "\n",
              "  <div id=\"df-6959caec-5e64-4dbc-99e7-c5b888f02d22\">\n",
              "    <div class=\"colab-df-container\">\n",
              "      <div>\n",
              "<style scoped>\n",
              "    .dataframe tbody tr th:only-of-type {\n",
              "        vertical-align: middle;\n",
              "    }\n",
              "\n",
              "    .dataframe tbody tr th {\n",
              "        vertical-align: top;\n",
              "    }\n",
              "\n",
              "    .dataframe thead th {\n",
              "        text-align: right;\n",
              "    }\n",
              "</style>\n",
              "<table border=\"1\" class=\"dataframe\">\n",
              "  <thead>\n",
              "    <tr style=\"text-align: right;\">\n",
              "      <th></th>\n",
              "      <th>name</th>\n",
              "      <th>age</th>\n",
              "      <th>country</th>\n",
              "      <th>year</th>\n",
              "      <th>Date_Given</th>\n",
              "      <th>sports</th>\n",
              "      <th>gold_medal</th>\n",
              "      <th>silver_medal</th>\n",
              "      <th>brone_medal</th>\n",
              "      <th>total_medal</th>\n",
              "    </tr>\n",
              "  </thead>\n",
              "  <tbody>\n",
              "    <tr>\n",
              "      <th>0</th>\n",
              "      <td>Michael Phelps</td>\n",
              "      <td>23.0</td>\n",
              "      <td>United States</td>\n",
              "      <td>2008</td>\n",
              "      <td>8/24/2008</td>\n",
              "      <td>Swimming</td>\n",
              "      <td>8</td>\n",
              "      <td>0</td>\n",
              "      <td>0</td>\n",
              "      <td>8</td>\n",
              "    </tr>\n",
              "    <tr>\n",
              "      <th>1</th>\n",
              "      <td>Michael Phelps</td>\n",
              "      <td>19.0</td>\n",
              "      <td>United States</td>\n",
              "      <td>2004</td>\n",
              "      <td>8/29/2004</td>\n",
              "      <td>Swimming</td>\n",
              "      <td>6</td>\n",
              "      <td>0</td>\n",
              "      <td>2</td>\n",
              "      <td>8</td>\n",
              "    </tr>\n",
              "    <tr>\n",
              "      <th>2</th>\n",
              "      <td>Michael Phelps</td>\n",
              "      <td>27.0</td>\n",
              "      <td>United States</td>\n",
              "      <td>2012</td>\n",
              "      <td>08-12-2012</td>\n",
              "      <td>Swimming</td>\n",
              "      <td>4</td>\n",
              "      <td>2</td>\n",
              "      <td>0</td>\n",
              "      <td>6</td>\n",
              "    </tr>\n",
              "    <tr>\n",
              "      <th>3</th>\n",
              "      <td>Natalie Coughlin</td>\n",
              "      <td>25.0</td>\n",
              "      <td>United States</td>\n",
              "      <td>2008</td>\n",
              "      <td>8/24/2008</td>\n",
              "      <td>Swimming</td>\n",
              "      <td>1</td>\n",
              "      <td>2</td>\n",
              "      <td>3</td>\n",
              "      <td>6</td>\n",
              "    </tr>\n",
              "    <tr>\n",
              "      <th>4</th>\n",
              "      <td>Aleksey Nemov</td>\n",
              "      <td>24.0</td>\n",
              "      <td>Russia</td>\n",
              "      <td>2000</td>\n",
              "      <td>10-01-2000</td>\n",
              "      <td>Gymnastics</td>\n",
              "      <td>2</td>\n",
              "      <td>1</td>\n",
              "      <td>3</td>\n",
              "      <td>6</td>\n",
              "    </tr>\n",
              "  </tbody>\n",
              "</table>\n",
              "</div>\n",
              "      <button class=\"colab-df-convert\" onclick=\"convertToInteractive('df-6959caec-5e64-4dbc-99e7-c5b888f02d22')\"\n",
              "              title=\"Convert this dataframe to an interactive table.\"\n",
              "              style=\"display:none;\">\n",
              "        \n",
              "  <svg xmlns=\"http://www.w3.org/2000/svg\" height=\"24px\"viewBox=\"0 0 24 24\"\n",
              "       width=\"24px\">\n",
              "    <path d=\"M0 0h24v24H0V0z\" fill=\"none\"/>\n",
              "    <path d=\"M18.56 5.44l.94 2.06.94-2.06 2.06-.94-2.06-.94-.94-2.06-.94 2.06-2.06.94zm-11 1L8.5 8.5l.94-2.06 2.06-.94-2.06-.94L8.5 2.5l-.94 2.06-2.06.94zm10 10l.94 2.06.94-2.06 2.06-.94-2.06-.94-.94-2.06-.94 2.06-2.06.94z\"/><path d=\"M17.41 7.96l-1.37-1.37c-.4-.4-.92-.59-1.43-.59-.52 0-1.04.2-1.43.59L10.3 9.45l-7.72 7.72c-.78.78-.78 2.05 0 2.83L4 21.41c.39.39.9.59 1.41.59.51 0 1.02-.2 1.41-.59l7.78-7.78 2.81-2.81c.8-.78.8-2.07 0-2.86zM5.41 20L4 18.59l7.72-7.72 1.47 1.35L5.41 20z\"/>\n",
              "  </svg>\n",
              "      </button>\n",
              "      \n",
              "  <style>\n",
              "    .colab-df-container {\n",
              "      display:flex;\n",
              "      flex-wrap:wrap;\n",
              "      gap: 12px;\n",
              "    }\n",
              "\n",
              "    .colab-df-convert {\n",
              "      background-color: #E8F0FE;\n",
              "      border: none;\n",
              "      border-radius: 50%;\n",
              "      cursor: pointer;\n",
              "      display: none;\n",
              "      fill: #1967D2;\n",
              "      height: 32px;\n",
              "      padding: 0 0 0 0;\n",
              "      width: 32px;\n",
              "    }\n",
              "\n",
              "    .colab-df-convert:hover {\n",
              "      background-color: #E2EBFA;\n",
              "      box-shadow: 0px 1px 2px rgba(60, 64, 67, 0.3), 0px 1px 3px 1px rgba(60, 64, 67, 0.15);\n",
              "      fill: #174EA6;\n",
              "    }\n",
              "\n",
              "    [theme=dark] .colab-df-convert {\n",
              "      background-color: #3B4455;\n",
              "      fill: #D2E3FC;\n",
              "    }\n",
              "\n",
              "    [theme=dark] .colab-df-convert:hover {\n",
              "      background-color: #434B5C;\n",
              "      box-shadow: 0px 1px 3px 1px rgba(0, 0, 0, 0.15);\n",
              "      filter: drop-shadow(0px 1px 2px rgba(0, 0, 0, 0.3));\n",
              "      fill: #FFFFFF;\n",
              "    }\n",
              "  </style>\n",
              "\n",
              "      <script>\n",
              "        const buttonEl =\n",
              "          document.querySelector('#df-6959caec-5e64-4dbc-99e7-c5b888f02d22 button.colab-df-convert');\n",
              "        buttonEl.style.display =\n",
              "          google.colab.kernel.accessAllowed ? 'block' : 'none';\n",
              "\n",
              "        async function convertToInteractive(key) {\n",
              "          const element = document.querySelector('#df-6959caec-5e64-4dbc-99e7-c5b888f02d22');\n",
              "          const dataTable =\n",
              "            await google.colab.kernel.invokeFunction('convertToInteractive',\n",
              "                                                     [key], {});\n",
              "          if (!dataTable) return;\n",
              "\n",
              "          const docLinkHtml = 'Like what you see? Visit the ' +\n",
              "            '<a target=\"_blank\" href=https://colab.research.google.com/notebooks/data_table.ipynb>data table notebook</a>'\n",
              "            + ' to learn more about interactive tables.';\n",
              "          element.innerHTML = '';\n",
              "          dataTable['output_type'] = 'display_data';\n",
              "          await google.colab.output.renderOutput(dataTable, element);\n",
              "          const docLink = document.createElement('div');\n",
              "          docLink.innerHTML = docLinkHtml;\n",
              "          element.appendChild(docLink);\n",
              "        }\n",
              "      </script>\n",
              "    </div>\n",
              "  </div>\n",
              "  "
            ]
          },
          "metadata": {},
          "execution_count": 226
        }
      ]
    },
    {
      "cell_type": "markdown",
      "source": [
        "Here we can see the columns from the top of the dataset."
      ],
      "metadata": {
        "id": "NUV68ZUO0KZt"
      }
    },
    {
      "cell_type": "code",
      "source": [
        "olympix.tail() # checking the data from bottom using tail function"
      ],
      "metadata": {
        "colab": {
          "base_uri": "https://localhost:8080/",
          "height": 374
        },
        "id": "nOGHbr7n919k",
        "outputId": "dd944b3e-d55c-484d-fd0a-8750ec90d4cf"
      },
      "execution_count": null,
      "outputs": [
        {
          "output_type": "execute_result",
          "data": {
            "text/plain": [
              "                      name   age        country  year  Date_Given   sports  \\\n",
              "8613      Olena Sadovnycha  32.0        Ukraine  2000  10-01-2000  Archery   \n",
              "8614      Kateryna Serdiuk  17.0        Ukraine  2000  10-01-2000  Archery   \n",
              "8615      Wietse van Alten  21.0    Netherlands  2000  10-01-2000  Archery   \n",
              "8616  Sandra Wagner-Sachse  31.0        Germany  2000  10-01-2000  Archery   \n",
              "8617             Rod White  23.0  United States  2000  10-01-2000  Archery   \n",
              "\n",
              "      gold_medal  silver_medal  brone_medal  total_medal  \n",
              "8613           0             1            0            1  \n",
              "8614           0             1            0            1  \n",
              "8615           0             0            1            1  \n",
              "8616           0             0            1            1  \n",
              "8617           0             0            1            1  "
            ],
            "text/html": [
              "\n",
              "  <div id=\"df-3e5a3058-0554-4a6c-baee-654b8fa029c0\">\n",
              "    <div class=\"colab-df-container\">\n",
              "      <div>\n",
              "<style scoped>\n",
              "    .dataframe tbody tr th:only-of-type {\n",
              "        vertical-align: middle;\n",
              "    }\n",
              "\n",
              "    .dataframe tbody tr th {\n",
              "        vertical-align: top;\n",
              "    }\n",
              "\n",
              "    .dataframe thead th {\n",
              "        text-align: right;\n",
              "    }\n",
              "</style>\n",
              "<table border=\"1\" class=\"dataframe\">\n",
              "  <thead>\n",
              "    <tr style=\"text-align: right;\">\n",
              "      <th></th>\n",
              "      <th>name</th>\n",
              "      <th>age</th>\n",
              "      <th>country</th>\n",
              "      <th>year</th>\n",
              "      <th>Date_Given</th>\n",
              "      <th>sports</th>\n",
              "      <th>gold_medal</th>\n",
              "      <th>silver_medal</th>\n",
              "      <th>brone_medal</th>\n",
              "      <th>total_medal</th>\n",
              "    </tr>\n",
              "  </thead>\n",
              "  <tbody>\n",
              "    <tr>\n",
              "      <th>8613</th>\n",
              "      <td>Olena Sadovnycha</td>\n",
              "      <td>32.0</td>\n",
              "      <td>Ukraine</td>\n",
              "      <td>2000</td>\n",
              "      <td>10-01-2000</td>\n",
              "      <td>Archery</td>\n",
              "      <td>0</td>\n",
              "      <td>1</td>\n",
              "      <td>0</td>\n",
              "      <td>1</td>\n",
              "    </tr>\n",
              "    <tr>\n",
              "      <th>8614</th>\n",
              "      <td>Kateryna Serdiuk</td>\n",
              "      <td>17.0</td>\n",
              "      <td>Ukraine</td>\n",
              "      <td>2000</td>\n",
              "      <td>10-01-2000</td>\n",
              "      <td>Archery</td>\n",
              "      <td>0</td>\n",
              "      <td>1</td>\n",
              "      <td>0</td>\n",
              "      <td>1</td>\n",
              "    </tr>\n",
              "    <tr>\n",
              "      <th>8615</th>\n",
              "      <td>Wietse van Alten</td>\n",
              "      <td>21.0</td>\n",
              "      <td>Netherlands</td>\n",
              "      <td>2000</td>\n",
              "      <td>10-01-2000</td>\n",
              "      <td>Archery</td>\n",
              "      <td>0</td>\n",
              "      <td>0</td>\n",
              "      <td>1</td>\n",
              "      <td>1</td>\n",
              "    </tr>\n",
              "    <tr>\n",
              "      <th>8616</th>\n",
              "      <td>Sandra Wagner-Sachse</td>\n",
              "      <td>31.0</td>\n",
              "      <td>Germany</td>\n",
              "      <td>2000</td>\n",
              "      <td>10-01-2000</td>\n",
              "      <td>Archery</td>\n",
              "      <td>0</td>\n",
              "      <td>0</td>\n",
              "      <td>1</td>\n",
              "      <td>1</td>\n",
              "    </tr>\n",
              "    <tr>\n",
              "      <th>8617</th>\n",
              "      <td>Rod White</td>\n",
              "      <td>23.0</td>\n",
              "      <td>United States</td>\n",
              "      <td>2000</td>\n",
              "      <td>10-01-2000</td>\n",
              "      <td>Archery</td>\n",
              "      <td>0</td>\n",
              "      <td>0</td>\n",
              "      <td>1</td>\n",
              "      <td>1</td>\n",
              "    </tr>\n",
              "  </tbody>\n",
              "</table>\n",
              "</div>\n",
              "      <button class=\"colab-df-convert\" onclick=\"convertToInteractive('df-3e5a3058-0554-4a6c-baee-654b8fa029c0')\"\n",
              "              title=\"Convert this dataframe to an interactive table.\"\n",
              "              style=\"display:none;\">\n",
              "        \n",
              "  <svg xmlns=\"http://www.w3.org/2000/svg\" height=\"24px\"viewBox=\"0 0 24 24\"\n",
              "       width=\"24px\">\n",
              "    <path d=\"M0 0h24v24H0V0z\" fill=\"none\"/>\n",
              "    <path d=\"M18.56 5.44l.94 2.06.94-2.06 2.06-.94-2.06-.94-.94-2.06-.94 2.06-2.06.94zm-11 1L8.5 8.5l.94-2.06 2.06-.94-2.06-.94L8.5 2.5l-.94 2.06-2.06.94zm10 10l.94 2.06.94-2.06 2.06-.94-2.06-.94-.94-2.06-.94 2.06-2.06.94z\"/><path d=\"M17.41 7.96l-1.37-1.37c-.4-.4-.92-.59-1.43-.59-.52 0-1.04.2-1.43.59L10.3 9.45l-7.72 7.72c-.78.78-.78 2.05 0 2.83L4 21.41c.39.39.9.59 1.41.59.51 0 1.02-.2 1.41-.59l7.78-7.78 2.81-2.81c.8-.78.8-2.07 0-2.86zM5.41 20L4 18.59l7.72-7.72 1.47 1.35L5.41 20z\"/>\n",
              "  </svg>\n",
              "      </button>\n",
              "      \n",
              "  <style>\n",
              "    .colab-df-container {\n",
              "      display:flex;\n",
              "      flex-wrap:wrap;\n",
              "      gap: 12px;\n",
              "    }\n",
              "\n",
              "    .colab-df-convert {\n",
              "      background-color: #E8F0FE;\n",
              "      border: none;\n",
              "      border-radius: 50%;\n",
              "      cursor: pointer;\n",
              "      display: none;\n",
              "      fill: #1967D2;\n",
              "      height: 32px;\n",
              "      padding: 0 0 0 0;\n",
              "      width: 32px;\n",
              "    }\n",
              "\n",
              "    .colab-df-convert:hover {\n",
              "      background-color: #E2EBFA;\n",
              "      box-shadow: 0px 1px 2px rgba(60, 64, 67, 0.3), 0px 1px 3px 1px rgba(60, 64, 67, 0.15);\n",
              "      fill: #174EA6;\n",
              "    }\n",
              "\n",
              "    [theme=dark] .colab-df-convert {\n",
              "      background-color: #3B4455;\n",
              "      fill: #D2E3FC;\n",
              "    }\n",
              "\n",
              "    [theme=dark] .colab-df-convert:hover {\n",
              "      background-color: #434B5C;\n",
              "      box-shadow: 0px 1px 3px 1px rgba(0, 0, 0, 0.15);\n",
              "      filter: drop-shadow(0px 1px 2px rgba(0, 0, 0, 0.3));\n",
              "      fill: #FFFFFF;\n",
              "    }\n",
              "  </style>\n",
              "\n",
              "      <script>\n",
              "        const buttonEl =\n",
              "          document.querySelector('#df-3e5a3058-0554-4a6c-baee-654b8fa029c0 button.colab-df-convert');\n",
              "        buttonEl.style.display =\n",
              "          google.colab.kernel.accessAllowed ? 'block' : 'none';\n",
              "\n",
              "        async function convertToInteractive(key) {\n",
              "          const element = document.querySelector('#df-3e5a3058-0554-4a6c-baee-654b8fa029c0');\n",
              "          const dataTable =\n",
              "            await google.colab.kernel.invokeFunction('convertToInteractive',\n",
              "                                                     [key], {});\n",
              "          if (!dataTable) return;\n",
              "\n",
              "          const docLinkHtml = 'Like what you see? Visit the ' +\n",
              "            '<a target=\"_blank\" href=https://colab.research.google.com/notebooks/data_table.ipynb>data table notebook</a>'\n",
              "            + ' to learn more about interactive tables.';\n",
              "          element.innerHTML = '';\n",
              "          dataTable['output_type'] = 'display_data';\n",
              "          await google.colab.output.renderOutput(dataTable, element);\n",
              "          const docLink = document.createElement('div');\n",
              "          docLink.innerHTML = docLinkHtml;\n",
              "          element.appendChild(docLink);\n",
              "        }\n",
              "      </script>\n",
              "    </div>\n",
              "  </div>\n",
              "  "
            ]
          },
          "metadata": {},
          "execution_count": 227
        }
      ]
    },
    {
      "cell_type": "markdown",
      "source": [
        "Here we can see the columns from the bottom of the dataset."
      ],
      "metadata": {
        "id": "hfwgsxoI0TXp"
      }
    },
    {
      "cell_type": "code",
      "source": [
        "olympix.info() # checking the types of dataset"
      ],
      "metadata": {
        "colab": {
          "base_uri": "https://localhost:8080/"
        },
        "id": "E6LY-wvE943T",
        "outputId": "2ce626de-436e-4a1b-9820-600e902d8c38"
      },
      "execution_count": null,
      "outputs": [
        {
          "output_type": "stream",
          "name": "stdout",
          "text": [
            "<class 'pandas.core.frame.DataFrame'>\n",
            "RangeIndex: 8618 entries, 0 to 8617\n",
            "Data columns (total 10 columns):\n",
            " #   Column        Non-Null Count  Dtype  \n",
            "---  ------        --------------  -----  \n",
            " 0   name          8613 non-null   object \n",
            " 1   age           8613 non-null   float64\n",
            " 2   country       8618 non-null   object \n",
            " 3   year          8618 non-null   int64  \n",
            " 4   Date_Given    8618 non-null   object \n",
            " 5   sports        8618 non-null   object \n",
            " 6   gold_medal    8618 non-null   int64  \n",
            " 7   silver_medal  8618 non-null   int64  \n",
            " 8   brone_medal   8618 non-null   int64  \n",
            " 9   total_medal   8618 non-null   int64  \n",
            "dtypes: float64(1), int64(5), object(4)\n",
            "memory usage: 673.4+ KB\n"
          ]
        }
      ]
    },
    {
      "cell_type": "markdown",
      "source": [
        "We can see that the columns are of different types of data. Some are of Integer and the other are float values."
      ],
      "metadata": {
        "id": "dsxTiuEX0Xce"
      }
    },
    {
      "cell_type": "code",
      "source": [
        "olympix.shape # checking the shape of the dataset"
      ],
      "metadata": {
        "colab": {
          "base_uri": "https://localhost:8080/"
        },
        "id": "HcoLHz6H-Ah3",
        "outputId": "a1cafa5c-e368-477e-c381-fa2f7c19bb1c"
      },
      "execution_count": null,
      "outputs": [
        {
          "output_type": "execute_result",
          "data": {
            "text/plain": [
              "(8618, 10)"
            ]
          },
          "metadata": {},
          "execution_count": 9
        }
      ]
    },
    {
      "cell_type": "markdown",
      "source": [
        "Here the shape of the dataset is of 8618 rows and 10 columns."
      ],
      "metadata": {
        "id": "uGu1bPw30jdo"
      }
    },
    {
      "cell_type": "code",
      "source": [
        "olympix.dtypes # checking the datatypes"
      ],
      "metadata": {
        "colab": {
          "base_uri": "https://localhost:8080/"
        },
        "id": "MzaBEIcY-H5D",
        "outputId": "3289bc07-ef26-4bb4-f6ce-6b7abff1f878"
      },
      "execution_count": null,
      "outputs": [
        {
          "output_type": "execute_result",
          "data": {
            "text/plain": [
              "name             object\n",
              "age             float64\n",
              "country          object\n",
              "year              int64\n",
              "Date_Given       object\n",
              "sports           object\n",
              "gold_medal        int64\n",
              "silver_medal      int64\n",
              "brone_medal       int64\n",
              "total_medal       int64\n",
              "dtype: object"
            ]
          },
          "metadata": {},
          "execution_count": 10
        }
      ]
    },
    {
      "cell_type": "markdown",
      "source": [
        "We can see the datatypes of the dataset which are Integer and float values."
      ],
      "metadata": {
        "id": "Pabt9LYn0peD"
      }
    },
    {
      "cell_type": "code",
      "source": [
        "olympix.describe() # checking the dataset"
      ],
      "metadata": {
        "colab": {
          "base_uri": "https://localhost:8080/",
          "height": 300
        },
        "id": "b0H5CJAo-PzC",
        "outputId": "71e2c3e4-4987-4da8-ae5a-c38dad4152c9"
      },
      "execution_count": null,
      "outputs": [
        {
          "output_type": "execute_result",
          "data": {
            "text/plain": [
              "               age         year   gold_medal  silver_medal  brone_medal  \\\n",
              "count  8613.000000  8618.000000  8618.000000   8618.000000  8618.000000   \n",
              "mean     26.405434  2005.978881     0.364702      0.363309     0.377698   \n",
              "std       5.102118     4.289946     0.545349      0.511613     0.505005   \n",
              "min      15.000000  2000.000000     0.000000      0.000000     0.000000   \n",
              "25%      23.000000  2002.000000     0.000000      0.000000     0.000000   \n",
              "50%      26.000000  2006.000000     0.000000      0.000000     0.000000   \n",
              "75%      29.000000  2010.000000     1.000000      1.000000     1.000000   \n",
              "max      61.000000  2012.000000     8.000000      3.000000     3.000000   \n",
              "\n",
              "       total_medal  \n",
              "count  8618.000000  \n",
              "mean      1.105709  \n",
              "std       0.408892  \n",
              "min       1.000000  \n",
              "25%       1.000000  \n",
              "50%       1.000000  \n",
              "75%       1.000000  \n",
              "max       8.000000  "
            ],
            "text/html": [
              "\n",
              "  <div id=\"df-1ec58f9c-21d6-4233-bd69-86d377a4bc16\">\n",
              "    <div class=\"colab-df-container\">\n",
              "      <div>\n",
              "<style scoped>\n",
              "    .dataframe tbody tr th:only-of-type {\n",
              "        vertical-align: middle;\n",
              "    }\n",
              "\n",
              "    .dataframe tbody tr th {\n",
              "        vertical-align: top;\n",
              "    }\n",
              "\n",
              "    .dataframe thead th {\n",
              "        text-align: right;\n",
              "    }\n",
              "</style>\n",
              "<table border=\"1\" class=\"dataframe\">\n",
              "  <thead>\n",
              "    <tr style=\"text-align: right;\">\n",
              "      <th></th>\n",
              "      <th>age</th>\n",
              "      <th>year</th>\n",
              "      <th>gold_medal</th>\n",
              "      <th>silver_medal</th>\n",
              "      <th>brone_medal</th>\n",
              "      <th>total_medal</th>\n",
              "    </tr>\n",
              "  </thead>\n",
              "  <tbody>\n",
              "    <tr>\n",
              "      <th>count</th>\n",
              "      <td>8613.000000</td>\n",
              "      <td>8618.000000</td>\n",
              "      <td>8618.000000</td>\n",
              "      <td>8618.000000</td>\n",
              "      <td>8618.000000</td>\n",
              "      <td>8618.000000</td>\n",
              "    </tr>\n",
              "    <tr>\n",
              "      <th>mean</th>\n",
              "      <td>26.405434</td>\n",
              "      <td>2005.978881</td>\n",
              "      <td>0.364702</td>\n",
              "      <td>0.363309</td>\n",
              "      <td>0.377698</td>\n",
              "      <td>1.105709</td>\n",
              "    </tr>\n",
              "    <tr>\n",
              "      <th>std</th>\n",
              "      <td>5.102118</td>\n",
              "      <td>4.289946</td>\n",
              "      <td>0.545349</td>\n",
              "      <td>0.511613</td>\n",
              "      <td>0.505005</td>\n",
              "      <td>0.408892</td>\n",
              "    </tr>\n",
              "    <tr>\n",
              "      <th>min</th>\n",
              "      <td>15.000000</td>\n",
              "      <td>2000.000000</td>\n",
              "      <td>0.000000</td>\n",
              "      <td>0.000000</td>\n",
              "      <td>0.000000</td>\n",
              "      <td>1.000000</td>\n",
              "    </tr>\n",
              "    <tr>\n",
              "      <th>25%</th>\n",
              "      <td>23.000000</td>\n",
              "      <td>2002.000000</td>\n",
              "      <td>0.000000</td>\n",
              "      <td>0.000000</td>\n",
              "      <td>0.000000</td>\n",
              "      <td>1.000000</td>\n",
              "    </tr>\n",
              "    <tr>\n",
              "      <th>50%</th>\n",
              "      <td>26.000000</td>\n",
              "      <td>2006.000000</td>\n",
              "      <td>0.000000</td>\n",
              "      <td>0.000000</td>\n",
              "      <td>0.000000</td>\n",
              "      <td>1.000000</td>\n",
              "    </tr>\n",
              "    <tr>\n",
              "      <th>75%</th>\n",
              "      <td>29.000000</td>\n",
              "      <td>2010.000000</td>\n",
              "      <td>1.000000</td>\n",
              "      <td>1.000000</td>\n",
              "      <td>1.000000</td>\n",
              "      <td>1.000000</td>\n",
              "    </tr>\n",
              "    <tr>\n",
              "      <th>max</th>\n",
              "      <td>61.000000</td>\n",
              "      <td>2012.000000</td>\n",
              "      <td>8.000000</td>\n",
              "      <td>3.000000</td>\n",
              "      <td>3.000000</td>\n",
              "      <td>8.000000</td>\n",
              "    </tr>\n",
              "  </tbody>\n",
              "</table>\n",
              "</div>\n",
              "      <button class=\"colab-df-convert\" onclick=\"convertToInteractive('df-1ec58f9c-21d6-4233-bd69-86d377a4bc16')\"\n",
              "              title=\"Convert this dataframe to an interactive table.\"\n",
              "              style=\"display:none;\">\n",
              "        \n",
              "  <svg xmlns=\"http://www.w3.org/2000/svg\" height=\"24px\"viewBox=\"0 0 24 24\"\n",
              "       width=\"24px\">\n",
              "    <path d=\"M0 0h24v24H0V0z\" fill=\"none\"/>\n",
              "    <path d=\"M18.56 5.44l.94 2.06.94-2.06 2.06-.94-2.06-.94-.94-2.06-.94 2.06-2.06.94zm-11 1L8.5 8.5l.94-2.06 2.06-.94-2.06-.94L8.5 2.5l-.94 2.06-2.06.94zm10 10l.94 2.06.94-2.06 2.06-.94-2.06-.94-.94-2.06-.94 2.06-2.06.94z\"/><path d=\"M17.41 7.96l-1.37-1.37c-.4-.4-.92-.59-1.43-.59-.52 0-1.04.2-1.43.59L10.3 9.45l-7.72 7.72c-.78.78-.78 2.05 0 2.83L4 21.41c.39.39.9.59 1.41.59.51 0 1.02-.2 1.41-.59l7.78-7.78 2.81-2.81c.8-.78.8-2.07 0-2.86zM5.41 20L4 18.59l7.72-7.72 1.47 1.35L5.41 20z\"/>\n",
              "  </svg>\n",
              "      </button>\n",
              "      \n",
              "  <style>\n",
              "    .colab-df-container {\n",
              "      display:flex;\n",
              "      flex-wrap:wrap;\n",
              "      gap: 12px;\n",
              "    }\n",
              "\n",
              "    .colab-df-convert {\n",
              "      background-color: #E8F0FE;\n",
              "      border: none;\n",
              "      border-radius: 50%;\n",
              "      cursor: pointer;\n",
              "      display: none;\n",
              "      fill: #1967D2;\n",
              "      height: 32px;\n",
              "      padding: 0 0 0 0;\n",
              "      width: 32px;\n",
              "    }\n",
              "\n",
              "    .colab-df-convert:hover {\n",
              "      background-color: #E2EBFA;\n",
              "      box-shadow: 0px 1px 2px rgba(60, 64, 67, 0.3), 0px 1px 3px 1px rgba(60, 64, 67, 0.15);\n",
              "      fill: #174EA6;\n",
              "    }\n",
              "\n",
              "    [theme=dark] .colab-df-convert {\n",
              "      background-color: #3B4455;\n",
              "      fill: #D2E3FC;\n",
              "    }\n",
              "\n",
              "    [theme=dark] .colab-df-convert:hover {\n",
              "      background-color: #434B5C;\n",
              "      box-shadow: 0px 1px 3px 1px rgba(0, 0, 0, 0.15);\n",
              "      filter: drop-shadow(0px 1px 2px rgba(0, 0, 0, 0.3));\n",
              "      fill: #FFFFFF;\n",
              "    }\n",
              "  </style>\n",
              "\n",
              "      <script>\n",
              "        const buttonEl =\n",
              "          document.querySelector('#df-1ec58f9c-21d6-4233-bd69-86d377a4bc16 button.colab-df-convert');\n",
              "        buttonEl.style.display =\n",
              "          google.colab.kernel.accessAllowed ? 'block' : 'none';\n",
              "\n",
              "        async function convertToInteractive(key) {\n",
              "          const element = document.querySelector('#df-1ec58f9c-21d6-4233-bd69-86d377a4bc16');\n",
              "          const dataTable =\n",
              "            await google.colab.kernel.invokeFunction('convertToInteractive',\n",
              "                                                     [key], {});\n",
              "          if (!dataTable) return;\n",
              "\n",
              "          const docLinkHtml = 'Like what you see? Visit the ' +\n",
              "            '<a target=\"_blank\" href=https://colab.research.google.com/notebooks/data_table.ipynb>data table notebook</a>'\n",
              "            + ' to learn more about interactive tables.';\n",
              "          element.innerHTML = '';\n",
              "          dataTable['output_type'] = 'display_data';\n",
              "          await google.colab.output.renderOutput(dataTable, element);\n",
              "          const docLink = document.createElement('div');\n",
              "          docLink.innerHTML = docLinkHtml;\n",
              "          element.appendChild(docLink);\n",
              "        }\n",
              "      </script>\n",
              "    </div>\n",
              "  </div>\n",
              "  "
            ]
          },
          "metadata": {},
          "execution_count": 11
        }
      ]
    },
    {
      "cell_type": "markdown",
      "source": [
        "## Checking the null values and removing the null values."
      ],
      "metadata": {
        "id": "Kw4awlHJKzyh"
      }
    },
    {
      "cell_type": "code",
      "source": [
        "olympix_data=olympix.copy() # copying the data from one to another variable"
      ],
      "metadata": {
        "id": "_xlKDEJd-vyb"
      },
      "execution_count": null,
      "outputs": []
    },
    {
      "cell_type": "code",
      "source": [
        "olympix_data.isnull().sum() # checking the null values"
      ],
      "metadata": {
        "colab": {
          "base_uri": "https://localhost:8080/"
        },
        "id": "rhZOoDce-0QP",
        "outputId": "f99a7b2d-6a8a-4924-c276-7b6b83f62ccb"
      },
      "execution_count": null,
      "outputs": [
        {
          "output_type": "execute_result",
          "data": {
            "text/plain": [
              "name            5\n",
              "age             5\n",
              "country         0\n",
              "year            0\n",
              "Date_Given      0\n",
              "sports          0\n",
              "gold_medal      0\n",
              "silver_medal    0\n",
              "brone_medal     0\n",
              "total_medal     0\n",
              "New_name        5\n",
              "dtype: int64"
            ]
          },
          "metadata": {},
          "execution_count": 35
        }
      ]
    },
    {
      "cell_type": "markdown",
      "source": [
        "We can see that there are null values in name and age column.\n",
        "\n",
        "\n"
      ],
      "metadata": {
        "id": "A18rxD2E6NIt"
      }
    },
    {
      "cell_type": "code",
      "source": [
        "olympix_data.info() # checking the information of the dataset"
      ],
      "metadata": {
        "colab": {
          "base_uri": "https://localhost:8080/"
        },
        "id": "ukAR_5oNRnk6",
        "outputId": "4df59161-4119-4a3b-d442-1c6181f93fcc"
      },
      "execution_count": null,
      "outputs": [
        {
          "output_type": "stream",
          "name": "stdout",
          "text": [
            "<class 'pandas.core.frame.DataFrame'>\n",
            "Int64Index: 8613 entries, 0 to 8617\n",
            "Data columns (total 11 columns):\n",
            " #   Column        Non-Null Count  Dtype  \n",
            "---  ------        --------------  -----  \n",
            " 0   name          8613 non-null   object \n",
            " 1   age           8613 non-null   float64\n",
            " 2   country       8613 non-null   object \n",
            " 3   year          8613 non-null   int64  \n",
            " 4   Date_Given    8613 non-null   object \n",
            " 5   sports        8613 non-null   object \n",
            " 6   gold_medal    8613 non-null   int64  \n",
            " 7   silver_medal  8613 non-null   int64  \n",
            " 8   brone_medal   8613 non-null   int64  \n",
            " 9   total_medal   8613 non-null   int64  \n",
            " 10  New_name      8613 non-null   object \n",
            "dtypes: float64(1), int64(5), object(5)\n",
            "memory usage: 807.5+ KB\n"
          ]
        }
      ]
    },
    {
      "cell_type": "code",
      "source": [
        "olympix_data=olympix_data.dropna()# removing null values\n"
      ],
      "metadata": {
        "id": "4nCAPofyRZd0"
      },
      "execution_count": null,
      "outputs": []
    },
    {
      "cell_type": "code",
      "source": [
        "olympix_data.isnull().sum() #checking the removed null values"
      ],
      "metadata": {
        "colab": {
          "base_uri": "https://localhost:8080/"
        },
        "id": "mfxl3U0uRau_",
        "outputId": "8d850dae-c757-4b5a-b483-762fedb93b06"
      },
      "execution_count": null,
      "outputs": [
        {
          "output_type": "execute_result",
          "data": {
            "text/plain": [
              "name            0\n",
              "age             0\n",
              "country         0\n",
              "year            0\n",
              "Date_Given      0\n",
              "sports          0\n",
              "gold_medal      0\n",
              "silver_medal    0\n",
              "brone_medal     0\n",
              "total_medal     0\n",
              "New_name        0\n",
              "dtype: int64"
            ]
          },
          "metadata": {},
          "execution_count": 40
        }
      ]
    },
    {
      "cell_type": "markdown",
      "source": [
        "Here We can see that all missing values are present in name and age column and removed the null values."
      ],
      "metadata": {
        "id": "JZJ0sYjQWjGN"
      }
    },
    {
      "cell_type": "markdown",
      "source": [
        "## Dropping the Duplicates"
      ],
      "metadata": {
        "id": "WqaU-sOeOW-P"
      }
    },
    {
      "cell_type": "code",
      "source": [
        "olympix_data.drop_duplicates(subset=None, keep='first', inplace=False) # dropping the dupplicate values using the drop function\n"
      ],
      "metadata": {
        "colab": {
          "base_uri": "https://localhost:8080/",
          "height": 253
        },
        "id": "-3cloG72O0K4",
        "outputId": "f575a26a-25c7-4871-edda-4c882067ab5b"
      },
      "execution_count": null,
      "outputs": [
        {
          "output_type": "execute_result",
          "data": {
            "text/plain": [
              "               name   age        country  year  Date_Given      sports  \\\n",
              "6068  Peter Charles  52.0  Great Britain  2012  08-12-2012  Equestrian   \n",
              "6087   Nick Skelton  54.0  Great Britain  2012  08-12-2012  Equestrian   \n",
              "6098       Mac Cone  55.0         Canada  2008   8/24/2008  Equestrian   \n",
              "6115     Ian Millar  61.0         Canada  2008   8/24/2008  Equestrian   \n",
              "\n",
              "      gold_medal  silver_medal  brone_medal  total_medal  \n",
              "6068           1             0            0            1  \n",
              "6087           1             0            0            1  \n",
              "6098           0             1            0            1  \n",
              "6115           0             1            0            1  "
            ],
            "text/html": [
              "\n",
              "  <div id=\"df-02279401-d74d-44ba-8223-fbc6c0197fdc\">\n",
              "    <div class=\"colab-df-container\">\n",
              "      <div>\n",
              "<style scoped>\n",
              "    .dataframe tbody tr th:only-of-type {\n",
              "        vertical-align: middle;\n",
              "    }\n",
              "\n",
              "    .dataframe tbody tr th {\n",
              "        vertical-align: top;\n",
              "    }\n",
              "\n",
              "    .dataframe thead th {\n",
              "        text-align: right;\n",
              "    }\n",
              "</style>\n",
              "<table border=\"1\" class=\"dataframe\">\n",
              "  <thead>\n",
              "    <tr style=\"text-align: right;\">\n",
              "      <th></th>\n",
              "      <th>name</th>\n",
              "      <th>age</th>\n",
              "      <th>country</th>\n",
              "      <th>year</th>\n",
              "      <th>Date_Given</th>\n",
              "      <th>sports</th>\n",
              "      <th>gold_medal</th>\n",
              "      <th>silver_medal</th>\n",
              "      <th>brone_medal</th>\n",
              "      <th>total_medal</th>\n",
              "    </tr>\n",
              "  </thead>\n",
              "  <tbody>\n",
              "    <tr>\n",
              "      <th>6068</th>\n",
              "      <td>Peter Charles</td>\n",
              "      <td>52.0</td>\n",
              "      <td>Great Britain</td>\n",
              "      <td>2012</td>\n",
              "      <td>08-12-2012</td>\n",
              "      <td>Equestrian</td>\n",
              "      <td>1</td>\n",
              "      <td>0</td>\n",
              "      <td>0</td>\n",
              "      <td>1</td>\n",
              "    </tr>\n",
              "    <tr>\n",
              "      <th>6087</th>\n",
              "      <td>Nick Skelton</td>\n",
              "      <td>54.0</td>\n",
              "      <td>Great Britain</td>\n",
              "      <td>2012</td>\n",
              "      <td>08-12-2012</td>\n",
              "      <td>Equestrian</td>\n",
              "      <td>1</td>\n",
              "      <td>0</td>\n",
              "      <td>0</td>\n",
              "      <td>1</td>\n",
              "    </tr>\n",
              "    <tr>\n",
              "      <th>6098</th>\n",
              "      <td>Mac Cone</td>\n",
              "      <td>55.0</td>\n",
              "      <td>Canada</td>\n",
              "      <td>2008</td>\n",
              "      <td>8/24/2008</td>\n",
              "      <td>Equestrian</td>\n",
              "      <td>0</td>\n",
              "      <td>1</td>\n",
              "      <td>0</td>\n",
              "      <td>1</td>\n",
              "    </tr>\n",
              "    <tr>\n",
              "      <th>6115</th>\n",
              "      <td>Ian Millar</td>\n",
              "      <td>61.0</td>\n",
              "      <td>Canada</td>\n",
              "      <td>2008</td>\n",
              "      <td>8/24/2008</td>\n",
              "      <td>Equestrian</td>\n",
              "      <td>0</td>\n",
              "      <td>1</td>\n",
              "      <td>0</td>\n",
              "      <td>1</td>\n",
              "    </tr>\n",
              "  </tbody>\n",
              "</table>\n",
              "</div>\n",
              "      <button class=\"colab-df-convert\" onclick=\"convertToInteractive('df-02279401-d74d-44ba-8223-fbc6c0197fdc')\"\n",
              "              title=\"Convert this dataframe to an interactive table.\"\n",
              "              style=\"display:none;\">\n",
              "        \n",
              "  <svg xmlns=\"http://www.w3.org/2000/svg\" height=\"24px\"viewBox=\"0 0 24 24\"\n",
              "       width=\"24px\">\n",
              "    <path d=\"M0 0h24v24H0V0z\" fill=\"none\"/>\n",
              "    <path d=\"M18.56 5.44l.94 2.06.94-2.06 2.06-.94-2.06-.94-.94-2.06-.94 2.06-2.06.94zm-11 1L8.5 8.5l.94-2.06 2.06-.94-2.06-.94L8.5 2.5l-.94 2.06-2.06.94zm10 10l.94 2.06.94-2.06 2.06-.94-2.06-.94-.94-2.06-.94 2.06-2.06.94z\"/><path d=\"M17.41 7.96l-1.37-1.37c-.4-.4-.92-.59-1.43-.59-.52 0-1.04.2-1.43.59L10.3 9.45l-7.72 7.72c-.78.78-.78 2.05 0 2.83L4 21.41c.39.39.9.59 1.41.59.51 0 1.02-.2 1.41-.59l7.78-7.78 2.81-2.81c.8-.78.8-2.07 0-2.86zM5.41 20L4 18.59l7.72-7.72 1.47 1.35L5.41 20z\"/>\n",
              "  </svg>\n",
              "      </button>\n",
              "      \n",
              "  <style>\n",
              "    .colab-df-container {\n",
              "      display:flex;\n",
              "      flex-wrap:wrap;\n",
              "      gap: 12px;\n",
              "    }\n",
              "\n",
              "    .colab-df-convert {\n",
              "      background-color: #E8F0FE;\n",
              "      border: none;\n",
              "      border-radius: 50%;\n",
              "      cursor: pointer;\n",
              "      display: none;\n",
              "      fill: #1967D2;\n",
              "      height: 32px;\n",
              "      padding: 0 0 0 0;\n",
              "      width: 32px;\n",
              "    }\n",
              "\n",
              "    .colab-df-convert:hover {\n",
              "      background-color: #E2EBFA;\n",
              "      box-shadow: 0px 1px 2px rgba(60, 64, 67, 0.3), 0px 1px 3px 1px rgba(60, 64, 67, 0.15);\n",
              "      fill: #174EA6;\n",
              "    }\n",
              "\n",
              "    [theme=dark] .colab-df-convert {\n",
              "      background-color: #3B4455;\n",
              "      fill: #D2E3FC;\n",
              "    }\n",
              "\n",
              "    [theme=dark] .colab-df-convert:hover {\n",
              "      background-color: #434B5C;\n",
              "      box-shadow: 0px 1px 3px 1px rgba(0, 0, 0, 0.15);\n",
              "      filter: drop-shadow(0px 1px 2px rgba(0, 0, 0, 0.3));\n",
              "      fill: #FFFFFF;\n",
              "    }\n",
              "  </style>\n",
              "\n",
              "      <script>\n",
              "        const buttonEl =\n",
              "          document.querySelector('#df-02279401-d74d-44ba-8223-fbc6c0197fdc button.colab-df-convert');\n",
              "        buttonEl.style.display =\n",
              "          google.colab.kernel.accessAllowed ? 'block' : 'none';\n",
              "\n",
              "        async function convertToInteractive(key) {\n",
              "          const element = document.querySelector('#df-02279401-d74d-44ba-8223-fbc6c0197fdc');\n",
              "          const dataTable =\n",
              "            await google.colab.kernel.invokeFunction('convertToInteractive',\n",
              "                                                     [key], {});\n",
              "          if (!dataTable) return;\n",
              "\n",
              "          const docLinkHtml = 'Like what you see? Visit the ' +\n",
              "            '<a target=\"_blank\" href=https://colab.research.google.com/notebooks/data_table.ipynb>data table notebook</a>'\n",
              "            + ' to learn more about interactive tables.';\n",
              "          element.innerHTML = '';\n",
              "          dataTable['output_type'] = 'display_data';\n",
              "          await google.colab.output.renderOutput(dataTable, element);\n",
              "          const docLink = document.createElement('div');\n",
              "          docLink.innerHTML = docLinkHtml;\n",
              "          element.appendChild(docLink);\n",
              "        }\n",
              "      </script>\n",
              "    </div>\n",
              "  </div>\n",
              "  "
            ]
          },
          "metadata": {},
          "execution_count": 59
        }
      ]
    },
    {
      "cell_type": "code",
      "source": [
        "olympix_data.head() # checking the head function of the dataset"
      ],
      "metadata": {
        "colab": {
          "base_uri": "https://localhost:8080/",
          "height": 253
        },
        "id": "zjdK0VzyO2bJ",
        "outputId": "295f5d66-ae0d-4228-a2d0-89507158594a"
      },
      "execution_count": null,
      "outputs": [
        {
          "output_type": "execute_result",
          "data": {
            "text/plain": [
              "               name   age        country  year  Date_Given      sports  \\\n",
              "6068  Peter Charles  52.0  Great Britain  2012  08-12-2012  Equestrian   \n",
              "6087   Nick Skelton  54.0  Great Britain  2012  08-12-2012  Equestrian   \n",
              "6098       Mac Cone  55.0         Canada  2008   8/24/2008  Equestrian   \n",
              "6115     Ian Millar  61.0         Canada  2008   8/24/2008  Equestrian   \n",
              "\n",
              "      gold_medal  silver_medal  brone_medal  total_medal  \n",
              "6068           1             0            0            1  \n",
              "6087           1             0            0            1  \n",
              "6098           0             1            0            1  \n",
              "6115           0             1            0            1  "
            ],
            "text/html": [
              "\n",
              "  <div id=\"df-bbc80cd6-2d8c-4b59-8de0-b63c3bba83fe\">\n",
              "    <div class=\"colab-df-container\">\n",
              "      <div>\n",
              "<style scoped>\n",
              "    .dataframe tbody tr th:only-of-type {\n",
              "        vertical-align: middle;\n",
              "    }\n",
              "\n",
              "    .dataframe tbody tr th {\n",
              "        vertical-align: top;\n",
              "    }\n",
              "\n",
              "    .dataframe thead th {\n",
              "        text-align: right;\n",
              "    }\n",
              "</style>\n",
              "<table border=\"1\" class=\"dataframe\">\n",
              "  <thead>\n",
              "    <tr style=\"text-align: right;\">\n",
              "      <th></th>\n",
              "      <th>name</th>\n",
              "      <th>age</th>\n",
              "      <th>country</th>\n",
              "      <th>year</th>\n",
              "      <th>Date_Given</th>\n",
              "      <th>sports</th>\n",
              "      <th>gold_medal</th>\n",
              "      <th>silver_medal</th>\n",
              "      <th>brone_medal</th>\n",
              "      <th>total_medal</th>\n",
              "    </tr>\n",
              "  </thead>\n",
              "  <tbody>\n",
              "    <tr>\n",
              "      <th>6068</th>\n",
              "      <td>Peter Charles</td>\n",
              "      <td>52.0</td>\n",
              "      <td>Great Britain</td>\n",
              "      <td>2012</td>\n",
              "      <td>08-12-2012</td>\n",
              "      <td>Equestrian</td>\n",
              "      <td>1</td>\n",
              "      <td>0</td>\n",
              "      <td>0</td>\n",
              "      <td>1</td>\n",
              "    </tr>\n",
              "    <tr>\n",
              "      <th>6087</th>\n",
              "      <td>Nick Skelton</td>\n",
              "      <td>54.0</td>\n",
              "      <td>Great Britain</td>\n",
              "      <td>2012</td>\n",
              "      <td>08-12-2012</td>\n",
              "      <td>Equestrian</td>\n",
              "      <td>1</td>\n",
              "      <td>0</td>\n",
              "      <td>0</td>\n",
              "      <td>1</td>\n",
              "    </tr>\n",
              "    <tr>\n",
              "      <th>6098</th>\n",
              "      <td>Mac Cone</td>\n",
              "      <td>55.0</td>\n",
              "      <td>Canada</td>\n",
              "      <td>2008</td>\n",
              "      <td>8/24/2008</td>\n",
              "      <td>Equestrian</td>\n",
              "      <td>0</td>\n",
              "      <td>1</td>\n",
              "      <td>0</td>\n",
              "      <td>1</td>\n",
              "    </tr>\n",
              "    <tr>\n",
              "      <th>6115</th>\n",
              "      <td>Ian Millar</td>\n",
              "      <td>61.0</td>\n",
              "      <td>Canada</td>\n",
              "      <td>2008</td>\n",
              "      <td>8/24/2008</td>\n",
              "      <td>Equestrian</td>\n",
              "      <td>0</td>\n",
              "      <td>1</td>\n",
              "      <td>0</td>\n",
              "      <td>1</td>\n",
              "    </tr>\n",
              "  </tbody>\n",
              "</table>\n",
              "</div>\n",
              "      <button class=\"colab-df-convert\" onclick=\"convertToInteractive('df-bbc80cd6-2d8c-4b59-8de0-b63c3bba83fe')\"\n",
              "              title=\"Convert this dataframe to an interactive table.\"\n",
              "              style=\"display:none;\">\n",
              "        \n",
              "  <svg xmlns=\"http://www.w3.org/2000/svg\" height=\"24px\"viewBox=\"0 0 24 24\"\n",
              "       width=\"24px\">\n",
              "    <path d=\"M0 0h24v24H0V0z\" fill=\"none\"/>\n",
              "    <path d=\"M18.56 5.44l.94 2.06.94-2.06 2.06-.94-2.06-.94-.94-2.06-.94 2.06-2.06.94zm-11 1L8.5 8.5l.94-2.06 2.06-.94-2.06-.94L8.5 2.5l-.94 2.06-2.06.94zm10 10l.94 2.06.94-2.06 2.06-.94-2.06-.94-.94-2.06-.94 2.06-2.06.94z\"/><path d=\"M17.41 7.96l-1.37-1.37c-.4-.4-.92-.59-1.43-.59-.52 0-1.04.2-1.43.59L10.3 9.45l-7.72 7.72c-.78.78-.78 2.05 0 2.83L4 21.41c.39.39.9.59 1.41.59.51 0 1.02-.2 1.41-.59l7.78-7.78 2.81-2.81c.8-.78.8-2.07 0-2.86zM5.41 20L4 18.59l7.72-7.72 1.47 1.35L5.41 20z\"/>\n",
              "  </svg>\n",
              "      </button>\n",
              "      \n",
              "  <style>\n",
              "    .colab-df-container {\n",
              "      display:flex;\n",
              "      flex-wrap:wrap;\n",
              "      gap: 12px;\n",
              "    }\n",
              "\n",
              "    .colab-df-convert {\n",
              "      background-color: #E8F0FE;\n",
              "      border: none;\n",
              "      border-radius: 50%;\n",
              "      cursor: pointer;\n",
              "      display: none;\n",
              "      fill: #1967D2;\n",
              "      height: 32px;\n",
              "      padding: 0 0 0 0;\n",
              "      width: 32px;\n",
              "    }\n",
              "\n",
              "    .colab-df-convert:hover {\n",
              "      background-color: #E2EBFA;\n",
              "      box-shadow: 0px 1px 2px rgba(60, 64, 67, 0.3), 0px 1px 3px 1px rgba(60, 64, 67, 0.15);\n",
              "      fill: #174EA6;\n",
              "    }\n",
              "\n",
              "    [theme=dark] .colab-df-convert {\n",
              "      background-color: #3B4455;\n",
              "      fill: #D2E3FC;\n",
              "    }\n",
              "\n",
              "    [theme=dark] .colab-df-convert:hover {\n",
              "      background-color: #434B5C;\n",
              "      box-shadow: 0px 1px 3px 1px rgba(0, 0, 0, 0.15);\n",
              "      filter: drop-shadow(0px 1px 2px rgba(0, 0, 0, 0.3));\n",
              "      fill: #FFFFFF;\n",
              "    }\n",
              "  </style>\n",
              "\n",
              "      <script>\n",
              "        const buttonEl =\n",
              "          document.querySelector('#df-bbc80cd6-2d8c-4b59-8de0-b63c3bba83fe button.colab-df-convert');\n",
              "        buttonEl.style.display =\n",
              "          google.colab.kernel.accessAllowed ? 'block' : 'none';\n",
              "\n",
              "        async function convertToInteractive(key) {\n",
              "          const element = document.querySelector('#df-bbc80cd6-2d8c-4b59-8de0-b63c3bba83fe');\n",
              "          const dataTable =\n",
              "            await google.colab.kernel.invokeFunction('convertToInteractive',\n",
              "                                                     [key], {});\n",
              "          if (!dataTable) return;\n",
              "\n",
              "          const docLinkHtml = 'Like what you see? Visit the ' +\n",
              "            '<a target=\"_blank\" href=https://colab.research.google.com/notebooks/data_table.ipynb>data table notebook</a>'\n",
              "            + ' to learn more about interactive tables.';\n",
              "          element.innerHTML = '';\n",
              "          dataTable['output_type'] = 'display_data';\n",
              "          await google.colab.output.renderOutput(dataTable, element);\n",
              "          const docLink = document.createElement('div');\n",
              "          docLink.innerHTML = docLinkHtml;\n",
              "          element.appendChild(docLink);\n",
              "        }\n",
              "      </script>\n",
              "    </div>\n",
              "  </div>\n",
              "  "
            ]
          },
          "metadata": {},
          "execution_count": 60
        }
      ]
    },
    {
      "cell_type": "code",
      "source": [
        "olympix_data=olympix_data.drop_duplicates()# droping duplicate values\n"
      ],
      "metadata": {
        "id": "Ocz_IRIfR0dK"
      },
      "execution_count": null,
      "outputs": []
    },
    {
      "cell_type": "markdown",
      "source": [
        "Here we are dropping the null values from the dataset using the drop function to decrease the duplicate values."
      ],
      "metadata": {
        "id": "Hkuf2Wpa01qH"
      }
    },
    {
      "cell_type": "code",
      "source": [
        "olympix_data.head() # checking the dataset using head function"
      ],
      "metadata": {
        "colab": {
          "base_uri": "https://localhost:8080/",
          "height": 357
        },
        "id": "VrOMFKHvO-bL",
        "outputId": "6e78ad1d-d6ed-468b-aa72-36c7b8e1eeae"
      },
      "execution_count": null,
      "outputs": [
        {
          "output_type": "execute_result",
          "data": {
            "text/plain": [
              "               name   age        country  year  Date_Given      sports  \\\n",
              "0    Michael Phelps  23.0  United States  2008   8/24/2008    Swimming   \n",
              "1    Michael Phelps  19.0  United States  2004   8/29/2004    Swimming   \n",
              "2    Michael Phelps  27.0  United States  2012  08-12-2012    Swimming   \n",
              "3  Natalie Coughlin  25.0  United States  2008   8/24/2008    Swimming   \n",
              "4     Aleksey Nemov  24.0         Russia  2000  10-01-2000  Gymnastics   \n",
              "\n",
              "   gold_medal  silver_medal  brone_medal  total_medal          New_name  \n",
              "0           8             0            0            8    Michael Phelps  \n",
              "1           6             0            2            8    Michael Phelps  \n",
              "2           4             2            0            6    Michael Phelps  \n",
              "3           1             2            3            6  Natalie Coughlin  \n",
              "4           2             1            3            6     Aleksey Nemov  "
            ],
            "text/html": [
              "\n",
              "  <div id=\"df-e1381781-1dd8-4e6a-bb5b-86d4ef5712ba\">\n",
              "    <div class=\"colab-df-container\">\n",
              "      <div>\n",
              "<style scoped>\n",
              "    .dataframe tbody tr th:only-of-type {\n",
              "        vertical-align: middle;\n",
              "    }\n",
              "\n",
              "    .dataframe tbody tr th {\n",
              "        vertical-align: top;\n",
              "    }\n",
              "\n",
              "    .dataframe thead th {\n",
              "        text-align: right;\n",
              "    }\n",
              "</style>\n",
              "<table border=\"1\" class=\"dataframe\">\n",
              "  <thead>\n",
              "    <tr style=\"text-align: right;\">\n",
              "      <th></th>\n",
              "      <th>name</th>\n",
              "      <th>age</th>\n",
              "      <th>country</th>\n",
              "      <th>year</th>\n",
              "      <th>Date_Given</th>\n",
              "      <th>sports</th>\n",
              "      <th>gold_medal</th>\n",
              "      <th>silver_medal</th>\n",
              "      <th>brone_medal</th>\n",
              "      <th>total_medal</th>\n",
              "      <th>New_name</th>\n",
              "    </tr>\n",
              "  </thead>\n",
              "  <tbody>\n",
              "    <tr>\n",
              "      <th>0</th>\n",
              "      <td>Michael Phelps</td>\n",
              "      <td>23.0</td>\n",
              "      <td>United States</td>\n",
              "      <td>2008</td>\n",
              "      <td>8/24/2008</td>\n",
              "      <td>Swimming</td>\n",
              "      <td>8</td>\n",
              "      <td>0</td>\n",
              "      <td>0</td>\n",
              "      <td>8</td>\n",
              "      <td>Michael Phelps</td>\n",
              "    </tr>\n",
              "    <tr>\n",
              "      <th>1</th>\n",
              "      <td>Michael Phelps</td>\n",
              "      <td>19.0</td>\n",
              "      <td>United States</td>\n",
              "      <td>2004</td>\n",
              "      <td>8/29/2004</td>\n",
              "      <td>Swimming</td>\n",
              "      <td>6</td>\n",
              "      <td>0</td>\n",
              "      <td>2</td>\n",
              "      <td>8</td>\n",
              "      <td>Michael Phelps</td>\n",
              "    </tr>\n",
              "    <tr>\n",
              "      <th>2</th>\n",
              "      <td>Michael Phelps</td>\n",
              "      <td>27.0</td>\n",
              "      <td>United States</td>\n",
              "      <td>2012</td>\n",
              "      <td>08-12-2012</td>\n",
              "      <td>Swimming</td>\n",
              "      <td>4</td>\n",
              "      <td>2</td>\n",
              "      <td>0</td>\n",
              "      <td>6</td>\n",
              "      <td>Michael Phelps</td>\n",
              "    </tr>\n",
              "    <tr>\n",
              "      <th>3</th>\n",
              "      <td>Natalie Coughlin</td>\n",
              "      <td>25.0</td>\n",
              "      <td>United States</td>\n",
              "      <td>2008</td>\n",
              "      <td>8/24/2008</td>\n",
              "      <td>Swimming</td>\n",
              "      <td>1</td>\n",
              "      <td>2</td>\n",
              "      <td>3</td>\n",
              "      <td>6</td>\n",
              "      <td>Natalie Coughlin</td>\n",
              "    </tr>\n",
              "    <tr>\n",
              "      <th>4</th>\n",
              "      <td>Aleksey Nemov</td>\n",
              "      <td>24.0</td>\n",
              "      <td>Russia</td>\n",
              "      <td>2000</td>\n",
              "      <td>10-01-2000</td>\n",
              "      <td>Gymnastics</td>\n",
              "      <td>2</td>\n",
              "      <td>1</td>\n",
              "      <td>3</td>\n",
              "      <td>6</td>\n",
              "      <td>Aleksey Nemov</td>\n",
              "    </tr>\n",
              "  </tbody>\n",
              "</table>\n",
              "</div>\n",
              "      <button class=\"colab-df-convert\" onclick=\"convertToInteractive('df-e1381781-1dd8-4e6a-bb5b-86d4ef5712ba')\"\n",
              "              title=\"Convert this dataframe to an interactive table.\"\n",
              "              style=\"display:none;\">\n",
              "        \n",
              "  <svg xmlns=\"http://www.w3.org/2000/svg\" height=\"24px\"viewBox=\"0 0 24 24\"\n",
              "       width=\"24px\">\n",
              "    <path d=\"M0 0h24v24H0V0z\" fill=\"none\"/>\n",
              "    <path d=\"M18.56 5.44l.94 2.06.94-2.06 2.06-.94-2.06-.94-.94-2.06-.94 2.06-2.06.94zm-11 1L8.5 8.5l.94-2.06 2.06-.94-2.06-.94L8.5 2.5l-.94 2.06-2.06.94zm10 10l.94 2.06.94-2.06 2.06-.94-2.06-.94-.94-2.06-.94 2.06-2.06.94z\"/><path d=\"M17.41 7.96l-1.37-1.37c-.4-.4-.92-.59-1.43-.59-.52 0-1.04.2-1.43.59L10.3 9.45l-7.72 7.72c-.78.78-.78 2.05 0 2.83L4 21.41c.39.39.9.59 1.41.59.51 0 1.02-.2 1.41-.59l7.78-7.78 2.81-2.81c.8-.78.8-2.07 0-2.86zM5.41 20L4 18.59l7.72-7.72 1.47 1.35L5.41 20z\"/>\n",
              "  </svg>\n",
              "      </button>\n",
              "      \n",
              "  <style>\n",
              "    .colab-df-container {\n",
              "      display:flex;\n",
              "      flex-wrap:wrap;\n",
              "      gap: 12px;\n",
              "    }\n",
              "\n",
              "    .colab-df-convert {\n",
              "      background-color: #E8F0FE;\n",
              "      border: none;\n",
              "      border-radius: 50%;\n",
              "      cursor: pointer;\n",
              "      display: none;\n",
              "      fill: #1967D2;\n",
              "      height: 32px;\n",
              "      padding: 0 0 0 0;\n",
              "      width: 32px;\n",
              "    }\n",
              "\n",
              "    .colab-df-convert:hover {\n",
              "      background-color: #E2EBFA;\n",
              "      box-shadow: 0px 1px 2px rgba(60, 64, 67, 0.3), 0px 1px 3px 1px rgba(60, 64, 67, 0.15);\n",
              "      fill: #174EA6;\n",
              "    }\n",
              "\n",
              "    [theme=dark] .colab-df-convert {\n",
              "      background-color: #3B4455;\n",
              "      fill: #D2E3FC;\n",
              "    }\n",
              "\n",
              "    [theme=dark] .colab-df-convert:hover {\n",
              "      background-color: #434B5C;\n",
              "      box-shadow: 0px 1px 3px 1px rgba(0, 0, 0, 0.15);\n",
              "      filter: drop-shadow(0px 1px 2px rgba(0, 0, 0, 0.3));\n",
              "      fill: #FFFFFF;\n",
              "    }\n",
              "  </style>\n",
              "\n",
              "      <script>\n",
              "        const buttonEl =\n",
              "          document.querySelector('#df-e1381781-1dd8-4e6a-bb5b-86d4ef5712ba button.colab-df-convert');\n",
              "        buttonEl.style.display =\n",
              "          google.colab.kernel.accessAllowed ? 'block' : 'none';\n",
              "\n",
              "        async function convertToInteractive(key) {\n",
              "          const element = document.querySelector('#df-e1381781-1dd8-4e6a-bb5b-86d4ef5712ba');\n",
              "          const dataTable =\n",
              "            await google.colab.kernel.invokeFunction('convertToInteractive',\n",
              "                                                     [key], {});\n",
              "          if (!dataTable) return;\n",
              "\n",
              "          const docLinkHtml = 'Like what you see? Visit the ' +\n",
              "            '<a target=\"_blank\" href=https://colab.research.google.com/notebooks/data_table.ipynb>data table notebook</a>'\n",
              "            + ' to learn more about interactive tables.';\n",
              "          element.innerHTML = '';\n",
              "          dataTable['output_type'] = 'display_data';\n",
              "          await google.colab.output.renderOutput(dataTable, element);\n",
              "          const docLink = document.createElement('div');\n",
              "          docLink.innerHTML = docLinkHtml;\n",
              "          element.appendChild(docLink);\n",
              "        }\n",
              "      </script>\n",
              "    </div>\n",
              "  </div>\n",
              "  "
            ]
          },
          "metadata": {},
          "execution_count": 46
        }
      ]
    },
    {
      "cell_type": "code",
      "source": [
        "print(olympix_data.drop_duplicates().value_counts().head()) # counting the values of duplicates\n"
      ],
      "metadata": {
        "colab": {
          "base_uri": "https://localhost:8080/"
        },
        "id": "wtcZ9pLiPRhD",
        "outputId": "62ff4222-5b51-4574-fefe-aa845df214d8"
      },
      "execution_count": null,
      "outputs": [
        {
          "output_type": "stream",
          "name": "stdout",
          "text": [
            "name           age   country        year  Date_Given  sports      gold_medal  silver_medal  brone_medal  total_medal\n",
            "Ian Millar     61.0  Canada         2008  8/24/2008   Equestrian  0           1             0            1              1\n",
            "Mac Cone       55.0  Canada         2008  8/24/2008   Equestrian  0           1             0            1              1\n",
            "Nick Skelton   54.0  Great Britain  2012  08-12-2012  Equestrian  1           0             0            1              1\n",
            "Peter Charles  52.0  Great Britain  2012  08-12-2012  Equestrian  1           0             0            1              1\n",
            "dtype: int64\n"
          ]
        }
      ]
    },
    {
      "cell_type": "markdown",
      "source": [
        "We know that both missing value and duplicate pointing on same row and also lack major attribute and part of team game. So ,dropping this row is effective in two way.First it leads to decrease in bias by droping duplicate value and also handling of missing value.\n",
        "\n"
      ],
      "metadata": {
        "id": "TDpsEM3SWbaf"
      }
    },
    {
      "cell_type": "markdown",
      "source": [
        "## Removing the special characters"
      ],
      "metadata": {
        "id": "Qqeo0jRgCLVg"
      }
    },
    {
      "cell_type": "code",
      "source": [
        "olympix.columns = olympix.columns.str.replace('[#,@,&]', '') # replacing the special characters\n"
      ],
      "metadata": {
        "id": "VR_Su4mWCP4w"
      },
      "execution_count": null,
      "outputs": []
    },
    {
      "cell_type": "code",
      "source": [
        "olympix.head()"
      ],
      "metadata": {
        "colab": {
          "base_uri": "https://localhost:8080/",
          "height": 357
        },
        "id": "nCuAQvh2CUBh",
        "outputId": "6abfc533-3941-4537-e31b-911a824ff3d3"
      },
      "execution_count": null,
      "outputs": [
        {
          "output_type": "execute_result",
          "data": {
            "text/plain": [
              "               name   age        country  year  Date_Given      sports  \\\n",
              "0    Michael Phelps  23.0  United States  2008   8/24/2008    Swimming   \n",
              "1    Michael Phelps  19.0  United States  2004   8/29/2004    Swimming   \n",
              "2    Michael Phelps  27.0  United States  2012  08-12-2012    Swimming   \n",
              "3  Natalie Coughlin  25.0  United States  2008   8/24/2008    Swimming   \n",
              "4     Aleksey Nemov  24.0         Russia  2000  10-01-2000  Gymnastics   \n",
              "\n",
              "   gold_medal  silver_medal  brone_medal  total_medal          New_name  \n",
              "0           8             0            0            8    Michael Phelps  \n",
              "1           6             0            2            8    Michael Phelps  \n",
              "2           4             2            0            6    Michael Phelps  \n",
              "3           1             2            3            6  Natalie Coughlin  \n",
              "4           2             1            3            6     Aleksey Nemov  "
            ],
            "text/html": [
              "\n",
              "  <div id=\"df-ff10be72-ff88-4a23-8a09-98c35fdc7c22\">\n",
              "    <div class=\"colab-df-container\">\n",
              "      <div>\n",
              "<style scoped>\n",
              "    .dataframe tbody tr th:only-of-type {\n",
              "        vertical-align: middle;\n",
              "    }\n",
              "\n",
              "    .dataframe tbody tr th {\n",
              "        vertical-align: top;\n",
              "    }\n",
              "\n",
              "    .dataframe thead th {\n",
              "        text-align: right;\n",
              "    }\n",
              "</style>\n",
              "<table border=\"1\" class=\"dataframe\">\n",
              "  <thead>\n",
              "    <tr style=\"text-align: right;\">\n",
              "      <th></th>\n",
              "      <th>name</th>\n",
              "      <th>age</th>\n",
              "      <th>country</th>\n",
              "      <th>year</th>\n",
              "      <th>Date_Given</th>\n",
              "      <th>sports</th>\n",
              "      <th>gold_medal</th>\n",
              "      <th>silver_medal</th>\n",
              "      <th>brone_medal</th>\n",
              "      <th>total_medal</th>\n",
              "      <th>New_name</th>\n",
              "    </tr>\n",
              "  </thead>\n",
              "  <tbody>\n",
              "    <tr>\n",
              "      <th>0</th>\n",
              "      <td>Michael Phelps</td>\n",
              "      <td>23.0</td>\n",
              "      <td>United States</td>\n",
              "      <td>2008</td>\n",
              "      <td>8/24/2008</td>\n",
              "      <td>Swimming</td>\n",
              "      <td>8</td>\n",
              "      <td>0</td>\n",
              "      <td>0</td>\n",
              "      <td>8</td>\n",
              "      <td>Michael Phelps</td>\n",
              "    </tr>\n",
              "    <tr>\n",
              "      <th>1</th>\n",
              "      <td>Michael Phelps</td>\n",
              "      <td>19.0</td>\n",
              "      <td>United States</td>\n",
              "      <td>2004</td>\n",
              "      <td>8/29/2004</td>\n",
              "      <td>Swimming</td>\n",
              "      <td>6</td>\n",
              "      <td>0</td>\n",
              "      <td>2</td>\n",
              "      <td>8</td>\n",
              "      <td>Michael Phelps</td>\n",
              "    </tr>\n",
              "    <tr>\n",
              "      <th>2</th>\n",
              "      <td>Michael Phelps</td>\n",
              "      <td>27.0</td>\n",
              "      <td>United States</td>\n",
              "      <td>2012</td>\n",
              "      <td>08-12-2012</td>\n",
              "      <td>Swimming</td>\n",
              "      <td>4</td>\n",
              "      <td>2</td>\n",
              "      <td>0</td>\n",
              "      <td>6</td>\n",
              "      <td>Michael Phelps</td>\n",
              "    </tr>\n",
              "    <tr>\n",
              "      <th>3</th>\n",
              "      <td>Natalie Coughlin</td>\n",
              "      <td>25.0</td>\n",
              "      <td>United States</td>\n",
              "      <td>2008</td>\n",
              "      <td>8/24/2008</td>\n",
              "      <td>Swimming</td>\n",
              "      <td>1</td>\n",
              "      <td>2</td>\n",
              "      <td>3</td>\n",
              "      <td>6</td>\n",
              "      <td>Natalie Coughlin</td>\n",
              "    </tr>\n",
              "    <tr>\n",
              "      <th>4</th>\n",
              "      <td>Aleksey Nemov</td>\n",
              "      <td>24.0</td>\n",
              "      <td>Russia</td>\n",
              "      <td>2000</td>\n",
              "      <td>10-01-2000</td>\n",
              "      <td>Gymnastics</td>\n",
              "      <td>2</td>\n",
              "      <td>1</td>\n",
              "      <td>3</td>\n",
              "      <td>6</td>\n",
              "      <td>Aleksey Nemov</td>\n",
              "    </tr>\n",
              "  </tbody>\n",
              "</table>\n",
              "</div>\n",
              "      <button class=\"colab-df-convert\" onclick=\"convertToInteractive('df-ff10be72-ff88-4a23-8a09-98c35fdc7c22')\"\n",
              "              title=\"Convert this dataframe to an interactive table.\"\n",
              "              style=\"display:none;\">\n",
              "        \n",
              "  <svg xmlns=\"http://www.w3.org/2000/svg\" height=\"24px\"viewBox=\"0 0 24 24\"\n",
              "       width=\"24px\">\n",
              "    <path d=\"M0 0h24v24H0V0z\" fill=\"none\"/>\n",
              "    <path d=\"M18.56 5.44l.94 2.06.94-2.06 2.06-.94-2.06-.94-.94-2.06-.94 2.06-2.06.94zm-11 1L8.5 8.5l.94-2.06 2.06-.94-2.06-.94L8.5 2.5l-.94 2.06-2.06.94zm10 10l.94 2.06.94-2.06 2.06-.94-2.06-.94-.94-2.06-.94 2.06-2.06.94z\"/><path d=\"M17.41 7.96l-1.37-1.37c-.4-.4-.92-.59-1.43-.59-.52 0-1.04.2-1.43.59L10.3 9.45l-7.72 7.72c-.78.78-.78 2.05 0 2.83L4 21.41c.39.39.9.59 1.41.59.51 0 1.02-.2 1.41-.59l7.78-7.78 2.81-2.81c.8-.78.8-2.07 0-2.86zM5.41 20L4 18.59l7.72-7.72 1.47 1.35L5.41 20z\"/>\n",
              "  </svg>\n",
              "      </button>\n",
              "      \n",
              "  <style>\n",
              "    .colab-df-container {\n",
              "      display:flex;\n",
              "      flex-wrap:wrap;\n",
              "      gap: 12px;\n",
              "    }\n",
              "\n",
              "    .colab-df-convert {\n",
              "      background-color: #E8F0FE;\n",
              "      border: none;\n",
              "      border-radius: 50%;\n",
              "      cursor: pointer;\n",
              "      display: none;\n",
              "      fill: #1967D2;\n",
              "      height: 32px;\n",
              "      padding: 0 0 0 0;\n",
              "      width: 32px;\n",
              "    }\n",
              "\n",
              "    .colab-df-convert:hover {\n",
              "      background-color: #E2EBFA;\n",
              "      box-shadow: 0px 1px 2px rgba(60, 64, 67, 0.3), 0px 1px 3px 1px rgba(60, 64, 67, 0.15);\n",
              "      fill: #174EA6;\n",
              "    }\n",
              "\n",
              "    [theme=dark] .colab-df-convert {\n",
              "      background-color: #3B4455;\n",
              "      fill: #D2E3FC;\n",
              "    }\n",
              "\n",
              "    [theme=dark] .colab-df-convert:hover {\n",
              "      background-color: #434B5C;\n",
              "      box-shadow: 0px 1px 3px 1px rgba(0, 0, 0, 0.15);\n",
              "      filter: drop-shadow(0px 1px 2px rgba(0, 0, 0, 0.3));\n",
              "      fill: #FFFFFF;\n",
              "    }\n",
              "  </style>\n",
              "\n",
              "      <script>\n",
              "        const buttonEl =\n",
              "          document.querySelector('#df-ff10be72-ff88-4a23-8a09-98c35fdc7c22 button.colab-df-convert');\n",
              "        buttonEl.style.display =\n",
              "          google.colab.kernel.accessAllowed ? 'block' : 'none';\n",
              "\n",
              "        async function convertToInteractive(key) {\n",
              "          const element = document.querySelector('#df-ff10be72-ff88-4a23-8a09-98c35fdc7c22');\n",
              "          const dataTable =\n",
              "            await google.colab.kernel.invokeFunction('convertToInteractive',\n",
              "                                                     [key], {});\n",
              "          if (!dataTable) return;\n",
              "\n",
              "          const docLinkHtml = 'Like what you see? Visit the ' +\n",
              "            '<a target=\"_blank\" href=https://colab.research.google.com/notebooks/data_table.ipynb>data table notebook</a>'\n",
              "            + ' to learn more about interactive tables.';\n",
              "          element.innerHTML = '';\n",
              "          dataTable['output_type'] = 'display_data';\n",
              "          await google.colab.output.renderOutput(dataTable, element);\n",
              "          const docLink = document.createElement('div');\n",
              "          docLink.innerHTML = docLinkHtml;\n",
              "          element.appendChild(docLink);\n",
              "        }\n",
              "      </script>\n",
              "    </div>\n",
              "  </div>\n",
              "  "
            ]
          },
          "metadata": {},
          "execution_count": 13
        }
      ]
    },
    {
      "cell_type": "markdown",
      "source": [
        "## Data visualization techniques"
      ],
      "metadata": {
        "id": "tkM1i12jmASg"
      }
    },
    {
      "cell_type": "code",
      "source": [
        "# distribution of player in each olympic\n",
        "total_cont=olympix.year.value_counts()\n",
        "label=total_cont.index\n",
        "values=total_cont.values.flatten()\n",
        "#pie plot\n",
        "cols = ['c', 'b', 'r', 'k']\n",
        "fig, axs = plt.subplots(1, 2, figsize=(17, 8))\n",
        "axs[0].barh(label, values,color = cols)\n",
        "axs[0].set_ylabel( \"Count\" , size = 12 )\n",
        "# Set label for y-axis\n",
        "axs[0].set_xlabel( \"Olympic\" , size = 12 )\n",
        "axs[1].pie(values, labels=label, colors = cols, startangle = 90, shadow = True, autopct='%1.0f%%', explode = (0,0,0,0,0,0,0))\n",
        "fig.suptitle('Distribution of Olympic Year Wise',).set_size(20)\n",
        "\n",
        "plt.show()"
      ],
      "metadata": {
        "colab": {
          "base_uri": "https://localhost:8080/",
          "height": 474
        },
        "id": "9ROY8mrqLmZx",
        "outputId": "140b4e68-d982-41e7-f301-bad8af95725a"
      },
      "execution_count": 7,
      "outputs": [
        {
          "output_type": "display_data",
          "data": {
            "text/plain": [
              "<Figure size 1224x576 with 2 Axes>"
            ],
            "image/png": "[encoded data removed]"
          },
          "metadata": {
            "needs_background": "light"
          }
        }
      ]
    },
    {
      "cell_type": "markdown",
      "source": [
        "We can see the Distribution of each Olympic in specific years."
      ],
      "metadata": {
        "id": "QQJeYvrB1E-j"
      }
    },
    {
      "cell_type": "code",
      "source": [
        "plt.figure(figsize=(15,8))\n",
        "ax = sns.boxplot(y=\"gold_medal\", x=\"year\", data=olympix) # plotting the figure using boxplot"
      ],
      "metadata": {
        "colab": {
          "base_uri": "https://localhost:8080/",
          "height": 485
        },
        "id": "Fk65j8l_MP5w",
        "outputId": "88ceef61-2aa4-49c1-b8e4-1cea9c137f1a"
      },
      "execution_count": null,
      "outputs": [
        {
          "output_type": "display_data",
          "data": {
            "text/plain": [
              "<Figure size 1080x576 with 1 Axes>"
            ],
            "image/png": "[encoded data removed]"
          },
          "metadata": {}
        }
      ]
    },
    {
      "cell_type": "code",
      "source": [
        "olympix.groupby('country').agg({'name':'nunique','total_medal':'sum'}).sort_values(by='total_medal',ascending=False)[:25].plot(kind='bar',figsize=(20,10),title='Number of Player vis Number of Total Medal Per Country') # checking the total number of players per country using groupby\n"
      ],
      "metadata": {
        "colab": {
          "base_uri": "https://localhost:8080/",
          "height": 523
        },
        "id": "FbbAm3iNMefV",
        "outputId": "4db9513d-2ffd-490c-83ce-91c264291efe"
      },
      "execution_count": null,
      "outputs": [
        {
          "output_type": "execute_result",
          "data": {
            "text/plain": [
              "<matplotlib.axes._subplots.AxesSubplot at 0x7fcc2e51dfd0>"
            ]
          },
          "metadata": {},
          "execution_count": 20
        },
        {
          "output_type": "display_data",
          "data": {
            "text/plain": [
              "<Figure size 1440x720 with 1 Axes>"
            ],
            "image/png": "[encoded data removed]"
          },
          "metadata": {}
        }
      ]
    },
    {
      "cell_type": "markdown",
      "source": [
        "Here we are checking the count of the total medals in each of the country."
      ],
      "metadata": {
        "id": "Vbbzu87_1N3f"
      }
    },
    {
      "cell_type": "code",
      "source": [
        "olympix.groupby(['sports']).size().sort_values(ascending=True).plot(kind = \"barh\",figsize=(20, 15),title='Distribution Of Sports')# horizontal bar plot to check the distribution of sports\n"
      ],
      "metadata": {
        "colab": {
          "base_uri": "https://localhost:8080/",
          "height": 611
        },
        "id": "2x33b8_DMtoR",
        "outputId": "aba70647-8882-445f-ff58-6ec01ab63efd"
      },
      "execution_count": null,
      "outputs": [
        {
          "output_type": "execute_result",
          "data": {
            "text/plain": [
              "<matplotlib.axes._subplots.AxesSubplot at 0x7fcc2e3ed310>"
            ]
          },
          "metadata": {},
          "execution_count": 21
        },
        {
          "output_type": "display_data",
          "data": {
            "text/plain": [
              "<Figure size 1440x1080 with 1 Axes>"
            ],
            "image/png": "[encoded data removed]"
          },
          "metadata": {}
        }
      ]
    },
    {
      "cell_type": "markdown",
      "source": [
        "Here we can see the distribution of sports."
      ],
      "metadata": {
        "id": "i3stIw9d1dGm"
      }
    },
    {
      "cell_type": "code",
      "source": [
        "plt.figure(figsize=(10,5)) # plotting the figure for total medal\n",
        "sns.countplot(data=olympix, x='total_medal')"
      ],
      "metadata": {
        "colab": {
          "base_uri": "https://localhost:8080/",
          "height": 356
        },
        "id": "s-phtlvunHib",
        "outputId": "d8ba0d54-46ca-47c9-e0ef-437e4fbfa4cd"
      },
      "execution_count": null,
      "outputs": [
        {
          "output_type": "execute_result",
          "data": {
            "text/plain": [
              "<matplotlib.axes._subplots.AxesSubplot at 0x7f7c30fec210>"
            ]
          },
          "metadata": {},
          "execution_count": 166
        },
        {
          "output_type": "display_data",
          "data": {
            "text/plain": [
              "<Figure size 720x360 with 1 Axes>"
            ],
            "image/png": "[encoded data removed]"
          },
          "metadata": {}
        }
      ]
    },
    {
      "cell_type": "code",
      "source": [
        "olympix['total_medal'].value_counts() # counting the values of total medal"
      ],
      "metadata": {
        "colab": {
          "base_uri": "https://localhost:8080/"
        },
        "id": "pOuERGclnEA0",
        "outputId": "4cfec7f0-f273-4d94-ec1f-d1f020c9f5f9"
      },
      "execution_count": null,
      "outputs": [
        {
          "output_type": "execute_result",
          "data": {
            "text/plain": [
              "1    7921\n",
              "2     543\n",
              "3     118\n",
              "4      21\n",
              "5      10\n",
              "6       3\n",
              "8       2\n",
              "Name: total_medal, dtype: int64"
            ]
          },
          "metadata": {},
          "execution_count": 165
        }
      ]
    },
    {
      "cell_type": "markdown",
      "source": [
        "Here we are checking the value of the total medals that are secured by athletes."
      ],
      "metadata": {
        "id": "OPHd9usA1myw"
      }
    },
    {
      "cell_type": "code",
      "source": [
        "plt.figure(figsize=(10,5)) # plotting the figure fo gold_medal\n",
        "sns.countplot(data=olympix, x='gold_medal')"
      ],
      "metadata": {
        "colab": {
          "base_uri": "https://localhost:8080/",
          "height": 352
        },
        "id": "1g3kOt3uWnMV",
        "outputId": "e6f6ee71-4464-4fbd-8bd5-e3daadc0b19c"
      },
      "execution_count": null,
      "outputs": [
        {
          "output_type": "execute_result",
          "data": {
            "text/plain": [
              "<matplotlib.axes._subplots.AxesSubplot at 0x7f7c3741af10>"
            ]
          },
          "metadata": {},
          "execution_count": 90
        },
        {
          "output_type": "display_data",
          "data": {
            "text/plain": [
              "<Figure size 720x360 with 1 Axes>"
            ],
            "image/png": "[encoded data removed]"
          },
          "metadata": {
            "needs_background": "light"
          }
        }
      ]
    },
    {
      "cell_type": "code",
      "source": [
        "olympix['gold_medal'].value_counts() #counting the values of gold medal"
      ],
      "metadata": {
        "colab": {
          "base_uri": "https://localhost:8080/"
        },
        "id": "73YBfdFAcheN",
        "outputId": "e4faf6b4-9d98-412d-ed67-5bbf31507d8e"
      },
      "execution_count": null,
      "outputs": [
        {
          "output_type": "execute_result",
          "data": {
            "text/plain": [
              "0    5694\n",
              "1    2745\n",
              "2     150\n",
              "3      24\n",
              "4       3\n",
              "8       1\n",
              "6       1\n",
              "Name: gold_medal, dtype: int64"
            ]
          },
          "metadata": {},
          "execution_count": 114
        }
      ]
    },
    {
      "cell_type": "markdown",
      "source": [
        "Here we are checking the value of the gold medals that are secured by athletes."
      ],
      "metadata": {
        "id": "lJfGxHk810Dk"
      }
    },
    {
      "cell_type": "code",
      "source": [
        "plt.figure(figsize=(10,5)) # plotting the figure of silver medal\n",
        "sns.countplot(data=olympix, x='silver_medal')"
      ],
      "metadata": {
        "colab": {
          "base_uri": "https://localhost:8080/",
          "height": 356
        },
        "id": "RSl5yO4Amojm",
        "outputId": "1abcb315-7e80-4304-bca1-a292f792b657"
      },
      "execution_count": null,
      "outputs": [
        {
          "output_type": "execute_result",
          "data": {
            "text/plain": [
              "<matplotlib.axes._subplots.AxesSubplot at 0x7f7c30c1d110>"
            ]
          },
          "metadata": {},
          "execution_count": 160
        },
        {
          "output_type": "display_data",
          "data": {
            "text/plain": [
              "<Figure size 720x360 with 1 Axes>"
            ],
            "image/png": "[encoded data removed]"
          },
          "metadata": {}
        }
      ]
    },
    {
      "cell_type": "code",
      "source": [
        "olympix['silver_medal'].value_counts() # counting the values of silver medal"
      ],
      "metadata": {
        "colab": {
          "base_uri": "https://localhost:8080/"
        },
        "id": "Yra_9MW2m1Xt",
        "outputId": "aa7c1207-d088-4811-cc23-a43bcba3a9f0"
      },
      "execution_count": null,
      "outputs": [
        {
          "output_type": "execute_result",
          "data": {
            "text/plain": [
              "0    5609\n",
              "1    2896\n",
              "2     104\n",
              "3       9\n",
              "Name: silver_medal, dtype: int64"
            ]
          },
          "metadata": {},
          "execution_count": 163
        }
      ]
    },
    {
      "cell_type": "markdown",
      "source": [
        "Here we are checking the value of the silver medals that are secured by athletes."
      ],
      "metadata": {
        "id": "IRuB1Eu312t-"
      }
    },
    {
      "cell_type": "code",
      "source": [
        "plt.figure(figsize=(10,5)) # plotting the figure of bronze medal\n",
        "sns.countplot(data=olympix, x='brone_medal')"
      ],
      "metadata": {
        "colab": {
          "base_uri": "https://localhost:8080/",
          "height": 356
        },
        "id": "Hd3Upk9NmrD5",
        "outputId": "84b89e9f-b62f-4a25-e688-247d7fbb0552"
      },
      "execution_count": null,
      "outputs": [
        {
          "output_type": "execute_result",
          "data": {
            "text/plain": [
              "<matplotlib.axes._subplots.AxesSubplot at 0x7f7c3088fbd0>"
            ]
          },
          "metadata": {},
          "execution_count": 162
        },
        {
          "output_type": "display_data",
          "data": {
            "text/plain": [
              "<Figure size 720x360 with 1 Axes>"
            ],
            "image/png": "[encoded data removed]"
          },
          "metadata": {}
        }
      ]
    },
    {
      "cell_type": "code",
      "source": [
        "olympix['brone_medal'].value_counts() # checking the values of bronze medal"
      ],
      "metadata": {
        "colab": {
          "base_uri": "https://localhost:8080/"
        },
        "id": "JcUicX1Sm4X0",
        "outputId": "9ae9442c-2630-4137-98cc-79d034e25b42"
      },
      "execution_count": null,
      "outputs": [
        {
          "output_type": "execute_result",
          "data": {
            "text/plain": [
              "0    5444\n",
              "1    3098\n",
              "2      71\n",
              "3       5\n",
              "Name: brone_medal, dtype: int64"
            ]
          },
          "metadata": {},
          "execution_count": 164
        }
      ]
    },
    {
      "cell_type": "markdown",
      "source": [
        "Here we are checking the value of the Bronze medals that are secured by athletes."
      ],
      "metadata": {
        "id": "1FKIEbu415Qw"
      }
    },
    {
      "cell_type": "code",
      "source": [
        "plt.figure(figsize=(10, 5))\n",
        "sns.countplot(olympix['year'])\n",
        "plt.title('Total medals of each year') # checking the total medals of each year\n",
        "plt.xlabel('Years')\n",
        "plt.ylabel('No. of medals')"
      ],
      "metadata": {
        "colab": {
          "base_uri": "https://localhost:8080/",
          "height": 372
        },
        "id": "fqdWO76rkmzX",
        "outputId": "ea44db8a-6055-4f91-eedc-52ff97b6ed72"
      },
      "execution_count": null,
      "outputs": [
        {
          "output_type": "execute_result",
          "data": {
            "text/plain": [
              "Text(0, 0.5, 'No. of medals')"
            ]
          },
          "metadata": {},
          "execution_count": 215
        },
        {
          "output_type": "display_data",
          "data": {
            "text/plain": [
              "<Figure size 720x360 with 1 Axes>"
            ],
            "image/png": "[encoded data removed]"
          },
          "metadata": {}
        }
      ]
    },
    {
      "cell_type": "markdown",
      "source": [
        "We are checking that the total medals in each year. We are counting the no of medals of the athelets per the year."
      ],
      "metadata": {
        "id": "1jsgmkp_19Or"
      }
    },
    {
      "cell_type": "code",
      "source": [
        "olympix.groupby(['sports','country'])['gold_medal'].value_counts().groupby(level=0, group_keys=False).head(1)# grouping the gold medal by sports and country\n"
      ],
      "metadata": {
        "colab": {
          "base_uri": "https://localhost:8080/"
        },
        "id": "6Mw1RvBi-I4P",
        "outputId": "36e12b34-a58d-49c8-eabe-cdece0423e29"
      },
      "execution_count": null,
      "outputs": [
        {
          "output_type": "execute_result",
          "data": {
            "text/plain": [
              "sports                     country      gold_medal\n",
              "Alpine Skiing              Austria      0              12\n",
              "Archery                    Australia    0               1\n",
              "Athletics                  Algeria      0               3\n",
              "Badminton                  China        1              21\n",
              "Baseball                   Australia    0              24\n",
              "Basketball                 Argentina    0              12\n",
              "Beach Volleyball           Australia    1               2\n",
              "Biathlon                   Austria      0               5\n",
              "Bobsleigh                  Canada       0               8\n",
              "Boxing                     Algeria      0               1\n",
              "Canoeing                   Australia    0              12\n",
              "Cross Country Skiing       Austria      0               2\n",
              "Curling                    Canada       0              20\n",
              "Cycling                    Argentina    1               2\n",
              "Diving                     Australia    0              12\n",
              "Equestrian                 Australia    0               5\n",
              "Fencing                    China        0              16\n",
              "Figure Skating             Canada       1               4\n",
              "Football                   Argentina    1              34\n",
              "Freestyle Skiing           Australia    1               3\n",
              "Gymnastics                 Brazil       1               1\n",
              "Handball                   Croatia      0              15\n",
              "Hockey                     Argentina    0              65\n",
              "Ice Hockey                 Canada       1             105\n",
              "Judo                       Algeria      0               2\n",
              "Luge                       Austria      1               4\n",
              "Modern Pentathlon          Belarus      0               1\n",
              "Nordic Combined            Austria      1               7\n",
              "Rhythmic Gymnastics        Belarus      0              21\n",
              "Rowing                     Australia    0              54\n",
              "Sailing                    Argentina    0              10\n",
              "Shooting                   Australia    0               4\n",
              "Short-Track Speed Skating  Australia    1               1\n",
              "Skeleton                   Austria      0               1\n",
              "Ski Jumping                Austria      1               7\n",
              "Snowboarding               Australia    1               1\n",
              "Softball                   Australia    0              45\n",
              "Speed Skating              Canada       0              12\n",
              "Swimming                   Argentina    0               1\n",
              "Synchronized Swimming      Canada       0               8\n",
              "Table Tennis               China        1              15\n",
              "Taekwondo                  Afghanistan  0               2\n",
              "Tennis                     Argentina    0               3\n",
              "Trampoline                 Australia    0               1\n",
              "Triathlon                  Australia    0               4\n",
              "Volleyball                 Brazil       0              36\n",
              "Waterpolo                  Australia    0              26\n",
              "Weightlifting              Armenia      0               5\n",
              "Wrestling                  Armenia      0               4\n",
              "Name: gold_medal, dtype: int64"
            ]
          },
          "metadata": {},
          "execution_count": 217
        }
      ]
    },
    {
      "cell_type": "markdown",
      "source": [
        "Here we are grouping the gold medal with sports and country to get the specific count of medals."
      ],
      "metadata": {
        "id": "bNujfbuV2MyE"
      }
    },
    {
      "cell_type": "code",
      "source": [
        "olympix.groupby(['sports','country'])['silver_medal'].value_counts().groupby(level=0, group_keys=False).head(1) # grouping the silver medal by sports and country\n"
      ],
      "metadata": {
        "colab": {
          "base_uri": "https://localhost:8080/"
        },
        "id": "r1s1wTpdgyrt",
        "outputId": "cdfbd5c2-3a26-4c86-85f5-2e4b63058328"
      },
      "execution_count": null,
      "outputs": [
        {
          "output_type": "execute_result",
          "data": {
            "text/plain": [
              "sports                     country      silver_medal\n",
              "Alpine Skiing              Austria      0                 9\n",
              "Archery                    Australia    0                 2\n",
              "Athletics                  Algeria      0                 4\n",
              "Badminton                  China        0                30\n",
              "Baseball                   Australia    1                24\n",
              "Basketball                 Argentina    0                24\n",
              "Beach Volleyball           Australia    0                 2\n",
              "Biathlon                   Austria      1                 3\n",
              "Bobsleigh                  Canada       0                 6\n",
              "Boxing                     Algeria      0                 1\n",
              "Canoeing                   Australia    0                11\n",
              "Cross Country Skiing       Austria      0                 2\n",
              "Curling                    Canada       0                20\n",
              "Cycling                    Argentina    0                 2\n",
              "Diving                     Australia    0                10\n",
              "Equestrian                 Australia    1                 6\n",
              "Fencing                    China        1                13\n",
              "Figure Skating             Canada       0                 6\n",
              "Football                   Argentina    0                34\n",
              "Freestyle Skiing           Australia    0                 4\n",
              "Gymnastics                 Brazil       0                 1\n",
              "Handball                   Croatia      0                30\n",
              "Hockey                     Argentina    1                33\n",
              "Ice Hockey                 Canada       0               105\n",
              "Judo                       Algeria      0                 1\n",
              "Luge                       Austria      0                 5\n",
              "Modern Pentathlon          Belarus      0                 1\n",
              "Nordic Combined            Austria      0                11\n",
              "Rhythmic Gymnastics        Belarus      1                14\n",
              "Rowing                     Australia    1                31\n",
              "Sailing                    Argentina    0                 9\n",
              "Shooting                   Australia    0                 5\n",
              "Short-Track Speed Skating  Australia    0                 1\n",
              "Skeleton                   Austria      1                 1\n",
              "Ski Jumping                Austria      0                 7\n",
              "Snowboarding               Australia    0                 1\n",
              "Softball                   Australia    0                30\n",
              "Speed Skating              Canada       1                 9\n",
              "Swimming                   Argentina    0                 1\n",
              "Synchronized Swimming      Canada       0                 8\n",
              "Table Tennis               China        0                18\n",
              "Taekwondo                  Afghanistan  0                 2\n",
              "Tennis                     Argentina    0                 3\n",
              "Trampoline                 Australia    1                 1\n",
              "Triathlon                  Australia    0                 3\n",
              "Volleyball                 Brazil       0                48\n",
              "Waterpolo                  Australia    0                39\n",
              "Weightlifting              Armenia      0                 5\n",
              "Wrestling                  Armenia      0                 3\n",
              "Name: silver_medal, dtype: int64"
            ]
          },
          "metadata": {},
          "execution_count": 171
        }
      ]
    },
    {
      "cell_type": "markdown",
      "source": [
        "Here we are grouping the silver medal with sports and country to get the specific count of medals."
      ],
      "metadata": {
        "id": "1dGl8dMG2WQu"
      }
    },
    {
      "cell_type": "markdown",
      "source": [
        "## Checking the Skewness of age"
      ],
      "metadata": {
        "id": "BhEzFkMh-hxd"
      }
    },
    {
      "cell_type": "code",
      "source": [
        "sns.distplot(olympix[\"age\"], bins=10) # creating the dist plot to check the Skewness of age\n",
        "plt.title(\"Distribution of age\")"
      ],
      "metadata": {
        "colab": {
          "base_uri": "https://localhost:8080/",
          "height": 318
        },
        "id": "YtuU42rqmS_c",
        "outputId": "99d92f6a-594a-4b9a-89a0-bcb2c6e99b2f"
      },
      "execution_count": null,
      "outputs": [
        {
          "output_type": "execute_result",
          "data": {
            "text/plain": [
              "Text(0.5, 1.0, 'Distribution of age')"
            ]
          },
          "metadata": {},
          "execution_count": 158
        },
        {
          "output_type": "display_data",
          "data": {
            "text/plain": [
              "<Figure size 432x288 with 1 Axes>"
            ],
            "image/png": "[encoded data removed]"
          },
          "metadata": {}
        }
      ]
    },
    {
      "cell_type": "code",
      "source": [
        "olympix['age'].skew() # checking the skewness"
      ],
      "metadata": {
        "colab": {
          "base_uri": "https://localhost:8080/"
        },
        "id": "OiJpnjvgNdRn",
        "outputId": "6f8776dc-fef6-49dc-9c9a-c7dab1a16c42"
      },
      "execution_count": null,
      "outputs": [
        {
          "output_type": "execute_result",
          "data": {
            "text/plain": [
              "0.8590070668484233"
            ]
          },
          "metadata": {},
          "execution_count": 23
        }
      ]
    },
    {
      "cell_type": "markdown",
      "source": [
        "Here age attribute is moderately skewed.Because If the skewness is between -1 and – 0.5 or between 0.5 and 1, the data are moderately skewed."
      ],
      "metadata": {
        "id": "jxjDdT-_N4yo"
      }
    },
    {
      "cell_type": "code",
      "source": [
        "# checking the Distribution of Age in different years using the plots\n",
        "ax=sns.displot(\n",
        "    olympix, x=\"age\", col=\"year\",\n",
        "    binwidth=3, height=5, facet_kws=dict(margin_titles=True),col_wrap=3,discrete=True,stat=\"frequency\"\n",
        ")\n",
        "for axis in ax.axes.flat:\n",
        "    axis.tick_params(labelleft=True)\n",
        "    axis.tick_params(labelbottom=True)\n",
        "ax.fig.subplots_adjust(top=0.9) # adjust the Figure\n",
        "ax.fig.suptitle('Distribtion of Age in different Year')"
      ],
      "metadata": {
        "colab": {
          "base_uri": "https://localhost:8080/",
          "height": 883
        },
        "id": "arO5We0vOlQC",
        "outputId": "110ac327-538f-48f2-d1a2-91df0dc24ec6"
      },
      "execution_count": null,
      "outputs": [
        {
          "output_type": "execute_result",
          "data": {
            "text/plain": [
              "Text(0.5, 0.98, 'Distribtion of Age in different Year')"
            ]
          },
          "metadata": {},
          "execution_count": 24
        },
        {
          "output_type": "display_data",
          "data": {
            "text/plain": [
              "<Figure size 1080x1080 with 7 Axes>"
            ],
            "image/png": "[encoded data removed]"
          },
          "metadata": {}
        }
      ]
    },
    {
      "cell_type": "markdown",
      "source": [
        "We can see that the age is distributed randomly in different years. So that we will come to know that the age is distribution is distributed in every year."
      ],
      "metadata": {
        "id": "TwI7SbjT2bAA"
      }
    },
    {
      "cell_type": "code",
      "source": [
        "athlete_order = olympix['name'].value_counts().head(10).index\n",
        "plt.figure(figsize=(9, 5))\n",
        "sns.countplot(data=olympix, y='name', order=athlete_order)\n",
        "plt.title('Top 10 Athletes with the most awarded Medals') # checking the top 10 Athletes with most awarded medals\n",
        "plt.xlabel('No. of awrded medals')\n",
        "plt.ylabel('Athlete Name');"
      ],
      "metadata": {
        "colab": {
          "base_uri": "https://localhost:8080/",
          "height": 355
        },
        "id": "h9HnZYpmoMM6",
        "outputId": "1433d64a-0e83-4dd0-aed8-cb2ee2513e37"
      },
      "execution_count": null,
      "outputs": [
        {
          "output_type": "display_data",
          "data": {
            "text/plain": [
              "<Figure size 648x360 with 1 Axes>"
            ],
            "image/png": "[encoded data removed]"
          },
          "metadata": {}
        }
      ]
    },
    {
      "cell_type": "markdown",
      "source": [
        "Here we can see the athletes who was awarded more medals in Olympics."
      ],
      "metadata": {
        "id": "JHfH4ufd2z6l"
      }
    },
    {
      "cell_type": "markdown",
      "source": [
        "## Numerical measures"
      ],
      "metadata": {
        "id": "8xDNZ5DF2O3p"
      }
    },
    {
      "cell_type": "markdown",
      "source": [
        "Measures of Central tendancy\n",
        "\n",
        "Measures of central tendency describe the center of the data, and are often represented by the mean, the median, and the mode."
      ],
      "metadata": {
        "id": "Jr0i151E4DsE"
      }
    },
    {
      "cell_type": "code",
      "source": [
        "olympix.mean() # checking the mean of the data"
      ],
      "metadata": {
        "colab": {
          "base_uri": "https://localhost:8080/"
        },
        "id": "gvJqInr-2S0k",
        "outputId": "7e5d11c9-9128-4e46-edcd-45b278c37b3e"
      },
      "execution_count": null,
      "outputs": [
        {
          "output_type": "execute_result",
          "data": {
            "text/plain": [
              "age               26.405434\n",
              "year            2005.978881\n",
              "gold_medal         0.364702\n",
              "silver_medal       0.363309\n",
              "brone_medal        0.377698\n",
              "total_medal        1.105709\n",
              "dtype: float64"
            ]
          },
          "metadata": {},
          "execution_count": 198
        }
      ]
    },
    {
      "cell_type": "code",
      "source": [
        "olympix.median() # checking the median of the data"
      ],
      "metadata": {
        "colab": {
          "base_uri": "https://localhost:8080/"
        },
        "id": "BmwRLYRT2NY8",
        "outputId": "4ed6f94d-6476-43d5-a0c0-dad4689f0bd3"
      },
      "execution_count": null,
      "outputs": [
        {
          "output_type": "execute_result",
          "data": {
            "text/plain": [
              "age               26.0\n",
              "year            2006.0\n",
              "gold_medal         0.0\n",
              "silver_medal       0.0\n",
              "brone_medal        0.0\n",
              "total_medal        1.0\n",
              "dtype: float64"
            ]
          },
          "metadata": {},
          "execution_count": 200
        }
      ]
    },
    {
      "cell_type": "code",
      "source": [
        "olympix.mode() # checking the mode of the data"
      ],
      "metadata": {
        "colab": {
          "base_uri": "https://localhost:8080/",
          "height": 1000
        },
        "id": "KaSanWqb2j_4",
        "outputId": "3792f64c-1720-4a48-e5fe-6330deb1bf37"
      },
      "execution_count": null,
      "outputs": [
        {
          "output_type": "execute_result",
          "data": {
            "text/plain": [
              "                       name   age        country    year Date_Given  \\\n",
              "0         Anky van Grunsven  24.0  United States  2008.0  8/24/2008   \n",
              "1            Artur Taymazov   NaN            NaN     NaN        NaN   \n",
              "2               Ben Ainslie   NaN            NaN     NaN        NaN   \n",
              "3           Bradley Wiggins   NaN            NaN     NaN        NaN   \n",
              "4              Brenda Villa   NaN            NaN     NaN        NaN   \n",
              "5                 Chris Hoy   NaN            NaN     NaN        NaN   \n",
              "6   Christie Pearce-Rampone   NaN            NaN     NaN        NaN   \n",
              "7            Emilie Heymans   NaN            NaN     NaN        NaN   \n",
              "8            Eskild Ebbesen   NaN            NaN     NaN        NaN   \n",
              "9             Heather Petri   NaN            NaN     NaN        NaN   \n",
              "10              Jason Lezak   NaN            NaN     NaN        NaN   \n",
              "11           Katalin Kovács   NaN            NaN     NaN        NaN   \n",
              "12       Katherine Grainger   NaN            NaN     NaN        NaN   \n",
              "13   Katrin Wagner-Augustin   NaN            NaN     NaN        NaN   \n",
              "14                Kim Rhode   NaN            NaN     NaN        NaN   \n",
              "15          Kristi Harrower   NaN            NaN     NaN        NaN   \n",
              "16           Lauren Jackson   NaN            NaN     NaN        NaN   \n",
              "17             Leisel Jones   NaN            NaN     NaN        NaN   \n",
              "18              Lucha Aymar   NaN            NaN     NaN        NaN   \n",
              "19               Matt Wells   NaN            NaN     NaN        NaN   \n",
              "20          Michal Martikán   NaN            NaN     NaN        NaN   \n",
              "21       Pavol Hochschorner   NaN            NaN     NaN        NaN   \n",
              "22       Peter Hochschorner   NaN            NaN     NaN        NaN   \n",
              "23           Robert Scheidt   NaN            NaN     NaN        NaN   \n",
              "24         Sergey Tetyukhin   NaN            NaN     NaN        NaN   \n",
              "25        Valentina Vezzali   NaN            NaN     NaN        NaN   \n",
              "26  Veronica Campbell-Brown   NaN            NaN     NaN        NaN   \n",
              "27                 Wang Hao   NaN            NaN     NaN        NaN   \n",
              "28                 Yang Wei   NaN            NaN     NaN        NaN   \n",
              "\n",
              "       sports  gold_medal  silver_medal  brone_medal  total_medal  \n",
              "0   Athletics         0.0           0.0          0.0          1.0  \n",
              "1         NaN         NaN           NaN          NaN          NaN  \n",
              "2         NaN         NaN           NaN          NaN          NaN  \n",
              "3         NaN         NaN           NaN          NaN          NaN  \n",
              "4         NaN         NaN           NaN          NaN          NaN  \n",
              "5         NaN         NaN           NaN          NaN          NaN  \n",
              "6         NaN         NaN           NaN          NaN          NaN  \n",
              "7         NaN         NaN           NaN          NaN          NaN  \n",
              "8         NaN         NaN           NaN          NaN          NaN  \n",
              "9         NaN         NaN           NaN          NaN          NaN  \n",
              "10        NaN         NaN           NaN          NaN          NaN  \n",
              "11        NaN         NaN           NaN          NaN          NaN  \n",
              "12        NaN         NaN           NaN          NaN          NaN  \n",
              "13        NaN         NaN           NaN          NaN          NaN  \n",
              "14        NaN         NaN           NaN          NaN          NaN  \n",
              "15        NaN         NaN           NaN          NaN          NaN  \n",
              "16        NaN         NaN           NaN          NaN          NaN  \n",
              "17        NaN         NaN           NaN          NaN          NaN  \n",
              "18        NaN         NaN           NaN          NaN          NaN  \n",
              "19        NaN         NaN           NaN          NaN          NaN  \n",
              "20        NaN         NaN           NaN          NaN          NaN  \n",
              "21        NaN         NaN           NaN          NaN          NaN  \n",
              "22        NaN         NaN           NaN          NaN          NaN  \n",
              "23        NaN         NaN           NaN          NaN          NaN  \n",
              "24        NaN         NaN           NaN          NaN          NaN  \n",
              "25        NaN         NaN           NaN          NaN          NaN  \n",
              "26        NaN         NaN           NaN          NaN          NaN  \n",
              "27        NaN         NaN           NaN          NaN          NaN  \n",
              "28        NaN         NaN           NaN          NaN          NaN  "
            ],
            "text/html": [
              "\n",
              "  <div id=\"df-b639fccf-3084-4044-9298-44148f3835c1\">\n",
              "    <div class=\"colab-df-container\">\n",
              "      <div>\n",
              "<style scoped>\n",
              "    .dataframe tbody tr th:only-of-type {\n",
              "        vertical-align: middle;\n",
              "    }\n",
              "\n",
              "    .dataframe tbody tr th {\n",
              "        vertical-align: top;\n",
              "    }\n",
              "\n",
              "    .dataframe thead th {\n",
              "        text-align: right;\n",
              "    }\n",
              "</style>\n",
              "<table border=\"1\" class=\"dataframe\">\n",
              "  <thead>\n",
              "    <tr style=\"text-align: right;\">\n",
              "      <th></th>\n",
              "      <th>name</th>\n",
              "      <th>age</th>\n",
              "      <th>country</th>\n",
              "      <th>year</th>\n",
              "      <th>Date_Given</th>\n",
              "      <th>sports</th>\n",
              "      <th>gold_medal</th>\n",
              "      <th>silver_medal</th>\n",
              "      <th>brone_medal</th>\n",
              "      <th>total_medal</th>\n",
              "    </tr>\n",
              "  </thead>\n",
              "  <tbody>\n",
              "    <tr>\n",
              "      <th>0</th>\n",
              "      <td>Anky van Grunsven</td>\n",
              "      <td>24.0</td>\n",
              "      <td>United States</td>\n",
              "      <td>2008.0</td>\n",
              "      <td>8/24/2008</td>\n",
              "      <td>Athletics</td>\n",
              "      <td>0.0</td>\n",
              "      <td>0.0</td>\n",
              "      <td>0.0</td>\n",
              "      <td>1.0</td>\n",
              "    </tr>\n",
              "    <tr>\n",
              "      <th>1</th>\n",
              "      <td>Artur Taymazov</td>\n",
              "      <td>NaN</td>\n",
              "      <td>NaN</td>\n",
              "      <td>NaN</td>\n",
              "      <td>NaN</td>\n",
              "      <td>NaN</td>\n",
              "      <td>NaN</td>\n",
              "      <td>NaN</td>\n",
              "      <td>NaN</td>\n",
              "      <td>NaN</td>\n",
              "    </tr>\n",
              "    <tr>\n",
              "      <th>2</th>\n",
              "      <td>Ben Ainslie</td>\n",
              "      <td>NaN</td>\n",
              "      <td>NaN</td>\n",
              "      <td>NaN</td>\n",
              "      <td>NaN</td>\n",
              "      <td>NaN</td>\n",
              "      <td>NaN</td>\n",
              "      <td>NaN</td>\n",
              "      <td>NaN</td>\n",
              "      <td>NaN</td>\n",
              "    </tr>\n",
              "    <tr>\n",
              "      <th>3</th>\n",
              "      <td>Bradley Wiggins</td>\n",
              "      <td>NaN</td>\n",
              "      <td>NaN</td>\n",
              "      <td>NaN</td>\n",
              "      <td>NaN</td>\n",
              "      <td>NaN</td>\n",
              "      <td>NaN</td>\n",
              "      <td>NaN</td>\n",
              "      <td>NaN</td>\n",
              "      <td>NaN</td>\n",
              "    </tr>\n",
              "    <tr>\n",
              "      <th>4</th>\n",
              "      <td>Brenda Villa</td>\n",
              "      <td>NaN</td>\n",
              "      <td>NaN</td>\n",
              "      <td>NaN</td>\n",
              "      <td>NaN</td>\n",
              "      <td>NaN</td>\n",
              "      <td>NaN</td>\n",
              "      <td>NaN</td>\n",
              "      <td>NaN</td>\n",
              "      <td>NaN</td>\n",
              "    </tr>\n",
              "    <tr>\n",
              "      <th>5</th>\n",
              "      <td>Chris Hoy</td>\n",
              "      <td>NaN</td>\n",
              "      <td>NaN</td>\n",
              "      <td>NaN</td>\n",
              "      <td>NaN</td>\n",
              "      <td>NaN</td>\n",
              "      <td>NaN</td>\n",
              "      <td>NaN</td>\n",
              "      <td>NaN</td>\n",
              "      <td>NaN</td>\n",
              "    </tr>\n",
              "    <tr>\n",
              "      <th>6</th>\n",
              "      <td>Christie Pearce-Rampone</td>\n",
              "      <td>NaN</td>\n",
              "      <td>NaN</td>\n",
              "      <td>NaN</td>\n",
              "      <td>NaN</td>\n",
              "      <td>NaN</td>\n",
              "      <td>NaN</td>\n",
              "      <td>NaN</td>\n",
              "      <td>NaN</td>\n",
              "      <td>NaN</td>\n",
              "    </tr>\n",
              "    <tr>\n",
              "      <th>7</th>\n",
              "      <td>Emilie Heymans</td>\n",
              "      <td>NaN</td>\n",
              "      <td>NaN</td>\n",
              "      <td>NaN</td>\n",
              "      <td>NaN</td>\n",
              "      <td>NaN</td>\n",
              "      <td>NaN</td>\n",
              "      <td>NaN</td>\n",
              "      <td>NaN</td>\n",
              "      <td>NaN</td>\n",
              "    </tr>\n",
              "    <tr>\n",
              "      <th>8</th>\n",
              "      <td>Eskild Ebbesen</td>\n",
              "      <td>NaN</td>\n",
              "      <td>NaN</td>\n",
              "      <td>NaN</td>\n",
              "      <td>NaN</td>\n",
              "      <td>NaN</td>\n",
              "      <td>NaN</td>\n",
              "      <td>NaN</td>\n",
              "      <td>NaN</td>\n",
              "      <td>NaN</td>\n",
              "    </tr>\n",
              "    <tr>\n",
              "      <th>9</th>\n",
              "      <td>Heather Petri</td>\n",
              "      <td>NaN</td>\n",
              "      <td>NaN</td>\n",
              "      <td>NaN</td>\n",
              "      <td>NaN</td>\n",
              "      <td>NaN</td>\n",
              "      <td>NaN</td>\n",
              "      <td>NaN</td>\n",
              "      <td>NaN</td>\n",
              "      <td>NaN</td>\n",
              "    </tr>\n",
              "    <tr>\n",
              "      <th>10</th>\n",
              "      <td>Jason Lezak</td>\n",
              "      <td>NaN</td>\n",
              "      <td>NaN</td>\n",
              "      <td>NaN</td>\n",
              "      <td>NaN</td>\n",
              "      <td>NaN</td>\n",
              "      <td>NaN</td>\n",
              "      <td>NaN</td>\n",
              "      <td>NaN</td>\n",
              "      <td>NaN</td>\n",
              "    </tr>\n",
              "    <tr>\n",
              "      <th>11</th>\n",
              "      <td>Katalin Kovács</td>\n",
              "      <td>NaN</td>\n",
              "      <td>NaN</td>\n",
              "      <td>NaN</td>\n",
              "      <td>NaN</td>\n",
              "      <td>NaN</td>\n",
              "      <td>NaN</td>\n",
              "      <td>NaN</td>\n",
              "      <td>NaN</td>\n",
              "      <td>NaN</td>\n",
              "    </tr>\n",
              "    <tr>\n",
              "      <th>12</th>\n",
              "      <td>Katherine Grainger</td>\n",
              "      <td>NaN</td>\n",
              "      <td>NaN</td>\n",
              "      <td>NaN</td>\n",
              "      <td>NaN</td>\n",
              "      <td>NaN</td>\n",
              "      <td>NaN</td>\n",
              "      <td>NaN</td>\n",
              "      <td>NaN</td>\n",
              "      <td>NaN</td>\n",
              "    </tr>\n",
              "    <tr>\n",
              "      <th>13</th>\n",
              "      <td>Katrin Wagner-Augustin</td>\n",
              "      <td>NaN</td>\n",
              "      <td>NaN</td>\n",
              "      <td>NaN</td>\n",
              "      <td>NaN</td>\n",
              "      <td>NaN</td>\n",
              "      <td>NaN</td>\n",
              "      <td>NaN</td>\n",
              "      <td>NaN</td>\n",
              "      <td>NaN</td>\n",
              "    </tr>\n",
              "    <tr>\n",
              "      <th>14</th>\n",
              "      <td>Kim Rhode</td>\n",
              "      <td>NaN</td>\n",
              "      <td>NaN</td>\n",
              "      <td>NaN</td>\n",
              "      <td>NaN</td>\n",
              "      <td>NaN</td>\n",
              "      <td>NaN</td>\n",
              "      <td>NaN</td>\n",
              "      <td>NaN</td>\n",
              "      <td>NaN</td>\n",
              "    </tr>\n",
              "    <tr>\n",
              "      <th>15</th>\n",
              "      <td>Kristi Harrower</td>\n",
              "      <td>NaN</td>\n",
              "      <td>NaN</td>\n",
              "      <td>NaN</td>\n",
              "      <td>NaN</td>\n",
              "      <td>NaN</td>\n",
              "      <td>NaN</td>\n",
              "      <td>NaN</td>\n",
              "      <td>NaN</td>\n",
              "      <td>NaN</td>\n",
              "    </tr>\n",
              "    <tr>\n",
              "      <th>16</th>\n",
              "      <td>Lauren Jackson</td>\n",
              "      <td>NaN</td>\n",
              "      <td>NaN</td>\n",
              "      <td>NaN</td>\n",
              "      <td>NaN</td>\n",
              "      <td>NaN</td>\n",
              "      <td>NaN</td>\n",
              "      <td>NaN</td>\n",
              "      <td>NaN</td>\n",
              "      <td>NaN</td>\n",
              "    </tr>\n",
              "    <tr>\n",
              "      <th>17</th>\n",
              "      <td>Leisel Jones</td>\n",
              "      <td>NaN</td>\n",
              "      <td>NaN</td>\n",
              "      <td>NaN</td>\n",
              "      <td>NaN</td>\n",
              "      <td>NaN</td>\n",
              "      <td>NaN</td>\n",
              "      <td>NaN</td>\n",
              "      <td>NaN</td>\n",
              "      <td>NaN</td>\n",
              "    </tr>\n",
              "    <tr>\n",
              "      <th>18</th>\n",
              "      <td>Lucha Aymar</td>\n",
              "      <td>NaN</td>\n",
              "      <td>NaN</td>\n",
              "      <td>NaN</td>\n",
              "      <td>NaN</td>\n",
              "      <td>NaN</td>\n",
              "      <td>NaN</td>\n",
              "      <td>NaN</td>\n",
              "      <td>NaN</td>\n",
              "      <td>NaN</td>\n",
              "    </tr>\n",
              "    <tr>\n",
              "      <th>19</th>\n",
              "      <td>Matt Wells</td>\n",
              "      <td>NaN</td>\n",
              "      <td>NaN</td>\n",
              "      <td>NaN</td>\n",
              "      <td>NaN</td>\n",
              "      <td>NaN</td>\n",
              "      <td>NaN</td>\n",
              "      <td>NaN</td>\n",
              "      <td>NaN</td>\n",
              "      <td>NaN</td>\n",
              "    </tr>\n",
              "    <tr>\n",
              "      <th>20</th>\n",
              "      <td>Michal Martikán</td>\n",
              "      <td>NaN</td>\n",
              "      <td>NaN</td>\n",
              "      <td>NaN</td>\n",
              "      <td>NaN</td>\n",
              "      <td>NaN</td>\n",
              "      <td>NaN</td>\n",
              "      <td>NaN</td>\n",
              "      <td>NaN</td>\n",
              "      <td>NaN</td>\n",
              "    </tr>\n",
              "    <tr>\n",
              "      <th>21</th>\n",
              "      <td>Pavol Hochschorner</td>\n",
              "      <td>NaN</td>\n",
              "      <td>NaN</td>\n",
              "      <td>NaN</td>\n",
              "      <td>NaN</td>\n",
              "      <td>NaN</td>\n",
              "      <td>NaN</td>\n",
              "      <td>NaN</td>\n",
              "      <td>NaN</td>\n",
              "      <td>NaN</td>\n",
              "    </tr>\n",
              "    <tr>\n",
              "      <th>22</th>\n",
              "      <td>Peter Hochschorner</td>\n",
              "      <td>NaN</td>\n",
              "      <td>NaN</td>\n",
              "      <td>NaN</td>\n",
              "      <td>NaN</td>\n",
              "      <td>NaN</td>\n",
              "      <td>NaN</td>\n",
              "      <td>NaN</td>\n",
              "      <td>NaN</td>\n",
              "      <td>NaN</td>\n",
              "    </tr>\n",
              "    <tr>\n",
              "      <th>23</th>\n",
              "      <td>Robert Scheidt</td>\n",
              "      <td>NaN</td>\n",
              "      <td>NaN</td>\n",
              "      <td>NaN</td>\n",
              "      <td>NaN</td>\n",
              "      <td>NaN</td>\n",
              "      <td>NaN</td>\n",
              "      <td>NaN</td>\n",
              "      <td>NaN</td>\n",
              "      <td>NaN</td>\n",
              "    </tr>\n",
              "    <tr>\n",
              "      <th>24</th>\n",
              "      <td>Sergey Tetyukhin</td>\n",
              "      <td>NaN</td>\n",
              "      <td>NaN</td>\n",
              "      <td>NaN</td>\n",
              "      <td>NaN</td>\n",
              "      <td>NaN</td>\n",
              "      <td>NaN</td>\n",
              "      <td>NaN</td>\n",
              "      <td>NaN</td>\n",
              "      <td>NaN</td>\n",
              "    </tr>\n",
              "    <tr>\n",
              "      <th>25</th>\n",
              "      <td>Valentina Vezzali</td>\n",
              "      <td>NaN</td>\n",
              "      <td>NaN</td>\n",
              "      <td>NaN</td>\n",
              "      <td>NaN</td>\n",
              "      <td>NaN</td>\n",
              "      <td>NaN</td>\n",
              "      <td>NaN</td>\n",
              "      <td>NaN</td>\n",
              "      <td>NaN</td>\n",
              "    </tr>\n",
              "    <tr>\n",
              "      <th>26</th>\n",
              "      <td>Veronica Campbell-Brown</td>\n",
              "      <td>NaN</td>\n",
              "      <td>NaN</td>\n",
              "      <td>NaN</td>\n",
              "      <td>NaN</td>\n",
              "      <td>NaN</td>\n",
              "      <td>NaN</td>\n",
              "      <td>NaN</td>\n",
              "      <td>NaN</td>\n",
              "      <td>NaN</td>\n",
              "    </tr>\n",
              "    <tr>\n",
              "      <th>27</th>\n",
              "      <td>Wang Hao</td>\n",
              "      <td>NaN</td>\n",
              "      <td>NaN</td>\n",
              "      <td>NaN</td>\n",
              "      <td>NaN</td>\n",
              "      <td>NaN</td>\n",
              "      <td>NaN</td>\n",
              "      <td>NaN</td>\n",
              "      <td>NaN</td>\n",
              "      <td>NaN</td>\n",
              "    </tr>\n",
              "    <tr>\n",
              "      <th>28</th>\n",
              "      <td>Yang Wei</td>\n",
              "      <td>NaN</td>\n",
              "      <td>NaN</td>\n",
              "      <td>NaN</td>\n",
              "      <td>NaN</td>\n",
              "      <td>NaN</td>\n",
              "      <td>NaN</td>\n",
              "      <td>NaN</td>\n",
              "      <td>NaN</td>\n",
              "      <td>NaN</td>\n",
              "    </tr>\n",
              "  </tbody>\n",
              "</table>\n",
              "</div>\n",
              "      <button class=\"colab-df-convert\" onclick=\"convertToInteractive('df-b639fccf-3084-4044-9298-44148f3835c1')\"\n",
              "              title=\"Convert this dataframe to an interactive table.\"\n",
              "              style=\"display:none;\">\n",
              "        \n",
              "  <svg xmlns=\"http://www.w3.org/2000/svg\" height=\"24px\"viewBox=\"0 0 24 24\"\n",
              "       width=\"24px\">\n",
              "    <path d=\"M0 0h24v24H0V0z\" fill=\"none\"/>\n",
              "    <path d=\"M18.56 5.44l.94 2.06.94-2.06 2.06-.94-2.06-.94-.94-2.06-.94 2.06-2.06.94zm-11 1L8.5 8.5l.94-2.06 2.06-.94-2.06-.94L8.5 2.5l-.94 2.06-2.06.94zm10 10l.94 2.06.94-2.06 2.06-.94-2.06-.94-.94-2.06-.94 2.06-2.06.94z\"/><path d=\"M17.41 7.96l-1.37-1.37c-.4-.4-.92-.59-1.43-.59-.52 0-1.04.2-1.43.59L10.3 9.45l-7.72 7.72c-.78.78-.78 2.05 0 2.83L4 21.41c.39.39.9.59 1.41.59.51 0 1.02-.2 1.41-.59l7.78-7.78 2.81-2.81c.8-.78.8-2.07 0-2.86zM5.41 20L4 18.59l7.72-7.72 1.47 1.35L5.41 20z\"/>\n",
              "  </svg>\n",
              "      </button>\n",
              "      \n",
              "  <style>\n",
              "    .colab-df-container {\n",
              "      display:flex;\n",
              "      flex-wrap:wrap;\n",
              "      gap: 12px;\n",
              "    }\n",
              "\n",
              "    .colab-df-convert {\n",
              "      background-color: #E8F0FE;\n",
              "      border: none;\n",
              "      border-radius: 50%;\n",
              "      cursor: pointer;\n",
              "      display: none;\n",
              "      fill: #1967D2;\n",
              "      height: 32px;\n",
              "      padding: 0 0 0 0;\n",
              "      width: 32px;\n",
              "    }\n",
              "\n",
              "    .colab-df-convert:hover {\n",
              "      background-color: #E2EBFA;\n",
              "      box-shadow: 0px 1px 2px rgba(60, 64, 67, 0.3), 0px 1px 3px 1px rgba(60, 64, 67, 0.15);\n",
              "      fill: #174EA6;\n",
              "    }\n",
              "\n",
              "    [theme=dark] .colab-df-convert {\n",
              "      background-color: #3B4455;\n",
              "      fill: #D2E3FC;\n",
              "    }\n",
              "\n",
              "    [theme=dark] .colab-df-convert:hover {\n",
              "      background-color: #434B5C;\n",
              "      box-shadow: 0px 1px 3px 1px rgba(0, 0, 0, 0.15);\n",
              "      filter: drop-shadow(0px 1px 2px rgba(0, 0, 0, 0.3));\n",
              "      fill: #FFFFFF;\n",
              "    }\n",
              "  </style>\n",
              "\n",
              "      <script>\n",
              "        const buttonEl =\n",
              "          document.querySelector('#df-b639fccf-3084-4044-9298-44148f3835c1 button.colab-df-convert');\n",
              "        buttonEl.style.display =\n",
              "          google.colab.kernel.accessAllowed ? 'block' : 'none';\n",
              "\n",
              "        async function convertToInteractive(key) {\n",
              "          const element = document.querySelector('#df-b639fccf-3084-4044-9298-44148f3835c1');\n",
              "          const dataTable =\n",
              "            await google.colab.kernel.invokeFunction('convertToInteractive',\n",
              "                                                     [key], {});\n",
              "          if (!dataTable) return;\n",
              "\n",
              "          const docLinkHtml = 'Like what you see? Visit the ' +\n",
              "            '<a target=\"_blank\" href=https://colab.research.google.com/notebooks/data_table.ipynb>data table notebook</a>'\n",
              "            + ' to learn more about interactive tables.';\n",
              "          element.innerHTML = '';\n",
              "          dataTable['output_type'] = 'display_data';\n",
              "          await google.colab.output.renderOutput(dataTable, element);\n",
              "          const docLink = document.createElement('div');\n",
              "          docLink.innerHTML = docLinkHtml;\n",
              "          element.appendChild(docLink);\n",
              "        }\n",
              "      </script>\n",
              "    </div>\n",
              "  </div>\n",
              "  "
            ]
          },
          "metadata": {},
          "execution_count": 201
        }
      ]
    },
    {
      "cell_type": "markdown",
      "source": [
        "## Measures of Despersion"
      ],
      "metadata": {
        "id": "aEXkJ-Tp4V7s"
      }
    },
    {
      "cell_type": "code",
      "source": [
        "olympix.std() # checking the standard deviation of the data"
      ],
      "metadata": {
        "colab": {
          "base_uri": "https://localhost:8080/"
        },
        "id": "tNvMTWLA2tjz",
        "outputId": "7022ef68-3060-4d40-80aa-1d5e0d093551"
      },
      "execution_count": null,
      "outputs": [
        {
          "output_type": "execute_result",
          "data": {
            "text/plain": [
              "age             5.102118\n",
              "year            4.289946\n",
              "gold_medal      0.545349\n",
              "silver_medal    0.511613\n",
              "brone_medal     0.505005\n",
              "total_medal     0.408892\n",
              "dtype: float64"
            ]
          },
          "metadata": {},
          "execution_count": 202
        }
      ]
    },
    {
      "cell_type": "code",
      "source": [
        "olympix.var() # checking the variance of the data"
      ],
      "metadata": {
        "colab": {
          "base_uri": "https://localhost:8080/"
        },
        "id": "EJOn9Miy2wqH",
        "outputId": "b959690f-49fa-44c3-91b6-0df556b8fbe4"
      },
      "execution_count": null,
      "outputs": [
        {
          "output_type": "execute_result",
          "data": {
            "text/plain": [
              "age             26.031610\n",
              "year            18.403639\n",
              "gold_medal       0.297405\n",
              "silver_medal     0.261748\n",
              "brone_medal      0.255030\n",
              "total_medal      0.167193\n",
              "dtype: float64"
            ]
          },
          "metadata": {},
          "execution_count": 203
        }
      ]
    },
    {
      "cell_type": "code",
      "source": [
        "# checking the Interquartile range\n",
        "from scipy.stats import iqr\n",
        "iqr(olympix['year'])"
      ],
      "metadata": {
        "colab": {
          "base_uri": "https://localhost:8080/"
        },
        "id": "ZoVSEC7v26-s",
        "outputId": "93b6a04c-8c1e-441c-9525-1e320a3322e0"
      },
      "execution_count": null,
      "outputs": [
        {
          "output_type": "execute_result",
          "data": {
            "text/plain": [
              "8.0"
            ]
          },
          "metadata": {},
          "execution_count": 205
        }
      ]
    },
    {
      "cell_type": "code",
      "source": [
        "print(olympix.skew()) # checking the skewness of the data"
      ],
      "metadata": {
        "colab": {
          "base_uri": "https://localhost:8080/"
        },
        "id": "TDdIAD_E3CQK",
        "outputId": "0b64bb9a-5c33-4e34-dca2-e31119f9635e"
      },
      "execution_count": null,
      "outputs": [
        {
          "output_type": "stream",
          "name": "stdout",
          "text": [
            "age             0.859007\n",
            "year           -0.001965\n",
            "gold_medal      1.639667\n",
            "silver_medal    0.952980\n",
            "brone_medal     0.762999\n",
            "total_medal     5.582673\n",
            "dtype: float64\n"
          ]
        }
      ]
    },
    {
      "cell_type": "markdown",
      "source": [
        "Highly skewed distribution: If the skewness value is less than −1 or greater than +1.\n",
        "\n",
        "Moderately skewed distribution: If the skewness value is between −1 and −½ or between +½ and +1.\n",
        "\n",
        "Approximately symmetric distribution: If the skewness value is between −½ and +½."
      ],
      "metadata": {
        "id": "jC4MeIEs3SKx"
      }
    },
    {
      "cell_type": "code",
      "source": [
        "olympix.describe() # checking everything together using describe function"
      ],
      "metadata": {
        "colab": {
          "base_uri": "https://localhost:8080/",
          "height": 300
        },
        "id": "UWOTzDGw3p2M",
        "outputId": "673343b1-d885-4b39-f523-8addb84f57d5"
      },
      "execution_count": null,
      "outputs": [
        {
          "output_type": "execute_result",
          "data": {
            "text/plain": [
              "               age         year   gold_medal  silver_medal  brone_medal  \\\n",
              "count  8613.000000  8618.000000  8618.000000   8618.000000  8618.000000   \n",
              "mean     26.405434  2005.978881     0.364702      0.363309     0.377698   \n",
              "std       5.102118     4.289946     0.545349      0.511613     0.505005   \n",
              "min      15.000000  2000.000000     0.000000      0.000000     0.000000   \n",
              "25%      23.000000  2002.000000     0.000000      0.000000     0.000000   \n",
              "50%      26.000000  2006.000000     0.000000      0.000000     0.000000   \n",
              "75%      29.000000  2010.000000     1.000000      1.000000     1.000000   \n",
              "max      61.000000  2012.000000     8.000000      3.000000     3.000000   \n",
              "\n",
              "       total_medal  \n",
              "count  8618.000000  \n",
              "mean      1.105709  \n",
              "std       0.408892  \n",
              "min       1.000000  \n",
              "25%       1.000000  \n",
              "50%       1.000000  \n",
              "75%       1.000000  \n",
              "max       8.000000  "
            ],
            "text/html": [
              "\n",
              "  <div id=\"df-34d93858-024b-459d-ab9d-6c0e9ecde4b7\">\n",
              "    <div class=\"colab-df-container\">\n",
              "      <div>\n",
              "<style scoped>\n",
              "    .dataframe tbody tr th:only-of-type {\n",
              "        vertical-align: middle;\n",
              "    }\n",
              "\n",
              "    .dataframe tbody tr th {\n",
              "        vertical-align: top;\n",
              "    }\n",
              "\n",
              "    .dataframe thead th {\n",
              "        text-align: right;\n",
              "    }\n",
              "</style>\n",
              "<table border=\"1\" class=\"dataframe\">\n",
              "  <thead>\n",
              "    <tr style=\"text-align: right;\">\n",
              "      <th></th>\n",
              "      <th>age</th>\n",
              "      <th>year</th>\n",
              "      <th>gold_medal</th>\n",
              "      <th>silver_medal</th>\n",
              "      <th>brone_medal</th>\n",
              "      <th>total_medal</th>\n",
              "    </tr>\n",
              "  </thead>\n",
              "  <tbody>\n",
              "    <tr>\n",
              "      <th>count</th>\n",
              "      <td>8613.000000</td>\n",
              "      <td>8618.000000</td>\n",
              "      <td>8618.000000</td>\n",
              "      <td>8618.000000</td>\n",
              "      <td>8618.000000</td>\n",
              "      <td>8618.000000</td>\n",
              "    </tr>\n",
              "    <tr>\n",
              "      <th>mean</th>\n",
              "      <td>26.405434</td>\n",
              "      <td>2005.978881</td>\n",
              "      <td>0.364702</td>\n",
              "      <td>0.363309</td>\n",
              "      <td>0.377698</td>\n",
              "      <td>1.105709</td>\n",
              "    </tr>\n",
              "    <tr>\n",
              "      <th>std</th>\n",
              "      <td>5.102118</td>\n",
              "      <td>4.289946</td>\n",
              "      <td>0.545349</td>\n",
              "      <td>0.511613</td>\n",
              "      <td>0.505005</td>\n",
              "      <td>0.408892</td>\n",
              "    </tr>\n",
              "    <tr>\n",
              "      <th>min</th>\n",
              "      <td>15.000000</td>\n",
              "      <td>2000.000000</td>\n",
              "      <td>0.000000</td>\n",
              "      <td>0.000000</td>\n",
              "      <td>0.000000</td>\n",
              "      <td>1.000000</td>\n",
              "    </tr>\n",
              "    <tr>\n",
              "      <th>25%</th>\n",
              "      <td>23.000000</td>\n",
              "      <td>2002.000000</td>\n",
              "      <td>0.000000</td>\n",
              "      <td>0.000000</td>\n",
              "      <td>0.000000</td>\n",
              "      <td>1.000000</td>\n",
              "    </tr>\n",
              "    <tr>\n",
              "      <th>50%</th>\n",
              "      <td>26.000000</td>\n",
              "      <td>2006.000000</td>\n",
              "      <td>0.000000</td>\n",
              "      <td>0.000000</td>\n",
              "      <td>0.000000</td>\n",
              "      <td>1.000000</td>\n",
              "    </tr>\n",
              "    <tr>\n",
              "      <th>75%</th>\n",
              "      <td>29.000000</td>\n",
              "      <td>2010.000000</td>\n",
              "      <td>1.000000</td>\n",
              "      <td>1.000000</td>\n",
              "      <td>1.000000</td>\n",
              "      <td>1.000000</td>\n",
              "    </tr>\n",
              "    <tr>\n",
              "      <th>max</th>\n",
              "      <td>61.000000</td>\n",
              "      <td>2012.000000</td>\n",
              "      <td>8.000000</td>\n",
              "      <td>3.000000</td>\n",
              "      <td>3.000000</td>\n",
              "      <td>8.000000</td>\n",
              "    </tr>\n",
              "  </tbody>\n",
              "</table>\n",
              "</div>\n",
              "      <button class=\"colab-df-convert\" onclick=\"convertToInteractive('df-34d93858-024b-459d-ab9d-6c0e9ecde4b7')\"\n",
              "              title=\"Convert this dataframe to an interactive table.\"\n",
              "              style=\"display:none;\">\n",
              "        \n",
              "  <svg xmlns=\"http://www.w3.org/2000/svg\" height=\"24px\"viewBox=\"0 0 24 24\"\n",
              "       width=\"24px\">\n",
              "    <path d=\"M0 0h24v24H0V0z\" fill=\"none\"/>\n",
              "    <path d=\"M18.56 5.44l.94 2.06.94-2.06 2.06-.94-2.06-.94-.94-2.06-.94 2.06-2.06.94zm-11 1L8.5 8.5l.94-2.06 2.06-.94-2.06-.94L8.5 2.5l-.94 2.06-2.06.94zm10 10l.94 2.06.94-2.06 2.06-.94-2.06-.94-.94-2.06-.94 2.06-2.06.94z\"/><path d=\"M17.41 7.96l-1.37-1.37c-.4-.4-.92-.59-1.43-.59-.52 0-1.04.2-1.43.59L10.3 9.45l-7.72 7.72c-.78.78-.78 2.05 0 2.83L4 21.41c.39.39.9.59 1.41.59.51 0 1.02-.2 1.41-.59l7.78-7.78 2.81-2.81c.8-.78.8-2.07 0-2.86zM5.41 20L4 18.59l7.72-7.72 1.47 1.35L5.41 20z\"/>\n",
              "  </svg>\n",
              "      </button>\n",
              "      \n",
              "  <style>\n",
              "    .colab-df-container {\n",
              "      display:flex;\n",
              "      flex-wrap:wrap;\n",
              "      gap: 12px;\n",
              "    }\n",
              "\n",
              "    .colab-df-convert {\n",
              "      background-color: #E8F0FE;\n",
              "      border: none;\n",
              "      border-radius: 50%;\n",
              "      cursor: pointer;\n",
              "      display: none;\n",
              "      fill: #1967D2;\n",
              "      height: 32px;\n",
              "      padding: 0 0 0 0;\n",
              "      width: 32px;\n",
              "    }\n",
              "\n",
              "    .colab-df-convert:hover {\n",
              "      background-color: #E2EBFA;\n",
              "      box-shadow: 0px 1px 2px rgba(60, 64, 67, 0.3), 0px 1px 3px 1px rgba(60, 64, 67, 0.15);\n",
              "      fill: #174EA6;\n",
              "    }\n",
              "\n",
              "    [theme=dark] .colab-df-convert {\n",
              "      background-color: #3B4455;\n",
              "      fill: #D2E3FC;\n",
              "    }\n",
              "\n",
              "    [theme=dark] .colab-df-convert:hover {\n",
              "      background-color: #434B5C;\n",
              "      box-shadow: 0px 1px 3px 1px rgba(0, 0, 0, 0.15);\n",
              "      filter: drop-shadow(0px 1px 2px rgba(0, 0, 0, 0.3));\n",
              "      fill: #FFFFFF;\n",
              "    }\n",
              "  </style>\n",
              "\n",
              "      <script>\n",
              "        const buttonEl =\n",
              "          document.querySelector('#df-34d93858-024b-459d-ab9d-6c0e9ecde4b7 button.colab-df-convert');\n",
              "        buttonEl.style.display =\n",
              "          google.colab.kernel.accessAllowed ? 'block' : 'none';\n",
              "\n",
              "        async function convertToInteractive(key) {\n",
              "          const element = document.querySelector('#df-34d93858-024b-459d-ab9d-6c0e9ecde4b7');\n",
              "          const dataTable =\n",
              "            await google.colab.kernel.invokeFunction('convertToInteractive',\n",
              "                                                     [key], {});\n",
              "          if (!dataTable) return;\n",
              "\n",
              "          const docLinkHtml = 'Like what you see? Visit the ' +\n",
              "            '<a target=\"_blank\" href=https://colab.research.google.com/notebooks/data_table.ipynb>data table notebook</a>'\n",
              "            + ' to learn more about interactive tables.';\n",
              "          element.innerHTML = '';\n",
              "          dataTable['output_type'] = 'display_data';\n",
              "          await google.colab.output.renderOutput(dataTable, element);\n",
              "          const docLink = document.createElement('div');\n",
              "          docLink.innerHTML = docLinkHtml;\n",
              "          element.appendChild(docLink);\n",
              "        }\n",
              "      </script>\n",
              "    </div>\n",
              "  </div>\n",
              "  "
            ]
          },
          "metadata": {},
          "execution_count": 209
        }
      ]
    },
    {
      "cell_type": "markdown",
      "source": [
        "However, the 'describe()' function only prints the statistics for the quantitative or numerical variable. In order to print the similar statistics for all the variables, an additional argument, include='all', needs to be added."
      ],
      "metadata": {
        "id": "NHY-DsE55FT4"
      }
    },
    {
      "cell_type": "code",
      "source": [
        "olympix.describe(include ='all') # checking the complete data"
      ],
      "metadata": {
        "colab": {
          "base_uri": "https://localhost:8080/",
          "height": 476
        },
        "id": "T_rSQGk03bQ5",
        "outputId": "35fd1852-d8c7-4ce8-a211-5d4882296b52"
      },
      "execution_count": null,
      "outputs": [
        {
          "output_type": "execute_result",
          "data": {
            "text/plain": [
              "              name          age        country         year Date_Given  \\\n",
              "count         8613  8613.000000           8618  8618.000000       8618   \n",
              "unique        6955          NaN            110          NaN          7   \n",
              "top     Matt Wells          NaN  United States          NaN  8/24/2008   \n",
              "freq             4          NaN           1109          NaN       1872   \n",
              "mean           NaN    26.405434            NaN  2005.978881        NaN   \n",
              "std            NaN     5.102118            NaN     4.289946        NaN   \n",
              "min            NaN    15.000000            NaN  2000.000000        NaN   \n",
              "25%            NaN    23.000000            NaN  2002.000000        NaN   \n",
              "50%            NaN    26.000000            NaN  2006.000000        NaN   \n",
              "75%            NaN    29.000000            NaN  2010.000000        NaN   \n",
              "max            NaN    61.000000            NaN  2012.000000        NaN   \n",
              "\n",
              "           sports   gold_medal  silver_medal  brone_medal  total_medal  \n",
              "count        8618  8618.000000   8618.000000  8618.000000  8618.000000  \n",
              "unique         49          NaN           NaN          NaN          NaN  \n",
              "top     Athletics          NaN           NaN          NaN          NaN  \n",
              "freq          687          NaN           NaN          NaN          NaN  \n",
              "mean          NaN     0.364702      0.363309     0.377698     1.105709  \n",
              "std           NaN     0.545349      0.511613     0.505005     0.408892  \n",
              "min           NaN     0.000000      0.000000     0.000000     1.000000  \n",
              "25%           NaN     0.000000      0.000000     0.000000     1.000000  \n",
              "50%           NaN     0.000000      0.000000     0.000000     1.000000  \n",
              "75%           NaN     1.000000      1.000000     1.000000     1.000000  \n",
              "max           NaN     8.000000      3.000000     3.000000     8.000000  "
            ],
            "text/html": [
              "\n",
              "  <div id=\"df-26876fe0-2217-41b1-a3c7-5a0efe44fb50\">\n",
              "    <div class=\"colab-df-container\">\n",
              "      <div>\n",
              "<style scoped>\n",
              "    .dataframe tbody tr th:only-of-type {\n",
              "        vertical-align: middle;\n",
              "    }\n",
              "\n",
              "    .dataframe tbody tr th {\n",
              "        vertical-align: top;\n",
              "    }\n",
              "\n",
              "    .dataframe thead th {\n",
              "        text-align: right;\n",
              "    }\n",
              "</style>\n",
              "<table border=\"1\" class=\"dataframe\">\n",
              "  <thead>\n",
              "    <tr style=\"text-align: right;\">\n",
              "      <th></th>\n",
              "      <th>name</th>\n",
              "      <th>age</th>\n",
              "      <th>country</th>\n",
              "      <th>year</th>\n",
              "      <th>Date_Given</th>\n",
              "      <th>sports</th>\n",
              "      <th>gold_medal</th>\n",
              "      <th>silver_medal</th>\n",
              "      <th>brone_medal</th>\n",
              "      <th>total_medal</th>\n",
              "    </tr>\n",
              "  </thead>\n",
              "  <tbody>\n",
              "    <tr>\n",
              "      <th>count</th>\n",
              "      <td>8613</td>\n",
              "      <td>8613.000000</td>\n",
              "      <td>8618</td>\n",
              "      <td>8618.000000</td>\n",
              "      <td>8618</td>\n",
              "      <td>8618</td>\n",
              "      <td>8618.000000</td>\n",
              "      <td>8618.000000</td>\n",
              "      <td>8618.000000</td>\n",
              "      <td>8618.000000</td>\n",
              "    </tr>\n",
              "    <tr>\n",
              "      <th>unique</th>\n",
              "      <td>6955</td>\n",
              "      <td>NaN</td>\n",
              "      <td>110</td>\n",
              "      <td>NaN</td>\n",
              "      <td>7</td>\n",
              "      <td>49</td>\n",
              "      <td>NaN</td>\n",
              "      <td>NaN</td>\n",
              "      <td>NaN</td>\n",
              "      <td>NaN</td>\n",
              "    </tr>\n",
              "    <tr>\n",
              "      <th>top</th>\n",
              "      <td>Matt Wells</td>\n",
              "      <td>NaN</td>\n",
              "      <td>United States</td>\n",
              "      <td>NaN</td>\n",
              "      <td>8/24/2008</td>\n",
              "      <td>Athletics</td>\n",
              "      <td>NaN</td>\n",
              "      <td>NaN</td>\n",
              "      <td>NaN</td>\n",
              "      <td>NaN</td>\n",
              "    </tr>\n",
              "    <tr>\n",
              "      <th>freq</th>\n",
              "      <td>4</td>\n",
              "      <td>NaN</td>\n",
              "      <td>1109</td>\n",
              "      <td>NaN</td>\n",
              "      <td>1872</td>\n",
              "      <td>687</td>\n",
              "      <td>NaN</td>\n",
              "      <td>NaN</td>\n",
              "      <td>NaN</td>\n",
              "      <td>NaN</td>\n",
              "    </tr>\n",
              "    <tr>\n",
              "      <th>mean</th>\n",
              "      <td>NaN</td>\n",
              "      <td>26.405434</td>\n",
              "      <td>NaN</td>\n",
              "      <td>2005.978881</td>\n",
              "      <td>NaN</td>\n",
              "      <td>NaN</td>\n",
              "      <td>0.364702</td>\n",
              "      <td>0.363309</td>\n",
              "      <td>0.377698</td>\n",
              "      <td>1.105709</td>\n",
              "    </tr>\n",
              "    <tr>\n",
              "      <th>std</th>\n",
              "      <td>NaN</td>\n",
              "      <td>5.102118</td>\n",
              "      <td>NaN</td>\n",
              "      <td>4.289946</td>\n",
              "      <td>NaN</td>\n",
              "      <td>NaN</td>\n",
              "      <td>0.545349</td>\n",
              "      <td>0.511613</td>\n",
              "      <td>0.505005</td>\n",
              "      <td>0.408892</td>\n",
              "    </tr>\n",
              "    <tr>\n",
              "      <th>min</th>\n",
              "      <td>NaN</td>\n",
              "      <td>15.000000</td>\n",
              "      <td>NaN</td>\n",
              "      <td>2000.000000</td>\n",
              "      <td>NaN</td>\n",
              "      <td>NaN</td>\n",
              "      <td>0.000000</td>\n",
              "      <td>0.000000</td>\n",
              "      <td>0.000000</td>\n",
              "      <td>1.000000</td>\n",
              "    </tr>\n",
              "    <tr>\n",
              "      <th>25%</th>\n",
              "      <td>NaN</td>\n",
              "      <td>23.000000</td>\n",
              "      <td>NaN</td>\n",
              "      <td>2002.000000</td>\n",
              "      <td>NaN</td>\n",
              "      <td>NaN</td>\n",
              "      <td>0.000000</td>\n",
              "      <td>0.000000</td>\n",
              "      <td>0.000000</td>\n",
              "      <td>1.000000</td>\n",
              "    </tr>\n",
              "    <tr>\n",
              "      <th>50%</th>\n",
              "      <td>NaN</td>\n",
              "      <td>26.000000</td>\n",
              "      <td>NaN</td>\n",
              "      <td>2006.000000</td>\n",
              "      <td>NaN</td>\n",
              "      <td>NaN</td>\n",
              "      <td>0.000000</td>\n",
              "      <td>0.000000</td>\n",
              "      <td>0.000000</td>\n",
              "      <td>1.000000</td>\n",
              "    </tr>\n",
              "    <tr>\n",
              "      <th>75%</th>\n",
              "      <td>NaN</td>\n",
              "      <td>29.000000</td>\n",
              "      <td>NaN</td>\n",
              "      <td>2010.000000</td>\n",
              "      <td>NaN</td>\n",
              "      <td>NaN</td>\n",
              "      <td>1.000000</td>\n",
              "      <td>1.000000</td>\n",
              "      <td>1.000000</td>\n",
              "      <td>1.000000</td>\n",
              "    </tr>\n",
              "    <tr>\n",
              "      <th>max</th>\n",
              "      <td>NaN</td>\n",
              "      <td>61.000000</td>\n",
              "      <td>NaN</td>\n",
              "      <td>2012.000000</td>\n",
              "      <td>NaN</td>\n",
              "      <td>NaN</td>\n",
              "      <td>8.000000</td>\n",
              "      <td>3.000000</td>\n",
              "      <td>3.000000</td>\n",
              "      <td>8.000000</td>\n",
              "    </tr>\n",
              "  </tbody>\n",
              "</table>\n",
              "</div>\n",
              "      <button class=\"colab-df-convert\" onclick=\"convertToInteractive('df-26876fe0-2217-41b1-a3c7-5a0efe44fb50')\"\n",
              "              title=\"Convert this dataframe to an interactive table.\"\n",
              "              style=\"display:none;\">\n",
              "        \n",
              "  <svg xmlns=\"http://www.w3.org/2000/svg\" height=\"24px\"viewBox=\"0 0 24 24\"\n",
              "       width=\"24px\">\n",
              "    <path d=\"M0 0h24v24H0V0z\" fill=\"none\"/>\n",
              "    <path d=\"M18.56 5.44l.94 2.06.94-2.06 2.06-.94-2.06-.94-.94-2.06-.94 2.06-2.06.94zm-11 1L8.5 8.5l.94-2.06 2.06-.94-2.06-.94L8.5 2.5l-.94 2.06-2.06.94zm10 10l.94 2.06.94-2.06 2.06-.94-2.06-.94-.94-2.06-.94 2.06-2.06.94z\"/><path d=\"M17.41 7.96l-1.37-1.37c-.4-.4-.92-.59-1.43-.59-.52 0-1.04.2-1.43.59L10.3 9.45l-7.72 7.72c-.78.78-.78 2.05 0 2.83L4 21.41c.39.39.9.59 1.41.59.51 0 1.02-.2 1.41-.59l7.78-7.78 2.81-2.81c.8-.78.8-2.07 0-2.86zM5.41 20L4 18.59l7.72-7.72 1.47 1.35L5.41 20z\"/>\n",
              "  </svg>\n",
              "      </button>\n",
              "      \n",
              "  <style>\n",
              "    .colab-df-container {\n",
              "      display:flex;\n",
              "      flex-wrap:wrap;\n",
              "      gap: 12px;\n",
              "    }\n",
              "\n",
              "    .colab-df-convert {\n",
              "      background-color: #E8F0FE;\n",
              "      border: none;\n",
              "      border-radius: 50%;\n",
              "      cursor: pointer;\n",
              "      display: none;\n",
              "      fill: #1967D2;\n",
              "      height: 32px;\n",
              "      padding: 0 0 0 0;\n",
              "      width: 32px;\n",
              "    }\n",
              "\n",
              "    .colab-df-convert:hover {\n",
              "      background-color: #E2EBFA;\n",
              "      box-shadow: 0px 1px 2px rgba(60, 64, 67, 0.3), 0px 1px 3px 1px rgba(60, 64, 67, 0.15);\n",
              "      fill: #174EA6;\n",
              "    }\n",
              "\n",
              "    [theme=dark] .colab-df-convert {\n",
              "      background-color: #3B4455;\n",
              "      fill: #D2E3FC;\n",
              "    }\n",
              "\n",
              "    [theme=dark] .colab-df-convert:hover {\n",
              "      background-color: #434B5C;\n",
              "      box-shadow: 0px 1px 3px 1px rgba(0, 0, 0, 0.15);\n",
              "      filter: drop-shadow(0px 1px 2px rgba(0, 0, 0, 0.3));\n",
              "      fill: #FFFFFF;\n",
              "    }\n",
              "  </style>\n",
              "\n",
              "      <script>\n",
              "        const buttonEl =\n",
              "          document.querySelector('#df-26876fe0-2217-41b1-a3c7-5a0efe44fb50 button.colab-df-convert');\n",
              "        buttonEl.style.display =\n",
              "          google.colab.kernel.accessAllowed ? 'block' : 'none';\n",
              "\n",
              "        async function convertToInteractive(key) {\n",
              "          const element = document.querySelector('#df-26876fe0-2217-41b1-a3c7-5a0efe44fb50');\n",
              "          const dataTable =\n",
              "            await google.colab.kernel.invokeFunction('convertToInteractive',\n",
              "                                                     [key], {});\n",
              "          if (!dataTable) return;\n",
              "\n",
              "          const docLinkHtml = 'Like what you see? Visit the ' +\n",
              "            '<a target=\"_blank\" href=https://colab.research.google.com/notebooks/data_table.ipynb>data table notebook</a>'\n",
              "            + ' to learn more about interactive tables.';\n",
              "          element.innerHTML = '';\n",
              "          dataTable['output_type'] = 'display_data';\n",
              "          await google.colab.output.renderOutput(dataTable, element);\n",
              "          const docLink = document.createElement('div');\n",
              "          docLink.innerHTML = docLinkHtml;\n",
              "          element.appendChild(docLink);\n",
              "        }\n",
              "      </script>\n",
              "    </div>\n",
              "  </div>\n",
              "  "
            ]
          },
          "metadata": {},
          "execution_count": 208
        }
      ]
    },
    {
      "cell_type": "markdown",
      "source": [
        "Now we have the summary statistics for all the variables. For qualitative variables, we will not have the statistics such as the mean or the median, but we will have statistics like the frequency and the unique label."
      ],
      "metadata": {
        "id": "-h2c1GNm32Ym"
      }
    },
    {
      "cell_type": "code",
      "source": [
        "olympix.describe().round(0)# statistical summary of nummerical varriable and rounding of float values to zero\n"
      ],
      "metadata": {
        "colab": {
          "base_uri": "https://localhost:8080/",
          "height": 300
        },
        "id": "3I59AkJRPE4o",
        "outputId": "ddd276b3-6de9-4445-f471-dc95896bfcd3"
      },
      "execution_count": null,
      "outputs": [
        {
          "output_type": "execute_result",
          "data": {
            "text/plain": [
              "          age    year  gold_medal  silver_medal  brone_medal  total_medal\n",
              "count  8613.0  8618.0      8618.0        8618.0       8618.0       8618.0\n",
              "mean     26.0  2006.0         0.0           0.0          0.0          1.0\n",
              "std       5.0     4.0         1.0           1.0          1.0          0.0\n",
              "min      15.0  2000.0         0.0           0.0          0.0          1.0\n",
              "25%      23.0  2002.0         0.0           0.0          0.0          1.0\n",
              "50%      26.0  2006.0         0.0           0.0          0.0          1.0\n",
              "75%      29.0  2010.0         1.0           1.0          1.0          1.0\n",
              "max      61.0  2012.0         8.0           3.0          3.0          8.0"
            ],
            "text/html": [
              "\n",
              "  <div id=\"df-31d96978-2fe7-4165-a900-0f85a89a8551\">\n",
              "    <div class=\"colab-df-container\">\n",
              "      <div>\n",
              "<style scoped>\n",
              "    .dataframe tbody tr th:only-of-type {\n",
              "        vertical-align: middle;\n",
              "    }\n",
              "\n",
              "    .dataframe tbody tr th {\n",
              "        vertical-align: top;\n",
              "    }\n",
              "\n",
              "    .dataframe thead th {\n",
              "        text-align: right;\n",
              "    }\n",
              "</style>\n",
              "<table border=\"1\" class=\"dataframe\">\n",
              "  <thead>\n",
              "    <tr style=\"text-align: right;\">\n",
              "      <th></th>\n",
              "      <th>age</th>\n",
              "      <th>year</th>\n",
              "      <th>gold_medal</th>\n",
              "      <th>silver_medal</th>\n",
              "      <th>brone_medal</th>\n",
              "      <th>total_medal</th>\n",
              "    </tr>\n",
              "  </thead>\n",
              "  <tbody>\n",
              "    <tr>\n",
              "      <th>count</th>\n",
              "      <td>8613.0</td>\n",
              "      <td>8618.0</td>\n",
              "      <td>8618.0</td>\n",
              "      <td>8618.0</td>\n",
              "      <td>8618.0</td>\n",
              "      <td>8618.0</td>\n",
              "    </tr>\n",
              "    <tr>\n",
              "      <th>mean</th>\n",
              "      <td>26.0</td>\n",
              "      <td>2006.0</td>\n",
              "      <td>0.0</td>\n",
              "      <td>0.0</td>\n",
              "      <td>0.0</td>\n",
              "      <td>1.0</td>\n",
              "    </tr>\n",
              "    <tr>\n",
              "      <th>std</th>\n",
              "      <td>5.0</td>\n",
              "      <td>4.0</td>\n",
              "      <td>1.0</td>\n",
              "      <td>1.0</td>\n",
              "      <td>1.0</td>\n",
              "      <td>0.0</td>\n",
              "    </tr>\n",
              "    <tr>\n",
              "      <th>min</th>\n",
              "      <td>15.0</td>\n",
              "      <td>2000.0</td>\n",
              "      <td>0.0</td>\n",
              "      <td>0.0</td>\n",
              "      <td>0.0</td>\n",
              "      <td>1.0</td>\n",
              "    </tr>\n",
              "    <tr>\n",
              "      <th>25%</th>\n",
              "      <td>23.0</td>\n",
              "      <td>2002.0</td>\n",
              "      <td>0.0</td>\n",
              "      <td>0.0</td>\n",
              "      <td>0.0</td>\n",
              "      <td>1.0</td>\n",
              "    </tr>\n",
              "    <tr>\n",
              "      <th>50%</th>\n",
              "      <td>26.0</td>\n",
              "      <td>2006.0</td>\n",
              "      <td>0.0</td>\n",
              "      <td>0.0</td>\n",
              "      <td>0.0</td>\n",
              "      <td>1.0</td>\n",
              "    </tr>\n",
              "    <tr>\n",
              "      <th>75%</th>\n",
              "      <td>29.0</td>\n",
              "      <td>2010.0</td>\n",
              "      <td>1.0</td>\n",
              "      <td>1.0</td>\n",
              "      <td>1.0</td>\n",
              "      <td>1.0</td>\n",
              "    </tr>\n",
              "    <tr>\n",
              "      <th>max</th>\n",
              "      <td>61.0</td>\n",
              "      <td>2012.0</td>\n",
              "      <td>8.0</td>\n",
              "      <td>3.0</td>\n",
              "      <td>3.0</td>\n",
              "      <td>8.0</td>\n",
              "    </tr>\n",
              "  </tbody>\n",
              "</table>\n",
              "</div>\n",
              "      <button class=\"colab-df-convert\" onclick=\"convertToInteractive('df-31d96978-2fe7-4165-a900-0f85a89a8551')\"\n",
              "              title=\"Convert this dataframe to an interactive table.\"\n",
              "              style=\"display:none;\">\n",
              "        \n",
              "  <svg xmlns=\"http://www.w3.org/2000/svg\" height=\"24px\"viewBox=\"0 0 24 24\"\n",
              "       width=\"24px\">\n",
              "    <path d=\"M0 0h24v24H0V0z\" fill=\"none\"/>\n",
              "    <path d=\"M18.56 5.44l.94 2.06.94-2.06 2.06-.94-2.06-.94-.94-2.06-.94 2.06-2.06.94zm-11 1L8.5 8.5l.94-2.06 2.06-.94-2.06-.94L8.5 2.5l-.94 2.06-2.06.94zm10 10l.94 2.06.94-2.06 2.06-.94-2.06-.94-.94-2.06-.94 2.06-2.06.94z\"/><path d=\"M17.41 7.96l-1.37-1.37c-.4-.4-.92-.59-1.43-.59-.52 0-1.04.2-1.43.59L10.3 9.45l-7.72 7.72c-.78.78-.78 2.05 0 2.83L4 21.41c.39.39.9.59 1.41.59.51 0 1.02-.2 1.41-.59l7.78-7.78 2.81-2.81c.8-.78.8-2.07 0-2.86zM5.41 20L4 18.59l7.72-7.72 1.47 1.35L5.41 20z\"/>\n",
              "  </svg>\n",
              "      </button>\n",
              "      \n",
              "  <style>\n",
              "    .colab-df-container {\n",
              "      display:flex;\n",
              "      flex-wrap:wrap;\n",
              "      gap: 12px;\n",
              "    }\n",
              "\n",
              "    .colab-df-convert {\n",
              "      background-color: #E8F0FE;\n",
              "      border: none;\n",
              "      border-radius: 50%;\n",
              "      cursor: pointer;\n",
              "      display: none;\n",
              "      fill: #1967D2;\n",
              "      height: 32px;\n",
              "      padding: 0 0 0 0;\n",
              "      width: 32px;\n",
              "    }\n",
              "\n",
              "    .colab-df-convert:hover {\n",
              "      background-color: #E2EBFA;\n",
              "      box-shadow: 0px 1px 2px rgba(60, 64, 67, 0.3), 0px 1px 3px 1px rgba(60, 64, 67, 0.15);\n",
              "      fill: #174EA6;\n",
              "    }\n",
              "\n",
              "    [theme=dark] .colab-df-convert {\n",
              "      background-color: #3B4455;\n",
              "      fill: #D2E3FC;\n",
              "    }\n",
              "\n",
              "    [theme=dark] .colab-df-convert:hover {\n",
              "      background-color: #434B5C;\n",
              "      box-shadow: 0px 1px 3px 1px rgba(0, 0, 0, 0.15);\n",
              "      filter: drop-shadow(0px 1px 2px rgba(0, 0, 0, 0.3));\n",
              "      fill: #FFFFFF;\n",
              "    }\n",
              "  </style>\n",
              "\n",
              "      <script>\n",
              "        const buttonEl =\n",
              "          document.querySelector('#df-31d96978-2fe7-4165-a900-0f85a89a8551 button.colab-df-convert');\n",
              "        buttonEl.style.display =\n",
              "          google.colab.kernel.accessAllowed ? 'block' : 'none';\n",
              "\n",
              "        async function convertToInteractive(key) {\n",
              "          const element = document.querySelector('#df-31d96978-2fe7-4165-a900-0f85a89a8551');\n",
              "          const dataTable =\n",
              "            await google.colab.kernel.invokeFunction('convertToInteractive',\n",
              "                                                     [key], {});\n",
              "          if (!dataTable) return;\n",
              "\n",
              "          const docLinkHtml = 'Like what you see? Visit the ' +\n",
              "            '<a target=\"_blank\" href=https://colab.research.google.com/notebooks/data_table.ipynb>data table notebook</a>'\n",
              "            + ' to learn more about interactive tables.';\n",
              "          element.innerHTML = '';\n",
              "          dataTable['output_type'] = 'display_data';\n",
              "          await google.colab.output.renderOutput(dataTable, element);\n",
              "          const docLink = document.createElement('div');\n",
              "          docLink.innerHTML = docLinkHtml;\n",
              "          element.appendChild(docLink);\n",
              "        }\n",
              "      </script>\n",
              "    </div>\n",
              "  </div>\n",
              "  "
            ]
          },
          "metadata": {},
          "execution_count": 25
        }
      ]
    },
    {
      "cell_type": "code",
      "source": [
        "olympix.describe(include='object')# statistical summary of categorical  varriables\n"
      ],
      "metadata": {
        "colab": {
          "base_uri": "https://localhost:8080/",
          "height": 175
        },
        "id": "1Z8SSeQIPM-W",
        "outputId": "d94e245e-2f52-49b2-f352-53e080390432"
      },
      "execution_count": null,
      "outputs": [
        {
          "output_type": "execute_result",
          "data": {
            "text/plain": [
              "              name        country Date_Given     sports    New_name\n",
              "count         8613           8618       8618       8618        8613\n",
              "unique        6955            110          7         49        6955\n",
              "top     Matt Wells  United States  8/24/2008  Athletics  Matt Wells\n",
              "freq             4           1109       1872        687           4"
            ],
            "text/html": [
              "\n",
              "  <div id=\"df-db3d3213-2db2-4d6d-b549-ba9ed235ec71\">\n",
              "    <div class=\"colab-df-container\">\n",
              "      <div>\n",
              "<style scoped>\n",
              "    .dataframe tbody tr th:only-of-type {\n",
              "        vertical-align: middle;\n",
              "    }\n",
              "\n",
              "    .dataframe tbody tr th {\n",
              "        vertical-align: top;\n",
              "    }\n",
              "\n",
              "    .dataframe thead th {\n",
              "        text-align: right;\n",
              "    }\n",
              "</style>\n",
              "<table border=\"1\" class=\"dataframe\">\n",
              "  <thead>\n",
              "    <tr style=\"text-align: right;\">\n",
              "      <th></th>\n",
              "      <th>name</th>\n",
              "      <th>country</th>\n",
              "      <th>Date_Given</th>\n",
              "      <th>sports</th>\n",
              "      <th>New_name</th>\n",
              "    </tr>\n",
              "  </thead>\n",
              "  <tbody>\n",
              "    <tr>\n",
              "      <th>count</th>\n",
              "      <td>8613</td>\n",
              "      <td>8618</td>\n",
              "      <td>8618</td>\n",
              "      <td>8618</td>\n",
              "      <td>8613</td>\n",
              "    </tr>\n",
              "    <tr>\n",
              "      <th>unique</th>\n",
              "      <td>6955</td>\n",
              "      <td>110</td>\n",
              "      <td>7</td>\n",
              "      <td>49</td>\n",
              "      <td>6955</td>\n",
              "    </tr>\n",
              "    <tr>\n",
              "      <th>top</th>\n",
              "      <td>Matt Wells</td>\n",
              "      <td>United States</td>\n",
              "      <td>8/24/2008</td>\n",
              "      <td>Athletics</td>\n",
              "      <td>Matt Wells</td>\n",
              "    </tr>\n",
              "    <tr>\n",
              "      <th>freq</th>\n",
              "      <td>4</td>\n",
              "      <td>1109</td>\n",
              "      <td>1872</td>\n",
              "      <td>687</td>\n",
              "      <td>4</td>\n",
              "    </tr>\n",
              "  </tbody>\n",
              "</table>\n",
              "</div>\n",
              "      <button class=\"colab-df-convert\" onclick=\"convertToInteractive('df-db3d3213-2db2-4d6d-b549-ba9ed235ec71')\"\n",
              "              title=\"Convert this dataframe to an interactive table.\"\n",
              "              style=\"display:none;\">\n",
              "        \n",
              "  <svg xmlns=\"http://www.w3.org/2000/svg\" height=\"24px\"viewBox=\"0 0 24 24\"\n",
              "       width=\"24px\">\n",
              "    <path d=\"M0 0h24v24H0V0z\" fill=\"none\"/>\n",
              "    <path d=\"M18.56 5.44l.94 2.06.94-2.06 2.06-.94-2.06-.94-.94-2.06-.94 2.06-2.06.94zm-11 1L8.5 8.5l.94-2.06 2.06-.94-2.06-.94L8.5 2.5l-.94 2.06-2.06.94zm10 10l.94 2.06.94-2.06 2.06-.94-2.06-.94-.94-2.06-.94 2.06-2.06.94z\"/><path d=\"M17.41 7.96l-1.37-1.37c-.4-.4-.92-.59-1.43-.59-.52 0-1.04.2-1.43.59L10.3 9.45l-7.72 7.72c-.78.78-.78 2.05 0 2.83L4 21.41c.39.39.9.59 1.41.59.51 0 1.02-.2 1.41-.59l7.78-7.78 2.81-2.81c.8-.78.8-2.07 0-2.86zM5.41 20L4 18.59l7.72-7.72 1.47 1.35L5.41 20z\"/>\n",
              "  </svg>\n",
              "      </button>\n",
              "      \n",
              "  <style>\n",
              "    .colab-df-container {\n",
              "      display:flex;\n",
              "      flex-wrap:wrap;\n",
              "      gap: 12px;\n",
              "    }\n",
              "\n",
              "    .colab-df-convert {\n",
              "      background-color: #E8F0FE;\n",
              "      border: none;\n",
              "      border-radius: 50%;\n",
              "      cursor: pointer;\n",
              "      display: none;\n",
              "      fill: #1967D2;\n",
              "      height: 32px;\n",
              "      padding: 0 0 0 0;\n",
              "      width: 32px;\n",
              "    }\n",
              "\n",
              "    .colab-df-convert:hover {\n",
              "      background-color: #E2EBFA;\n",
              "      box-shadow: 0px 1px 2px rgba(60, 64, 67, 0.3), 0px 1px 3px 1px rgba(60, 64, 67, 0.15);\n",
              "      fill: #174EA6;\n",
              "    }\n",
              "\n",
              "    [theme=dark] .colab-df-convert {\n",
              "      background-color: #3B4455;\n",
              "      fill: #D2E3FC;\n",
              "    }\n",
              "\n",
              "    [theme=dark] .colab-df-convert:hover {\n",
              "      background-color: #434B5C;\n",
              "      box-shadow: 0px 1px 3px 1px rgba(0, 0, 0, 0.15);\n",
              "      filter: drop-shadow(0px 1px 2px rgba(0, 0, 0, 0.3));\n",
              "      fill: #FFFFFF;\n",
              "    }\n",
              "  </style>\n",
              "\n",
              "      <script>\n",
              "        const buttonEl =\n",
              "          document.querySelector('#df-db3d3213-2db2-4d6d-b549-ba9ed235ec71 button.colab-df-convert');\n",
              "        buttonEl.style.display =\n",
              "          google.colab.kernel.accessAllowed ? 'block' : 'none';\n",
              "\n",
              "        async function convertToInteractive(key) {\n",
              "          const element = document.querySelector('#df-db3d3213-2db2-4d6d-b549-ba9ed235ec71');\n",
              "          const dataTable =\n",
              "            await google.colab.kernel.invokeFunction('convertToInteractive',\n",
              "                                                     [key], {});\n",
              "          if (!dataTable) return;\n",
              "\n",
              "          const docLinkHtml = 'Like what you see? Visit the ' +\n",
              "            '<a target=\"_blank\" href=https://colab.research.google.com/notebooks/data_table.ipynb>data table notebook</a>'\n",
              "            + ' to learn more about interactive tables.';\n",
              "          element.innerHTML = '';\n",
              "          dataTable['output_type'] = 'display_data';\n",
              "          await google.colab.output.renderOutput(dataTable, element);\n",
              "          const docLink = document.createElement('div');\n",
              "          docLink.innerHTML = docLinkHtml;\n",
              "          element.appendChild(docLink);\n",
              "        }\n",
              "      </script>\n",
              "    </div>\n",
              "  </div>\n",
              "  "
            ]
          },
          "metadata": {},
          "execution_count": 26
        }
      ]
    },
    {
      "cell_type": "markdown",
      "source": [
        "## Top 10 countries with gold medal, silver medal, bronze medal."
      ],
      "metadata": {
        "id": "9l7UCaJ502TD"
      }
    },
    {
      "cell_type": "code",
      "source": [
        "olympix.nlargest(n=10, columns=['gold_medal']) # checking the top 10 countries with gold medal\n"
      ],
      "metadata": {
        "colab": {
          "base_uri": "https://localhost:8080/",
          "height": 580
        },
        "id": "nvimCypq0gsv",
        "outputId": "74321d91-d165-4f4c-f7dc-ba8ce6c84cfb"
      },
      "execution_count": null,
      "outputs": [
        {
          "output_type": "execute_result",
          "data": {
            "text/plain": [
              "                    name   age        country  year  Date_Given  \\\n",
              "0         Michael Phelps  23.0  United States  2008   8/24/2008   \n",
              "1         Michael Phelps  19.0  United States  2004   8/29/2004   \n",
              "2         Michael Phelps  27.0  United States  2012  08-12-2012   \n",
              "6         Missy Franklin  17.0  United States  2012  08-12-2012   \n",
              "34  Ole Einar Bjørndalen  28.0         Norway  2002   2/24/2002   \n",
              "8        Allison Schmitt  22.0  United States  2012  08-12-2012   \n",
              "10            Ian Thorpe  17.0      Australia  2000  10-01-2000   \n",
              "14         Marit Bjørgen  29.0         Norway  2010   2/28/2010   \n",
              "20         Petria Thomas  28.0      Australia  2004   8/29/2004   \n",
              "22        Inge de Bruijn  27.0    Netherlands  2000  10-01-2000   \n",
              "\n",
              "                  sports  gold_medal  silver_medal  brone_medal  total_medal  \n",
              "0               Swimming           8             0            0            8  \n",
              "1               Swimming           6             0            2            8  \n",
              "2               Swimming           4             2            0            6  \n",
              "6               Swimming           4             0            1            5  \n",
              "34              Biathlon           4             0            0            4  \n",
              "8               Swimming           3             1            1            5  \n",
              "10              Swimming           3             2            0            5  \n",
              "14  Cross Country Skiing           3             1            1            5  \n",
              "20              Swimming           3             1            0            4  \n",
              "22              Swimming           3             1            0            4  "
            ],
            "text/html": [
              "\n",
              "  <div id=\"df-6df20d72-ac79-4f4c-9c1a-2c46e7446bfe\">\n",
              "    <div class=\"colab-df-container\">\n",
              "      <div>\n",
              "<style scoped>\n",
              "    .dataframe tbody tr th:only-of-type {\n",
              "        vertical-align: middle;\n",
              "    }\n",
              "\n",
              "    .dataframe tbody tr th {\n",
              "        vertical-align: top;\n",
              "    }\n",
              "\n",
              "    .dataframe thead th {\n",
              "        text-align: right;\n",
              "    }\n",
              "</style>\n",
              "<table border=\"1\" class=\"dataframe\">\n",
              "  <thead>\n",
              "    <tr style=\"text-align: right;\">\n",
              "      <th></th>\n",
              "      <th>name</th>\n",
              "      <th>age</th>\n",
              "      <th>country</th>\n",
              "      <th>year</th>\n",
              "      <th>Date_Given</th>\n",
              "      <th>sports</th>\n",
              "      <th>gold_medal</th>\n",
              "      <th>silver_medal</th>\n",
              "      <th>brone_medal</th>\n",
              "      <th>total_medal</th>\n",
              "    </tr>\n",
              "  </thead>\n",
              "  <tbody>\n",
              "    <tr>\n",
              "      <th>0</th>\n",
              "      <td>Michael Phelps</td>\n",
              "      <td>23.0</td>\n",
              "      <td>United States</td>\n",
              "      <td>2008</td>\n",
              "      <td>8/24/2008</td>\n",
              "      <td>Swimming</td>\n",
              "      <td>8</td>\n",
              "      <td>0</td>\n",
              "      <td>0</td>\n",
              "      <td>8</td>\n",
              "    </tr>\n",
              "    <tr>\n",
              "      <th>1</th>\n",
              "      <td>Michael Phelps</td>\n",
              "      <td>19.0</td>\n",
              "      <td>United States</td>\n",
              "      <td>2004</td>\n",
              "      <td>8/29/2004</td>\n",
              "      <td>Swimming</td>\n",
              "      <td>6</td>\n",
              "      <td>0</td>\n",
              "      <td>2</td>\n",
              "      <td>8</td>\n",
              "    </tr>\n",
              "    <tr>\n",
              "      <th>2</th>\n",
              "      <td>Michael Phelps</td>\n",
              "      <td>27.0</td>\n",
              "      <td>United States</td>\n",
              "      <td>2012</td>\n",
              "      <td>08-12-2012</td>\n",
              "      <td>Swimming</td>\n",
              "      <td>4</td>\n",
              "      <td>2</td>\n",
              "      <td>0</td>\n",
              "      <td>6</td>\n",
              "    </tr>\n",
              "    <tr>\n",
              "      <th>6</th>\n",
              "      <td>Missy Franklin</td>\n",
              "      <td>17.0</td>\n",
              "      <td>United States</td>\n",
              "      <td>2012</td>\n",
              "      <td>08-12-2012</td>\n",
              "      <td>Swimming</td>\n",
              "      <td>4</td>\n",
              "      <td>0</td>\n",
              "      <td>1</td>\n",
              "      <td>5</td>\n",
              "    </tr>\n",
              "    <tr>\n",
              "      <th>34</th>\n",
              "      <td>Ole Einar Bjørndalen</td>\n",
              "      <td>28.0</td>\n",
              "      <td>Norway</td>\n",
              "      <td>2002</td>\n",
              "      <td>2/24/2002</td>\n",
              "      <td>Biathlon</td>\n",
              "      <td>4</td>\n",
              "      <td>0</td>\n",
              "      <td>0</td>\n",
              "      <td>4</td>\n",
              "    </tr>\n",
              "    <tr>\n",
              "      <th>8</th>\n",
              "      <td>Allison Schmitt</td>\n",
              "      <td>22.0</td>\n",
              "      <td>United States</td>\n",
              "      <td>2012</td>\n",
              "      <td>08-12-2012</td>\n",
              "      <td>Swimming</td>\n",
              "      <td>3</td>\n",
              "      <td>1</td>\n",
              "      <td>1</td>\n",
              "      <td>5</td>\n",
              "    </tr>\n",
              "    <tr>\n",
              "      <th>10</th>\n",
              "      <td>Ian Thorpe</td>\n",
              "      <td>17.0</td>\n",
              "      <td>Australia</td>\n",
              "      <td>2000</td>\n",
              "      <td>10-01-2000</td>\n",
              "      <td>Swimming</td>\n",
              "      <td>3</td>\n",
              "      <td>2</td>\n",
              "      <td>0</td>\n",
              "      <td>5</td>\n",
              "    </tr>\n",
              "    <tr>\n",
              "      <th>14</th>\n",
              "      <td>Marit Bjørgen</td>\n",
              "      <td>29.0</td>\n",
              "      <td>Norway</td>\n",
              "      <td>2010</td>\n",
              "      <td>2/28/2010</td>\n",
              "      <td>Cross Country Skiing</td>\n",
              "      <td>3</td>\n",
              "      <td>1</td>\n",
              "      <td>1</td>\n",
              "      <td>5</td>\n",
              "    </tr>\n",
              "    <tr>\n",
              "      <th>20</th>\n",
              "      <td>Petria Thomas</td>\n",
              "      <td>28.0</td>\n",
              "      <td>Australia</td>\n",
              "      <td>2004</td>\n",
              "      <td>8/29/2004</td>\n",
              "      <td>Swimming</td>\n",
              "      <td>3</td>\n",
              "      <td>1</td>\n",
              "      <td>0</td>\n",
              "      <td>4</td>\n",
              "    </tr>\n",
              "    <tr>\n",
              "      <th>22</th>\n",
              "      <td>Inge de Bruijn</td>\n",
              "      <td>27.0</td>\n",
              "      <td>Netherlands</td>\n",
              "      <td>2000</td>\n",
              "      <td>10-01-2000</td>\n",
              "      <td>Swimming</td>\n",
              "      <td>3</td>\n",
              "      <td>1</td>\n",
              "      <td>0</td>\n",
              "      <td>4</td>\n",
              "    </tr>\n",
              "  </tbody>\n",
              "</table>\n",
              "</div>\n",
              "      <button class=\"colab-df-convert\" onclick=\"convertToInteractive('df-6df20d72-ac79-4f4c-9c1a-2c46e7446bfe')\"\n",
              "              title=\"Convert this dataframe to an interactive table.\"\n",
              "              style=\"display:none;\">\n",
              "        \n",
              "  <svg xmlns=\"http://www.w3.org/2000/svg\" height=\"24px\"viewBox=\"0 0 24 24\"\n",
              "       width=\"24px\">\n",
              "    <path d=\"M0 0h24v24H0V0z\" fill=\"none\"/>\n",
              "    <path d=\"M18.56 5.44l.94 2.06.94-2.06 2.06-.94-2.06-.94-.94-2.06-.94 2.06-2.06.94zm-11 1L8.5 8.5l.94-2.06 2.06-.94-2.06-.94L8.5 2.5l-.94 2.06-2.06.94zm10 10l.94 2.06.94-2.06 2.06-.94-2.06-.94-.94-2.06-.94 2.06-2.06.94z\"/><path d=\"M17.41 7.96l-1.37-1.37c-.4-.4-.92-.59-1.43-.59-.52 0-1.04.2-1.43.59L10.3 9.45l-7.72 7.72c-.78.78-.78 2.05 0 2.83L4 21.41c.39.39.9.59 1.41.59.51 0 1.02-.2 1.41-.59l7.78-7.78 2.81-2.81c.8-.78.8-2.07 0-2.86zM5.41 20L4 18.59l7.72-7.72 1.47 1.35L5.41 20z\"/>\n",
              "  </svg>\n",
              "      </button>\n",
              "      \n",
              "  <style>\n",
              "    .colab-df-container {\n",
              "      display:flex;\n",
              "      flex-wrap:wrap;\n",
              "      gap: 12px;\n",
              "    }\n",
              "\n",
              "    .colab-df-convert {\n",
              "      background-color: #E8F0FE;\n",
              "      border: none;\n",
              "      border-radius: 50%;\n",
              "      cursor: pointer;\n",
              "      display: none;\n",
              "      fill: #1967D2;\n",
              "      height: 32px;\n",
              "      padding: 0 0 0 0;\n",
              "      width: 32px;\n",
              "    }\n",
              "\n",
              "    .colab-df-convert:hover {\n",
              "      background-color: #E2EBFA;\n",
              "      box-shadow: 0px 1px 2px rgba(60, 64, 67, 0.3), 0px 1px 3px 1px rgba(60, 64, 67, 0.15);\n",
              "      fill: #174EA6;\n",
              "    }\n",
              "\n",
              "    [theme=dark] .colab-df-convert {\n",
              "      background-color: #3B4455;\n",
              "      fill: #D2E3FC;\n",
              "    }\n",
              "\n",
              "    [theme=dark] .colab-df-convert:hover {\n",
              "      background-color: #434B5C;\n",
              "      box-shadow: 0px 1px 3px 1px rgba(0, 0, 0, 0.15);\n",
              "      filter: drop-shadow(0px 1px 2px rgba(0, 0, 0, 0.3));\n",
              "      fill: #FFFFFF;\n",
              "    }\n",
              "  </style>\n",
              "\n",
              "      <script>\n",
              "        const buttonEl =\n",
              "          document.querySelector('#df-6df20d72-ac79-4f4c-9c1a-2c46e7446bfe button.colab-df-convert');\n",
              "        buttonEl.style.display =\n",
              "          google.colab.kernel.accessAllowed ? 'block' : 'none';\n",
              "\n",
              "        async function convertToInteractive(key) {\n",
              "          const element = document.querySelector('#df-6df20d72-ac79-4f4c-9c1a-2c46e7446bfe');\n",
              "          const dataTable =\n",
              "            await google.colab.kernel.invokeFunction('convertToInteractive',\n",
              "                                                     [key], {});\n",
              "          if (!dataTable) return;\n",
              "\n",
              "          const docLinkHtml = 'Like what you see? Visit the ' +\n",
              "            '<a target=\"_blank\" href=https://colab.research.google.com/notebooks/data_table.ipynb>data table notebook</a>'\n",
              "            + ' to learn more about interactive tables.';\n",
              "          element.innerHTML = '';\n",
              "          dataTable['output_type'] = 'display_data';\n",
              "          await google.colab.output.renderOutput(dataTable, element);\n",
              "          const docLink = document.createElement('div');\n",
              "          docLink.innerHTML = docLinkHtml;\n",
              "          element.appendChild(docLink);\n",
              "        }\n",
              "      </script>\n",
              "    </div>\n",
              "  </div>\n",
              "  "
            ]
          },
          "metadata": {},
          "execution_count": 192
        }
      ]
    },
    {
      "cell_type": "markdown",
      "source": [
        "Here We can see the top 10 countries with gold medals. \n",
        "\n",
        "\n"
      ],
      "metadata": {
        "id": "klGvYfYU3eK8"
      }
    },
    {
      "cell_type": "code",
      "source": [
        "total_cont=olympix.groupby('country')['gold_medal'].sum().nlargest(10)# group by country and sum with top 10\n",
        "label=total_cont.index\n",
        "values=total_cont.values.flatten()\n",
        "cols = ['c', 'b', 'r', 'k']\n",
        "fig, axs = plt.subplots(1, 2, figsize=(17, 8))\n",
        "axs[0].barh(label, values,color = cols)# horzontal bar plot\n",
        "axs[0].set_ylabel( \"Countries\" , size = 12 )\n",
        "# Set label for y-axis\n",
        "axs[0].set_xlabel( \"Number Of Medals\" , size = 12 )\n",
        "#pie plot\n",
        "axs[1].pie(values, labels=label, colors = cols, startangle = 90, shadow = True, autopct='%1.0f%%', explode = (0, 0, 0, 0,0, 0, 0, 0,0,0))\n",
        "fig.suptitle('Top 10 countries with the gold medal',).set_size(20)# main title\n",
        "plt.show()"
      ],
      "metadata": {
        "colab": {
          "base_uri": "https://localhost:8080/",
          "height": 446
        },
        "id": "9nWbhNEbPoa8",
        "outputId": "bcdb0588-85c8-4d56-d6f1-02100e057c00"
      },
      "execution_count": 5,
      "outputs": [
        {
          "output_type": "display_data",
          "data": {
            "text/plain": [
              "<Figure size 1224x576 with 2 Axes>"
            ],
            "image/png": "[encoded data removed]"
          },
          "metadata": {
            "needs_background": "light"
          }
        }
      ]
    },
    {
      "cell_type": "markdown",
      "source": [
        "We are grouping the country with gold medals to check the clear visualization of the dataset. We can see the different percentages of the gold medals in different countries."
      ],
      "metadata": {
        "id": "cJqhwtNo3oR3"
      }
    },
    {
      "cell_type": "code",
      "source": [
        "olympix.nlargest(n=10, columns=['silver_medal']) # checking the top 10 countries with silver medal\n",
        "\n"
      ],
      "metadata": {
        "colab": {
          "base_uri": "https://localhost:8080/",
          "height": 598
        },
        "id": "Ldypmhvk1AMm",
        "outputId": "0f362dc1-da08-40b0-c4b1-ba563e3b68b1"
      },
      "execution_count": null,
      "outputs": [
        {
          "output_type": "execute_result",
          "data": {
            "text/plain": [
              "                    name   age        country  year  Date_Given  \\\n",
              "5          Alicia Coutts  24.0      Australia  2012  08-12-2012   \n",
              "13         Nastia Liukin  18.0  United States  2008   8/24/2008   \n",
              "16       Kirsty Coventry  24.0       Zimbabwe  2008   8/24/2008   \n",
              "25         Susie O'Neill  27.0      Australia  2000  10-01-2000   \n",
              "30         Shawn Johnson  16.0  United States  2008   8/24/2008   \n",
              "50       László Cseh Jr.  22.0        Hungary  2008   8/24/2008   \n",
              "64           Dara Torres  41.0  United States  2008   8/24/2008   \n",
              "103      Johnny Spillane  29.0  United States  2010   2/28/2010   \n",
              "138  Martina Glagow-Beck  26.0        Germany  2006   2/26/2006   \n",
              "2         Michael Phelps  27.0  United States  2012  08-12-2012   \n",
              "\n",
              "              sports  gold_medal  silver_medal  brone_medal  total_medal  \n",
              "5           Swimming           1             3            1            5  \n",
              "13        Gymnastics           1             3            1            5  \n",
              "16          Swimming           1             3            0            4  \n",
              "25          Swimming           1             3            0            4  \n",
              "30        Gymnastics           1             3            0            4  \n",
              "50          Swimming           0             3            0            3  \n",
              "64          Swimming           0             3            0            3  \n",
              "103  Nordic Combined           0             3            0            3  \n",
              "138         Biathlon           0             3            0            3  \n",
              "2           Swimming           4             2            0            6  "
            ],
            "text/html": [
              "\n",
              "  <div id=\"df-05fca457-9d20-4ac7-9695-1ea9fe477eb2\">\n",
              "    <div class=\"colab-df-container\">\n",
              "      <div>\n",
              "<style scoped>\n",
              "    .dataframe tbody tr th:only-of-type {\n",
              "        vertical-align: middle;\n",
              "    }\n",
              "\n",
              "    .dataframe tbody tr th {\n",
              "        vertical-align: top;\n",
              "    }\n",
              "\n",
              "    .dataframe thead th {\n",
              "        text-align: right;\n",
              "    }\n",
              "</style>\n",
              "<table border=\"1\" class=\"dataframe\">\n",
              "  <thead>\n",
              "    <tr style=\"text-align: right;\">\n",
              "      <th></th>\n",
              "      <th>name</th>\n",
              "      <th>age</th>\n",
              "      <th>country</th>\n",
              "      <th>year</th>\n",
              "      <th>Date_Given</th>\n",
              "      <th>sports</th>\n",
              "      <th>gold_medal</th>\n",
              "      <th>silver_medal</th>\n",
              "      <th>brone_medal</th>\n",
              "      <th>total_medal</th>\n",
              "    </tr>\n",
              "  </thead>\n",
              "  <tbody>\n",
              "    <tr>\n",
              "      <th>5</th>\n",
              "      <td>Alicia Coutts</td>\n",
              "      <td>24.0</td>\n",
              "      <td>Australia</td>\n",
              "      <td>2012</td>\n",
              "      <td>08-12-2012</td>\n",
              "      <td>Swimming</td>\n",
              "      <td>1</td>\n",
              "      <td>3</td>\n",
              "      <td>1</td>\n",
              "      <td>5</td>\n",
              "    </tr>\n",
              "    <tr>\n",
              "      <th>13</th>\n",
              "      <td>Nastia Liukin</td>\n",
              "      <td>18.0</td>\n",
              "      <td>United States</td>\n",
              "      <td>2008</td>\n",
              "      <td>8/24/2008</td>\n",
              "      <td>Gymnastics</td>\n",
              "      <td>1</td>\n",
              "      <td>3</td>\n",
              "      <td>1</td>\n",
              "      <td>5</td>\n",
              "    </tr>\n",
              "    <tr>\n",
              "      <th>16</th>\n",
              "      <td>Kirsty Coventry</td>\n",
              "      <td>24.0</td>\n",
              "      <td>Zimbabwe</td>\n",
              "      <td>2008</td>\n",
              "      <td>8/24/2008</td>\n",
              "      <td>Swimming</td>\n",
              "      <td>1</td>\n",
              "      <td>3</td>\n",
              "      <td>0</td>\n",
              "      <td>4</td>\n",
              "    </tr>\n",
              "    <tr>\n",
              "      <th>25</th>\n",
              "      <td>Susie O'Neill</td>\n",
              "      <td>27.0</td>\n",
              "      <td>Australia</td>\n",
              "      <td>2000</td>\n",
              "      <td>10-01-2000</td>\n",
              "      <td>Swimming</td>\n",
              "      <td>1</td>\n",
              "      <td>3</td>\n",
              "      <td>0</td>\n",
              "      <td>4</td>\n",
              "    </tr>\n",
              "    <tr>\n",
              "      <th>30</th>\n",
              "      <td>Shawn Johnson</td>\n",
              "      <td>16.0</td>\n",
              "      <td>United States</td>\n",
              "      <td>2008</td>\n",
              "      <td>8/24/2008</td>\n",
              "      <td>Gymnastics</td>\n",
              "      <td>1</td>\n",
              "      <td>3</td>\n",
              "      <td>0</td>\n",
              "      <td>4</td>\n",
              "    </tr>\n",
              "    <tr>\n",
              "      <th>50</th>\n",
              "      <td>László Cseh Jr.</td>\n",
              "      <td>22.0</td>\n",
              "      <td>Hungary</td>\n",
              "      <td>2008</td>\n",
              "      <td>8/24/2008</td>\n",
              "      <td>Swimming</td>\n",
              "      <td>0</td>\n",
              "      <td>3</td>\n",
              "      <td>0</td>\n",
              "      <td>3</td>\n",
              "    </tr>\n",
              "    <tr>\n",
              "      <th>64</th>\n",
              "      <td>Dara Torres</td>\n",
              "      <td>41.0</td>\n",
              "      <td>United States</td>\n",
              "      <td>2008</td>\n",
              "      <td>8/24/2008</td>\n",
              "      <td>Swimming</td>\n",
              "      <td>0</td>\n",
              "      <td>3</td>\n",
              "      <td>0</td>\n",
              "      <td>3</td>\n",
              "    </tr>\n",
              "    <tr>\n",
              "      <th>103</th>\n",
              "      <td>Johnny Spillane</td>\n",
              "      <td>29.0</td>\n",
              "      <td>United States</td>\n",
              "      <td>2010</td>\n",
              "      <td>2/28/2010</td>\n",
              "      <td>Nordic Combined</td>\n",
              "      <td>0</td>\n",
              "      <td>3</td>\n",
              "      <td>0</td>\n",
              "      <td>3</td>\n",
              "    </tr>\n",
              "    <tr>\n",
              "      <th>138</th>\n",
              "      <td>Martina Glagow-Beck</td>\n",
              "      <td>26.0</td>\n",
              "      <td>Germany</td>\n",
              "      <td>2006</td>\n",
              "      <td>2/26/2006</td>\n",
              "      <td>Biathlon</td>\n",
              "      <td>0</td>\n",
              "      <td>3</td>\n",
              "      <td>0</td>\n",
              "      <td>3</td>\n",
              "    </tr>\n",
              "    <tr>\n",
              "      <th>2</th>\n",
              "      <td>Michael Phelps</td>\n",
              "      <td>27.0</td>\n",
              "      <td>United States</td>\n",
              "      <td>2012</td>\n",
              "      <td>08-12-2012</td>\n",
              "      <td>Swimming</td>\n",
              "      <td>4</td>\n",
              "      <td>2</td>\n",
              "      <td>0</td>\n",
              "      <td>6</td>\n",
              "    </tr>\n",
              "  </tbody>\n",
              "</table>\n",
              "</div>\n",
              "      <button class=\"colab-df-convert\" onclick=\"convertToInteractive('df-05fca457-9d20-4ac7-9695-1ea9fe477eb2')\"\n",
              "              title=\"Convert this dataframe to an interactive table.\"\n",
              "              style=\"display:none;\">\n",
              "        \n",
              "  <svg xmlns=\"http://www.w3.org/2000/svg\" height=\"24px\"viewBox=\"0 0 24 24\"\n",
              "       width=\"24px\">\n",
              "    <path d=\"M0 0h24v24H0V0z\" fill=\"none\"/>\n",
              "    <path d=\"M18.56 5.44l.94 2.06.94-2.06 2.06-.94-2.06-.94-.94-2.06-.94 2.06-2.06.94zm-11 1L8.5 8.5l.94-2.06 2.06-.94-2.06-.94L8.5 2.5l-.94 2.06-2.06.94zm10 10l.94 2.06.94-2.06 2.06-.94-2.06-.94-.94-2.06-.94 2.06-2.06.94z\"/><path d=\"M17.41 7.96l-1.37-1.37c-.4-.4-.92-.59-1.43-.59-.52 0-1.04.2-1.43.59L10.3 9.45l-7.72 7.72c-.78.78-.78 2.05 0 2.83L4 21.41c.39.39.9.59 1.41.59.51 0 1.02-.2 1.41-.59l7.78-7.78 2.81-2.81c.8-.78.8-2.07 0-2.86zM5.41 20L4 18.59l7.72-7.72 1.47 1.35L5.41 20z\"/>\n",
              "  </svg>\n",
              "      </button>\n",
              "      \n",
              "  <style>\n",
              "    .colab-df-container {\n",
              "      display:flex;\n",
              "      flex-wrap:wrap;\n",
              "      gap: 12px;\n",
              "    }\n",
              "\n",
              "    .colab-df-convert {\n",
              "      background-color: #E8F0FE;\n",
              "      border: none;\n",
              "      border-radius: 50%;\n",
              "      cursor: pointer;\n",
              "      display: none;\n",
              "      fill: #1967D2;\n",
              "      height: 32px;\n",
              "      padding: 0 0 0 0;\n",
              "      width: 32px;\n",
              "    }\n",
              "\n",
              "    .colab-df-convert:hover {\n",
              "      background-color: #E2EBFA;\n",
              "      box-shadow: 0px 1px 2px rgba(60, 64, 67, 0.3), 0px 1px 3px 1px rgba(60, 64, 67, 0.15);\n",
              "      fill: #174EA6;\n",
              "    }\n",
              "\n",
              "    [theme=dark] .colab-df-convert {\n",
              "      background-color: #3B4455;\n",
              "      fill: #D2E3FC;\n",
              "    }\n",
              "\n",
              "    [theme=dark] .colab-df-convert:hover {\n",
              "      background-color: #434B5C;\n",
              "      box-shadow: 0px 1px 3px 1px rgba(0, 0, 0, 0.15);\n",
              "      filter: drop-shadow(0px 1px 2px rgba(0, 0, 0, 0.3));\n",
              "      fill: #FFFFFF;\n",
              "    }\n",
              "  </style>\n",
              "\n",
              "      <script>\n",
              "        const buttonEl =\n",
              "          document.querySelector('#df-05fca457-9d20-4ac7-9695-1ea9fe477eb2 button.colab-df-convert');\n",
              "        buttonEl.style.display =\n",
              "          google.colab.kernel.accessAllowed ? 'block' : 'none';\n",
              "\n",
              "        async function convertToInteractive(key) {\n",
              "          const element = document.querySelector('#df-05fca457-9d20-4ac7-9695-1ea9fe477eb2');\n",
              "          const dataTable =\n",
              "            await google.colab.kernel.invokeFunction('convertToInteractive',\n",
              "                                                     [key], {});\n",
              "          if (!dataTable) return;\n",
              "\n",
              "          const docLinkHtml = 'Like what you see? Visit the ' +\n",
              "            '<a target=\"_blank\" href=https://colab.research.google.com/notebooks/data_table.ipynb>data table notebook</a>'\n",
              "            + ' to learn more about interactive tables.';\n",
              "          element.innerHTML = '';\n",
              "          dataTable['output_type'] = 'display_data';\n",
              "          await google.colab.output.renderOutput(dataTable, element);\n",
              "          const docLink = document.createElement('div');\n",
              "          docLink.innerHTML = docLinkHtml;\n",
              "          element.appendChild(docLink);\n",
              "        }\n",
              "      </script>\n",
              "    </div>\n",
              "  </div>\n",
              "  "
            ]
          },
          "metadata": {},
          "execution_count": 193
        }
      ]
    },
    {
      "cell_type": "markdown",
      "source": [
        "Here We can see the top 10 countries with silver medals. "
      ],
      "metadata": {
        "id": "XUnYyLbE31ZR"
      }
    },
    {
      "cell_type": "code",
      "source": [
        "total_cont=olympix.groupby('country')['silver_medal'].sum().nlargest(10)# group by country and sum with top 10\n",
        "label=total_cont.index\n",
        "values=total_cont.values.flatten()\n",
        "cols = ['c', 'b', 'r', 'k']\n",
        "fig, axs = plt.subplots(1, 2, figsize=(17, 8))\n",
        "axs[0].barh(label, values,color = cols)# horzontal bar plot\n",
        "axs[0].set_ylabel( \"Countries\" , size = 12 )\n",
        "# Set label for y-axis\n",
        "axs[0].set_xlabel( \"Number Of Medals\" , size = 12 )\n",
        "#pie plot\n",
        "axs[1].pie(values, labels=label, colors = cols, startangle = 90, shadow = True, autopct='%1.0f%%', explode = (0, 0, 0, 0,0, 0, 0, 0,0,0))\n",
        "fig.suptitle('Top 10 countries with the silver medal',).set_size(20)# main title\n",
        "plt.show()"
      ],
      "metadata": {
        "colab": {
          "base_uri": "https://localhost:8080/",
          "height": 443
        },
        "id": "j5kRY6FIP8Ij",
        "outputId": "92c1836f-e9b3-4686-931e-b0fca7d2c3d9"
      },
      "execution_count": 3,
      "outputs": [
        {
          "output_type": "display_data",
          "data": {
            "text/plain": [
              "<Figure size 1224x576 with 2 Axes>"
            ],
            "image/png": "[encoded data removed]"
          },
          "metadata": {
            "needs_background": "light"
          }
        }
      ]
    },
    {
      "cell_type": "markdown",
      "source": [
        "We are grouping the country with silevr medals to check the clear visualization of the dataset. We can see the different percentages of the silver medals in different countries."
      ],
      "metadata": {
        "id": "_7NW7LfI4E5h"
      }
    },
    {
      "cell_type": "code",
      "source": [
        "olympix.nlargest(n=10, columns=['brone_medal']) # checking the top 10 countries with bronze medal\n",
        "\n"
      ],
      "metadata": {
        "colab": {
          "base_uri": "https://localhost:8080/",
          "height": 618
        },
        "id": "HJsajzrG1FCw",
        "outputId": "ccf67918-58fd-4977-84c8-e67b4284163e"
      },
      "execution_count": null,
      "outputs": [
        {
          "output_type": "execute_result",
          "data": {
            "text/plain": [
              "                          name   age        country  year  Date_Given  \\\n",
              "3             Natalie Coughlin  25.0  United States  2008   8/24/2008   \n",
              "4                Aleksey Nemov  24.0         Russia  2000  10-01-2000   \n",
              "11                 Dara Torres  33.0  United States  2000  10-01-2000   \n",
              "66          Antje Buschschulte  25.0        Germany  2004   8/29/2004   \n",
              "106             Felix Gottwald  26.0        Austria  2002   2/24/2002   \n",
              "1               Michael Phelps  19.0  United States  2004   8/29/2004   \n",
              "12               Cindy Klassen  26.0         Canada  2006   2/26/2006   \n",
              "18                 Ryan Lochte  24.0  United States  2008   8/24/2008   \n",
              "19              Inge de Bruijn  30.0    Netherlands  2004   8/29/2004   \n",
              "27   Pieter van den Hoogenband  22.0    Netherlands  2000  10-01-2000   \n",
              "\n",
              "              sports  gold_medal  silver_medal  brone_medal  total_medal  \n",
              "3           Swimming           1             2            3            6  \n",
              "4         Gymnastics           2             1            3            6  \n",
              "11          Swimming           2             0            3            5  \n",
              "66          Swimming           0             0            3            3  \n",
              "106  Nordic Combined           0             0            3            3  \n",
              "1           Swimming           6             0            2            8  \n",
              "12     Speed Skating           1             2            2            5  \n",
              "18          Swimming           2             0            2            4  \n",
              "19          Swimming           1             1            2            4  \n",
              "27          Swimming           2             0            2            4  "
            ],
            "text/html": [
              "\n",
              "  <div id=\"df-99be7e29-f1cf-4fd0-b9c0-6d0bbed30e9c\">\n",
              "    <div class=\"colab-df-container\">\n",
              "      <div>\n",
              "<style scoped>\n",
              "    .dataframe tbody tr th:only-of-type {\n",
              "        vertical-align: middle;\n",
              "    }\n",
              "\n",
              "    .dataframe tbody tr th {\n",
              "        vertical-align: top;\n",
              "    }\n",
              "\n",
              "    .dataframe thead th {\n",
              "        text-align: right;\n",
              "    }\n",
              "</style>\n",
              "<table border=\"1\" class=\"dataframe\">\n",
              "  <thead>\n",
              "    <tr style=\"text-align: right;\">\n",
              "      <th></th>\n",
              "      <th>name</th>\n",
              "      <th>age</th>\n",
              "      <th>country</th>\n",
              "      <th>year</th>\n",
              "      <th>Date_Given</th>\n",
              "      <th>sports</th>\n",
              "      <th>gold_medal</th>\n",
              "      <th>silver_medal</th>\n",
              "      <th>brone_medal</th>\n",
              "      <th>total_medal</th>\n",
              "    </tr>\n",
              "  </thead>\n",
              "  <tbody>\n",
              "    <tr>\n",
              "      <th>3</th>\n",
              "      <td>Natalie Coughlin</td>\n",
              "      <td>25.0</td>\n",
              "      <td>United States</td>\n",
              "      <td>2008</td>\n",
              "      <td>8/24/2008</td>\n",
              "      <td>Swimming</td>\n",
              "      <td>1</td>\n",
              "      <td>2</td>\n",
              "      <td>3</td>\n",
              "      <td>6</td>\n",
              "    </tr>\n",
              "    <tr>\n",
              "      <th>4</th>\n",
              "      <td>Aleksey Nemov</td>\n",
              "      <td>24.0</td>\n",
              "      <td>Russia</td>\n",
              "      <td>2000</td>\n",
              "      <td>10-01-2000</td>\n",
              "      <td>Gymnastics</td>\n",
              "      <td>2</td>\n",
              "      <td>1</td>\n",
              "      <td>3</td>\n",
              "      <td>6</td>\n",
              "    </tr>\n",
              "    <tr>\n",
              "      <th>11</th>\n",
              "      <td>Dara Torres</td>\n",
              "      <td>33.0</td>\n",
              "      <td>United States</td>\n",
              "      <td>2000</td>\n",
              "      <td>10-01-2000</td>\n",
              "      <td>Swimming</td>\n",
              "      <td>2</td>\n",
              "      <td>0</td>\n",
              "      <td>3</td>\n",
              "      <td>5</td>\n",
              "    </tr>\n",
              "    <tr>\n",
              "      <th>66</th>\n",
              "      <td>Antje Buschschulte</td>\n",
              "      <td>25.0</td>\n",
              "      <td>Germany</td>\n",
              "      <td>2004</td>\n",
              "      <td>8/29/2004</td>\n",
              "      <td>Swimming</td>\n",
              "      <td>0</td>\n",
              "      <td>0</td>\n",
              "      <td>3</td>\n",
              "      <td>3</td>\n",
              "    </tr>\n",
              "    <tr>\n",
              "      <th>106</th>\n",
              "      <td>Felix Gottwald</td>\n",
              "      <td>26.0</td>\n",
              "      <td>Austria</td>\n",
              "      <td>2002</td>\n",
              "      <td>2/24/2002</td>\n",
              "      <td>Nordic Combined</td>\n",
              "      <td>0</td>\n",
              "      <td>0</td>\n",
              "      <td>3</td>\n",
              "      <td>3</td>\n",
              "    </tr>\n",
              "    <tr>\n",
              "      <th>1</th>\n",
              "      <td>Michael Phelps</td>\n",
              "      <td>19.0</td>\n",
              "      <td>United States</td>\n",
              "      <td>2004</td>\n",
              "      <td>8/29/2004</td>\n",
              "      <td>Swimming</td>\n",
              "      <td>6</td>\n",
              "      <td>0</td>\n",
              "      <td>2</td>\n",
              "      <td>8</td>\n",
              "    </tr>\n",
              "    <tr>\n",
              "      <th>12</th>\n",
              "      <td>Cindy Klassen</td>\n",
              "      <td>26.0</td>\n",
              "      <td>Canada</td>\n",
              "      <td>2006</td>\n",
              "      <td>2/26/2006</td>\n",
              "      <td>Speed Skating</td>\n",
              "      <td>1</td>\n",
              "      <td>2</td>\n",
              "      <td>2</td>\n",
              "      <td>5</td>\n",
              "    </tr>\n",
              "    <tr>\n",
              "      <th>18</th>\n",
              "      <td>Ryan Lochte</td>\n",
              "      <td>24.0</td>\n",
              "      <td>United States</td>\n",
              "      <td>2008</td>\n",
              "      <td>8/24/2008</td>\n",
              "      <td>Swimming</td>\n",
              "      <td>2</td>\n",
              "      <td>0</td>\n",
              "      <td>2</td>\n",
              "      <td>4</td>\n",
              "    </tr>\n",
              "    <tr>\n",
              "      <th>19</th>\n",
              "      <td>Inge de Bruijn</td>\n",
              "      <td>30.0</td>\n",
              "      <td>Netherlands</td>\n",
              "      <td>2004</td>\n",
              "      <td>8/29/2004</td>\n",
              "      <td>Swimming</td>\n",
              "      <td>1</td>\n",
              "      <td>1</td>\n",
              "      <td>2</td>\n",
              "      <td>4</td>\n",
              "    </tr>\n",
              "    <tr>\n",
              "      <th>27</th>\n",
              "      <td>Pieter van den Hoogenband</td>\n",
              "      <td>22.0</td>\n",
              "      <td>Netherlands</td>\n",
              "      <td>2000</td>\n",
              "      <td>10-01-2000</td>\n",
              "      <td>Swimming</td>\n",
              "      <td>2</td>\n",
              "      <td>0</td>\n",
              "      <td>2</td>\n",
              "      <td>4</td>\n",
              "    </tr>\n",
              "  </tbody>\n",
              "</table>\n",
              "</div>\n",
              "      <button class=\"colab-df-convert\" onclick=\"convertToInteractive('df-99be7e29-f1cf-4fd0-b9c0-6d0bbed30e9c')\"\n",
              "              title=\"Convert this dataframe to an interactive table.\"\n",
              "              style=\"display:none;\">\n",
              "        \n",
              "  <svg xmlns=\"http://www.w3.org/2000/svg\" height=\"24px\"viewBox=\"0 0 24 24\"\n",
              "       width=\"24px\">\n",
              "    <path d=\"M0 0h24v24H0V0z\" fill=\"none\"/>\n",
              "    <path d=\"M18.56 5.44l.94 2.06.94-2.06 2.06-.94-2.06-.94-.94-2.06-.94 2.06-2.06.94zm-11 1L8.5 8.5l.94-2.06 2.06-.94-2.06-.94L8.5 2.5l-.94 2.06-2.06.94zm10 10l.94 2.06.94-2.06 2.06-.94-2.06-.94-.94-2.06-.94 2.06-2.06.94z\"/><path d=\"M17.41 7.96l-1.37-1.37c-.4-.4-.92-.59-1.43-.59-.52 0-1.04.2-1.43.59L10.3 9.45l-7.72 7.72c-.78.78-.78 2.05 0 2.83L4 21.41c.39.39.9.59 1.41.59.51 0 1.02-.2 1.41-.59l7.78-7.78 2.81-2.81c.8-.78.8-2.07 0-2.86zM5.41 20L4 18.59l7.72-7.72 1.47 1.35L5.41 20z\"/>\n",
              "  </svg>\n",
              "      </button>\n",
              "      \n",
              "  <style>\n",
              "    .colab-df-container {\n",
              "      display:flex;\n",
              "      flex-wrap:wrap;\n",
              "      gap: 12px;\n",
              "    }\n",
              "\n",
              "    .colab-df-convert {\n",
              "      background-color: #E8F0FE;\n",
              "      border: none;\n",
              "      border-radius: 50%;\n",
              "      cursor: pointer;\n",
              "      display: none;\n",
              "      fill: #1967D2;\n",
              "      height: 32px;\n",
              "      padding: 0 0 0 0;\n",
              "      width: 32px;\n",
              "    }\n",
              "\n",
              "    .colab-df-convert:hover {\n",
              "      background-color: #E2EBFA;\n",
              "      box-shadow: 0px 1px 2px rgba(60, 64, 67, 0.3), 0px 1px 3px 1px rgba(60, 64, 67, 0.15);\n",
              "      fill: #174EA6;\n",
              "    }\n",
              "\n",
              "    [theme=dark] .colab-df-convert {\n",
              "      background-color: #3B4455;\n",
              "      fill: #D2E3FC;\n",
              "    }\n",
              "\n",
              "    [theme=dark] .colab-df-convert:hover {\n",
              "      background-color: #434B5C;\n",
              "      box-shadow: 0px 1px 3px 1px rgba(0, 0, 0, 0.15);\n",
              "      filter: drop-shadow(0px 1px 2px rgba(0, 0, 0, 0.3));\n",
              "      fill: #FFFFFF;\n",
              "    }\n",
              "  </style>\n",
              "\n",
              "      <script>\n",
              "        const buttonEl =\n",
              "          document.querySelector('#df-99be7e29-f1cf-4fd0-b9c0-6d0bbed30e9c button.colab-df-convert');\n",
              "        buttonEl.style.display =\n",
              "          google.colab.kernel.accessAllowed ? 'block' : 'none';\n",
              "\n",
              "        async function convertToInteractive(key) {\n",
              "          const element = document.querySelector('#df-99be7e29-f1cf-4fd0-b9c0-6d0bbed30e9c');\n",
              "          const dataTable =\n",
              "            await google.colab.kernel.invokeFunction('convertToInteractive',\n",
              "                                                     [key], {});\n",
              "          if (!dataTable) return;\n",
              "\n",
              "          const docLinkHtml = 'Like what you see? Visit the ' +\n",
              "            '<a target=\"_blank\" href=https://colab.research.google.com/notebooks/data_table.ipynb>data table notebook</a>'\n",
              "            + ' to learn more about interactive tables.';\n",
              "          element.innerHTML = '';\n",
              "          dataTable['output_type'] = 'display_data';\n",
              "          await google.colab.output.renderOutput(dataTable, element);\n",
              "          const docLink = document.createElement('div');\n",
              "          docLink.innerHTML = docLinkHtml;\n",
              "          element.appendChild(docLink);\n",
              "        }\n",
              "      </script>\n",
              "    </div>\n",
              "  </div>\n",
              "  "
            ]
          },
          "metadata": {},
          "execution_count": 194
        }
      ]
    },
    {
      "cell_type": "markdown",
      "source": [
        "Here We can see the top 10 countries with Bronze medals. "
      ],
      "metadata": {
        "id": "RISIKHmZ374w"
      }
    },
    {
      "cell_type": "code",
      "source": [
        "total_cont=olympix.groupby('country')['brone_medal'].sum().nlargest(10)# group by country and sum with top 10\n",
        "label=total_cont.index\n",
        "values=total_cont.values.flatten()\n",
        "cols = ['c', 'b', 'r', 'k']\n",
        "fig, axs = plt.subplots(1, 2, figsize=(17, 8))\n",
        "axs[0].barh(label, values,color = cols)# horzontal bar plot\n",
        "axs[0].set_ylabel( \"Countries\" , size = 12 )\n",
        "# Set label for y-axis\n",
        "axs[0].set_xlabel( \"Number Of Medals\" , size = 12 )\n",
        "#pie plot\n",
        "axs[1].pie(values, labels=label, colors = cols, startangle = 90, shadow = True, autopct='%1.0f%%', explode = (0, 0, 0, 0,0, 0, 0, 0,0,0))\n",
        "fig.suptitle('Top 10 countries with the brone medal',).set_size(20)# main title\n",
        "plt.show()"
      ],
      "metadata": {
        "colab": {
          "base_uri": "https://localhost:8080/",
          "height": 456
        },
        "id": "xVuogplBQE2R",
        "outputId": "fdaed4dc-462d-406a-bbc8-f2690fa8c0ae"
      },
      "execution_count": 4,
      "outputs": [
        {
          "output_type": "display_data",
          "data": {
            "text/plain": [
              "<Figure size 1224x576 with 2 Axes>"
            ],
            "image/png": "[encoded data removed]"
          },
          "metadata": {
            "needs_background": "light"
          }
        }
      ]
    },
    {
      "cell_type": "markdown",
      "source": [
        "We are grouping the country with Bronze medals to check the clear visualization of the dataset. We can see the different percentages of the Bronze medals in different countries."
      ],
      "metadata": {
        "id": "xJ-zasnc4I1G"
      }
    },
    {
      "cell_type": "code",
      "source": [
        "olympix.nlargest(n=10, columns=['total_medal']) # checking the top 10 countries with total medal\n",
        "\n"
      ],
      "metadata": {
        "colab": {
          "base_uri": "https://localhost:8080/",
          "height": 563
        },
        "id": "e4QmsMVq1Lqd",
        "outputId": "bed58991-9562-4f98-c05a-34fe21f6690b"
      },
      "execution_count": null,
      "outputs": [
        {
          "output_type": "execute_result",
          "data": {
            "text/plain": [
              "               name   age        country  year  Date_Given      sports  \\\n",
              "0    Michael Phelps  23.0  United States  2008   8/24/2008    Swimming   \n",
              "1    Michael Phelps  19.0  United States  2004   8/29/2004    Swimming   \n",
              "2    Michael Phelps  27.0  United States  2012  08-12-2012    Swimming   \n",
              "3  Natalie Coughlin  25.0  United States  2008   8/24/2008    Swimming   \n",
              "4     Aleksey Nemov  24.0         Russia  2000  10-01-2000  Gymnastics   \n",
              "5     Alicia Coutts  24.0      Australia  2012  08-12-2012    Swimming   \n",
              "6    Missy Franklin  17.0  United States  2012  08-12-2012    Swimming   \n",
              "7       Ryan Lochte  27.0  United States  2012  08-12-2012    Swimming   \n",
              "8   Allison Schmitt  22.0  United States  2012  08-12-2012    Swimming   \n",
              "9  Natalie Coughlin  21.0  United States  2004   8/29/2004    Swimming   \n",
              "\n",
              "   gold_medal  silver_medal  brone_medal  total_medal  \n",
              "0           8             0            0            8  \n",
              "1           6             0            2            8  \n",
              "2           4             2            0            6  \n",
              "3           1             2            3            6  \n",
              "4           2             1            3            6  \n",
              "5           1             3            1            5  \n",
              "6           4             0            1            5  \n",
              "7           2             2            1            5  \n",
              "8           3             1            1            5  \n",
              "9           2             2            1            5  "
            ],
            "text/html": [
              "\n",
              "  <div id=\"df-62e01ebc-9c7a-4d7c-ae61-ecceb72e6c37\">\n",
              "    <div class=\"colab-df-container\">\n",
              "      <div>\n",
              "<style scoped>\n",
              "    .dataframe tbody tr th:only-of-type {\n",
              "        vertical-align: middle;\n",
              "    }\n",
              "\n",
              "    .dataframe tbody tr th {\n",
              "        vertical-align: top;\n",
              "    }\n",
              "\n",
              "    .dataframe thead th {\n",
              "        text-align: right;\n",
              "    }\n",
              "</style>\n",
              "<table border=\"1\" class=\"dataframe\">\n",
              "  <thead>\n",
              "    <tr style=\"text-align: right;\">\n",
              "      <th></th>\n",
              "      <th>name</th>\n",
              "      <th>age</th>\n",
              "      <th>country</th>\n",
              "      <th>year</th>\n",
              "      <th>Date_Given</th>\n",
              "      <th>sports</th>\n",
              "      <th>gold_medal</th>\n",
              "      <th>silver_medal</th>\n",
              "      <th>brone_medal</th>\n",
              "      <th>total_medal</th>\n",
              "    </tr>\n",
              "  </thead>\n",
              "  <tbody>\n",
              "    <tr>\n",
              "      <th>0</th>\n",
              "      <td>Michael Phelps</td>\n",
              "      <td>23.0</td>\n",
              "      <td>United States</td>\n",
              "      <td>2008</td>\n",
              "      <td>8/24/2008</td>\n",
              "      <td>Swimming</td>\n",
              "      <td>8</td>\n",
              "      <td>0</td>\n",
              "      <td>0</td>\n",
              "      <td>8</td>\n",
              "    </tr>\n",
              "    <tr>\n",
              "      <th>1</th>\n",
              "      <td>Michael Phelps</td>\n",
              "      <td>19.0</td>\n",
              "      <td>United States</td>\n",
              "      <td>2004</td>\n",
              "      <td>8/29/2004</td>\n",
              "      <td>Swimming</td>\n",
              "      <td>6</td>\n",
              "      <td>0</td>\n",
              "      <td>2</td>\n",
              "      <td>8</td>\n",
              "    </tr>\n",
              "    <tr>\n",
              "      <th>2</th>\n",
              "      <td>Michael Phelps</td>\n",
              "      <td>27.0</td>\n",
              "      <td>United States</td>\n",
              "      <td>2012</td>\n",
              "      <td>08-12-2012</td>\n",
              "      <td>Swimming</td>\n",
              "      <td>4</td>\n",
              "      <td>2</td>\n",
              "      <td>0</td>\n",
              "      <td>6</td>\n",
              "    </tr>\n",
              "    <tr>\n",
              "      <th>3</th>\n",
              "      <td>Natalie Coughlin</td>\n",
              "      <td>25.0</td>\n",
              "      <td>United States</td>\n",
              "      <td>2008</td>\n",
              "      <td>8/24/2008</td>\n",
              "      <td>Swimming</td>\n",
              "      <td>1</td>\n",
              "      <td>2</td>\n",
              "      <td>3</td>\n",
              "      <td>6</td>\n",
              "    </tr>\n",
              "    <tr>\n",
              "      <th>4</th>\n",
              "      <td>Aleksey Nemov</td>\n",
              "      <td>24.0</td>\n",
              "      <td>Russia</td>\n",
              "      <td>2000</td>\n",
              "      <td>10-01-2000</td>\n",
              "      <td>Gymnastics</td>\n",
              "      <td>2</td>\n",
              "      <td>1</td>\n",
              "      <td>3</td>\n",
              "      <td>6</td>\n",
              "    </tr>\n",
              "    <tr>\n",
              "      <th>5</th>\n",
              "      <td>Alicia Coutts</td>\n",
              "      <td>24.0</td>\n",
              "      <td>Australia</td>\n",
              "      <td>2012</td>\n",
              "      <td>08-12-2012</td>\n",
              "      <td>Swimming</td>\n",
              "      <td>1</td>\n",
              "      <td>3</td>\n",
              "      <td>1</td>\n",
              "      <td>5</td>\n",
              "    </tr>\n",
              "    <tr>\n",
              "      <th>6</th>\n",
              "      <td>Missy Franklin</td>\n",
              "      <td>17.0</td>\n",
              "      <td>United States</td>\n",
              "      <td>2012</td>\n",
              "      <td>08-12-2012</td>\n",
              "      <td>Swimming</td>\n",
              "      <td>4</td>\n",
              "      <td>0</td>\n",
              "      <td>1</td>\n",
              "      <td>5</td>\n",
              "    </tr>\n",
              "    <tr>\n",
              "      <th>7</th>\n",
              "      <td>Ryan Lochte</td>\n",
              "      <td>27.0</td>\n",
              "      <td>United States</td>\n",
              "      <td>2012</td>\n",
              "      <td>08-12-2012</td>\n",
              "      <td>Swimming</td>\n",
              "      <td>2</td>\n",
              "      <td>2</td>\n",
              "      <td>1</td>\n",
              "      <td>5</td>\n",
              "    </tr>\n",
              "    <tr>\n",
              "      <th>8</th>\n",
              "      <td>Allison Schmitt</td>\n",
              "      <td>22.0</td>\n",
              "      <td>United States</td>\n",
              "      <td>2012</td>\n",
              "      <td>08-12-2012</td>\n",
              "      <td>Swimming</td>\n",
              "      <td>3</td>\n",
              "      <td>1</td>\n",
              "      <td>1</td>\n",
              "      <td>5</td>\n",
              "    </tr>\n",
              "    <tr>\n",
              "      <th>9</th>\n",
              "      <td>Natalie Coughlin</td>\n",
              "      <td>21.0</td>\n",
              "      <td>United States</td>\n",
              "      <td>2004</td>\n",
              "      <td>8/29/2004</td>\n",
              "      <td>Swimming</td>\n",
              "      <td>2</td>\n",
              "      <td>2</td>\n",
              "      <td>1</td>\n",
              "      <td>5</td>\n",
              "    </tr>\n",
              "  </tbody>\n",
              "</table>\n",
              "</div>\n",
              "      <button class=\"colab-df-convert\" onclick=\"convertToInteractive('df-62e01ebc-9c7a-4d7c-ae61-ecceb72e6c37')\"\n",
              "              title=\"Convert this dataframe to an interactive table.\"\n",
              "              style=\"display:none;\">\n",
              "        \n",
              "  <svg xmlns=\"http://www.w3.org/2000/svg\" height=\"24px\"viewBox=\"0 0 24 24\"\n",
              "       width=\"24px\">\n",
              "    <path d=\"M0 0h24v24H0V0z\" fill=\"none\"/>\n",
              "    <path d=\"M18.56 5.44l.94 2.06.94-2.06 2.06-.94-2.06-.94-.94-2.06-.94 2.06-2.06.94zm-11 1L8.5 8.5l.94-2.06 2.06-.94-2.06-.94L8.5 2.5l-.94 2.06-2.06.94zm10 10l.94 2.06.94-2.06 2.06-.94-2.06-.94-.94-2.06-.94 2.06-2.06.94z\"/><path d=\"M17.41 7.96l-1.37-1.37c-.4-.4-.92-.59-1.43-.59-.52 0-1.04.2-1.43.59L10.3 9.45l-7.72 7.72c-.78.78-.78 2.05 0 2.83L4 21.41c.39.39.9.59 1.41.59.51 0 1.02-.2 1.41-.59l7.78-7.78 2.81-2.81c.8-.78.8-2.07 0-2.86zM5.41 20L4 18.59l7.72-7.72 1.47 1.35L5.41 20z\"/>\n",
              "  </svg>\n",
              "      </button>\n",
              "      \n",
              "  <style>\n",
              "    .colab-df-container {\n",
              "      display:flex;\n",
              "      flex-wrap:wrap;\n",
              "      gap: 12px;\n",
              "    }\n",
              "\n",
              "    .colab-df-convert {\n",
              "      background-color: #E8F0FE;\n",
              "      border: none;\n",
              "      border-radius: 50%;\n",
              "      cursor: pointer;\n",
              "      display: none;\n",
              "      fill: #1967D2;\n",
              "      height: 32px;\n",
              "      padding: 0 0 0 0;\n",
              "      width: 32px;\n",
              "    }\n",
              "\n",
              "    .colab-df-convert:hover {\n",
              "      background-color: #E2EBFA;\n",
              "      box-shadow: 0px 1px 2px rgba(60, 64, 67, 0.3), 0px 1px 3px 1px rgba(60, 64, 67, 0.15);\n",
              "      fill: #174EA6;\n",
              "    }\n",
              "\n",
              "    [theme=dark] .colab-df-convert {\n",
              "      background-color: #3B4455;\n",
              "      fill: #D2E3FC;\n",
              "    }\n",
              "\n",
              "    [theme=dark] .colab-df-convert:hover {\n",
              "      background-color: #434B5C;\n",
              "      box-shadow: 0px 1px 3px 1px rgba(0, 0, 0, 0.15);\n",
              "      filter: drop-shadow(0px 1px 2px rgba(0, 0, 0, 0.3));\n",
              "      fill: #FFFFFF;\n",
              "    }\n",
              "  </style>\n",
              "\n",
              "      <script>\n",
              "        const buttonEl =\n",
              "          document.querySelector('#df-62e01ebc-9c7a-4d7c-ae61-ecceb72e6c37 button.colab-df-convert');\n",
              "        buttonEl.style.display =\n",
              "          google.colab.kernel.accessAllowed ? 'block' : 'none';\n",
              "\n",
              "        async function convertToInteractive(key) {\n",
              "          const element = document.querySelector('#df-62e01ebc-9c7a-4d7c-ae61-ecceb72e6c37');\n",
              "          const dataTable =\n",
              "            await google.colab.kernel.invokeFunction('convertToInteractive',\n",
              "                                                     [key], {});\n",
              "          if (!dataTable) return;\n",
              "\n",
              "          const docLinkHtml = 'Like what you see? Visit the ' +\n",
              "            '<a target=\"_blank\" href=https://colab.research.google.com/notebooks/data_table.ipynb>data table notebook</a>'\n",
              "            + ' to learn more about interactive tables.';\n",
              "          element.innerHTML = '';\n",
              "          dataTable['output_type'] = 'display_data';\n",
              "          await google.colab.output.renderOutput(dataTable, element);\n",
              "          const docLink = document.createElement('div');\n",
              "          docLink.innerHTML = docLinkHtml;\n",
              "          element.appendChild(docLink);\n",
              "        }\n",
              "      </script>\n",
              "    </div>\n",
              "  </div>\n",
              "  "
            ]
          },
          "metadata": {},
          "execution_count": 195
        }
      ]
    },
    {
      "cell_type": "code",
      "source": [
        "total_cont=olympix.groupby('country')['total_medal'].sum().nlargest(10)# group by country and sum with top 10\n",
        "label=total_cont.index\n",
        "values=total_cont.values.flatten()\n",
        "cols = ['c', 'b', 'r', 'k']\n",
        "fig, axs = plt.subplots(1, 2, figsize=(17, 8))\n",
        "axs[0].barh(label, values,color = cols)# horizontal bar plot\n",
        "axs[0].set_ylabel( \"Countries\" , size = 12 )\n",
        "# Set label for y-axis\n",
        "axs[0].set_xlabel( \"Number Of Medals\" , size = 12 )\n",
        "#pie plot\n",
        "axs[1].pie(values, labels=label, colors = cols, startangle = 90, shadow = True, autopct='%1.0f%%', explode = (0, 0, 0, 0,0, 0, 0, 0,0,0))\n",
        "fig.suptitle('Top 10 countries with the total medal',).set_size(20)# main title\n",
        "plt.show()"
      ],
      "metadata": {
        "colab": {
          "base_uri": "https://localhost:8080/",
          "height": 452
        },
        "id": "pLzpv5TfQJoJ",
        "outputId": "a621c476-daa5-48da-bcc9-198f05ffa813"
      },
      "execution_count": 6,
      "outputs": [
        {
          "output_type": "display_data",
          "data": {
            "text/plain": [
              "<Figure size 1224x576 with 2 Axes>"
            ],
            "image/png": "[encoded data removed]"
          },
          "metadata": {
            "needs_background": "light"
          }
        }
      ]
    },
    {
      "cell_type": "markdown",
      "source": [
        "We are grouping the country with total medals to check the clear visualization of the dataset. We can see the different percentages of the total medals in different countries."
      ],
      "metadata": {
        "id": "VZ-Kn9sv4OFn"
      }
    },
    {
      "cell_type": "code",
      "source": [
        "top_10 = olympix['country'].value_counts()[:10]\n",
        "top_10.plot(kind='bar',figsize=(10,8))\n",
        "plt.title('All Time Medals of top 10 countries') # plotting the figure of all time medals of top 10 countries"
      ],
      "metadata": {
        "colab": {
          "base_uri": "https://localhost:8080/",
          "height": 583
        },
        "id": "kjdnpEi0EPYn",
        "outputId": "4c2b73ba-31fd-4889-b694-5f3c217b4b3f"
      },
      "execution_count": null,
      "outputs": [
        {
          "output_type": "execute_result",
          "data": {
            "text/plain": [
              "Text(0.5, 1.0, 'All Time Medals of top 10 countries')"
            ]
          },
          "metadata": {},
          "execution_count": 237
        },
        {
          "output_type": "display_data",
          "data": {
            "text/plain": [
              "<Figure size 720x576 with 1 Axes>"
            ],
            "image/png": "[encoded data removed]"
          },
          "metadata": {}
        }
      ]
    },
    {
      "cell_type": "markdown",
      "source": [
        "Here we can see the top 10 countries of all time medals from  each country in different years."
      ],
      "metadata": {
        "id": "s6cz8aKk4wK3"
      }
    },
    {
      "cell_type": "markdown",
      "source": [
        "# **Conclusion**"
      ],
      "metadata": {
        "id": "uCJ62nDGHELK"
      }
    },
    {
      "cell_type": "markdown",
      "source": [
        "In conclusion we have checked with the values and created the plots to view the perfect visuals of the data and checked with the methods of each individual as well.\n",
        "\n",
        "We have seen that a single player can play many games they can compete in number of Olympic events there are competitors all over the world and the Olympic games are often regarded as the world's most popular sporting event. \n"
      ],
      "metadata": {
        "id": "clyN3K7MHLhh"
      }
    }
  ]
}