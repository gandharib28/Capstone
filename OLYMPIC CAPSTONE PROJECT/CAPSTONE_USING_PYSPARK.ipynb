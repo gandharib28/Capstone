{
  "nbformat": 4,
  "nbformat_minor": 0,
  "metadata": {
    "colab": {
      "name": "CAPSTONE_USING_PYSPARK.ipynb",
      "provenance": [],
      "collapsed_sections": []
    },
    "kernelspec": {
      "name": "python3",
      "display_name": "Python 3"
    },
    "language_info": {
      "name": "python"
    }
  },
  "cells": [
    {
      "cell_type": "markdown",
      "source": [
        "# **OLYMPICS CAPSTONE PROJECT**"
      ],
      "metadata": {
        "id": "jAcx9W_7Hob3"
      }
    },
    {
      "cell_type": "markdown",
      "source": [
        "## **INTRODUCTION**"
      ],
      "metadata": {
        "id": "eE44lNv5HtmD"
      }
    },
    {
      "cell_type": "markdown",
      "source": [
        "The Olympics are regarded as a major athletic event in which thousands of competitors from all over the world compete in a range of events. Nations from all over the world compete, and the Olympic games are often regarded as the world's most popular sporting event. Data Science and Machine Learning techniques will be of significant assistance in the decision-making processes of trainers, players, and governments in these countries.\n",
        "\n",
        "The findings may be used to highlight the need for new policies to increase the quality of physical education in a country. According to the data, a variety of factors contribute to these countries' performance in the games.\n",
        "\n",
        "A single player can play many games.\n",
        " The columns are the following:\n",
        "\n",
        "ID - Unique number for each athlete\n",
        "\n",
        "Name - Athlete's name\n",
        "\n",
        "Age - Integer\n",
        "\n",
        "Sports - Year and season\n",
        "\n",
        "Year - The year in which a certain olympic event took place.\n",
        "\n",
        "Country - Host city\n",
        "\n",
        "Sport - Sport\n",
        "\n",
        "Medal - Gold, Silver, Bronze, and Total medals\n",
        "\n",
        "Date_given - The date on which a sporting event will take place."
      ],
      "metadata": {
        "id": "1-yU_pY8HhPx"
      }
    },
    {
      "cell_type": "code",
      "execution_count": null,
      "metadata": {
        "colab": {
          "base_uri": "https://localhost:8080/"
        },
        "id": "5zaqTssE8ntm",
        "outputId": "440f3484-90d4-4174-86cb-ab53ddb647b9"
      },
      "outputs": [
        {
          "output_type": "stream",
          "name": "stdout",
          "text": [
            "Looking in indexes: https://pypi.org/simple, https://us-python.pkg.dev/colab-wheels/public/simple/\n",
            "Collecting pyspark\n",
            "  Downloading pyspark-3.3.0.tar.gz (281.3 MB)\n",
            "\u001b[K     |████████████████████████████████| 281.3 MB 43 kB/s \n",
            "\u001b[?25hCollecting py4j==0.10.9.5\n",
            "  Downloading py4j-0.10.9.5-py2.py3-none-any.whl (199 kB)\n",
            "\u001b[K     |████████████████████████████████| 199 kB 49.8 MB/s \n",
            "\u001b[?25hBuilding wheels for collected packages: pyspark\n",
            "  Building wheel for pyspark (setup.py) ... \u001b[?25l\u001b[?25hdone\n",
            "  Created wheel for pyspark: filename=pyspark-3.3.0-py2.py3-none-any.whl size=281764026 sha256=b345a28cc73b8b4df83030f8717a51b5691b43443e4d22878ab995d54fba0ce6\n",
            "  Stored in directory: /root/.cache/pip/wheels/7a/8e/1b/f73a52650d2e5f337708d9f6a1750d451a7349a867f928b885\n",
            "Successfully built pyspark\n",
            "Installing collected packages: py4j, pyspark\n",
            "Successfully installed py4j-0.10.9.5 pyspark-3.3.0\n"
          ]
        }
      ],
      "source": [
        "pip install pyspark # installation of pyspark"
      ]
    },
    {
      "cell_type": "code",
      "source": [
        "#Initializing PySpark\n",
        "from pyspark import SparkContext, SparkConf \n",
        "from pyspark.sql import SparkSession\n",
        "from pyspark.sql import SQLContext\n",
        "from pyspark.sql.functions import sum, col, desc, asc, count\n",
        "from pyspark.sql import functions as f\n",
        "#importing required libraries\n",
        "import pandas as pd\n",
        "import numpy as np"
      ],
      "metadata": {
        "id": "T_afRHGp-K-T"
      },
      "execution_count": null,
      "outputs": []
    },
    {
      "cell_type": "code",
      "source": [
        "#Spark Configuration\n",
        "conf = SparkConf().setAppName(\"sample_app\")\n",
        "sc = SparkContext(conf=conf)\n",
        "spark = SparkSession.builder.appName('Practice').getOrCreate() # creation of Spark Session\n",
        "sqlContext = SQLContext(sc)"
      ],
      "metadata": {
        "colab": {
          "base_uri": "https://localhost:8080/"
        },
        "id": "xftpoc0d-Qmp",
        "outputId": "3ba13855-6e5c-4912-cf8b-99e725f941a5"
      },
      "execution_count": null,
      "outputs": [
        {
          "output_type": "stream",
          "name": "stderr",
          "text": [
            "/usr/local/lib/python3.7/dist-packages/pyspark/sql/context.py:114: FutureWarning: Deprecated in 3.0.0. Use SparkSession.builder.getOrCreate() instead.\n",
            "  FutureWarning,\n"
          ]
        }
      ]
    },
    {
      "cell_type": "markdown",
      "source": [
        "## Write PySpark code to read olympix_data.csv file\n"
      ],
      "metadata": {
        "id": "xeO7dJ-MAQMB"
      }
    },
    {
      "cell_type": "code",
      "source": [
        "olympix = spark.read.format(\"csv\").option(\"header\", \"true\").option(\"inferSchema\",\"true\").load(\"/content/olympix_data_organized_with_header (1) (1).csv\") # reading dataset with the help of pyspark  \n"
      ],
      "metadata": {
        "id": "RhqSoSGR-X4b"
      },
      "execution_count": null,
      "outputs": []
    },
    {
      "cell_type": "markdown",
      "source": [
        "Here we are reading the csv file dataset using the spark."
      ],
      "metadata": {
        "id": "7M_Bj-9p5uuP"
      }
    },
    {
      "cell_type": "code",
      "source": [
        "olympix.show() # checking the rows in dataset"
      ],
      "metadata": {
        "colab": {
          "base_uri": "https://localhost:8080/"
        },
        "id": "NqiGtoUx-iMd",
        "outputId": "cd2313da-fceb-4332-cf83-205cad99959a"
      },
      "execution_count": null,
      "outputs": [
        {
          "output_type": "stream",
          "name": "stdout",
          "text": [
            "+--------------------+---+-------------+----+----------+--------------------+----------+------------+-----------+-----------+\n",
            "|                name|age|      country|year|Date_Given|              sports|gold_medal|silver_medal|brone_medal|total_medal|\n",
            "+--------------------+---+-------------+----+----------+--------------------+----------+------------+-----------+-----------+\n",
            "|      Michael Phelps| 23|United States|2008| 8/24/2008|            Swimming|         8|           0|          0|          8|\n",
            "|      Michael Phelps| 19|United States|2004| 8/29/2004|            Swimming|         6|           0|          2|          8|\n",
            "|      Michael Phelps| 27|United States|2012|08-12-2012|            Swimming|         4|           2|          0|          6|\n",
            "|    Natalie Coughlin| 25|United States|2008| 8/24/2008|            Swimming|         1|           2|          3|          6|\n",
            "|       Aleksey Nemov| 24|       Russia|2000|10-01-2000|          Gymnastics|         2|           1|          3|          6|\n",
            "|       Alicia Coutts| 24|    Australia|2012|08-12-2012|            Swimming|         1|           3|          1|          5|\n",
            "|      Missy Franklin| 17|United States|2012|08-12-2012|            Swimming|         4|           0|          1|          5|\n",
            "|         Ryan Lochte| 27|United States|2012|08-12-2012|            Swimming|         2|           2|          1|          5|\n",
            "|     Allison Schmitt| 22|United States|2012|08-12-2012|            Swimming|         3|           1|          1|          5|\n",
            "|    Natalie Coughlin| 21|United States|2004| 8/29/2004|            Swimming|         2|           2|          1|          5|\n",
            "|          Ian Thorpe| 17|    Australia|2000|10-01-2000|            Swimming|         3|           2|          0|          5|\n",
            "|         Dara Torres| 33|United States|2000|10-01-2000|            Swimming|         2|           0|          3|          5|\n",
            "|       Cindy Klassen| 26|       Canada|2006| 2/26/2006|       Speed Skating|         1|           2|          2|          5|\n",
            "|       Nastia Liukin| 18|United States|2008| 8/24/2008|          Gymnastics|         1|           3|          1|          5|\n",
            "|       Marit Bjørgen| 29|       Norway|2010| 2/28/2010|Cross Country Skiing|         3|           1|          1|          5|\n",
            "|            Sun Yang| 20|        China|2012|08-12-2012|            Swimming|         2|           1|          1|          4|\n",
            "|     Kirsty Coventry| 24|     Zimbabwe|2008| 8/24/2008|            Swimming|         1|           3|          0|          4|\n",
            "|Libby Lenton-Tric...| 23|    Australia|2008| 8/24/2008|            Swimming|         2|           1|          1|          4|\n",
            "|         Ryan Lochte| 24|United States|2008| 8/24/2008|            Swimming|         2|           0|          2|          4|\n",
            "|      Inge de Bruijn| 30|  Netherlands|2004| 8/29/2004|            Swimming|         1|           1|          2|          4|\n",
            "+--------------------+---+-------------+----+----------+--------------------+----------+------------+-----------+-----------+\n",
            "only showing top 20 rows\n",
            "\n"
          ]
        }
      ]
    },
    {
      "cell_type": "markdown",
      "source": [
        "We can see the top 20 rows of the dataset."
      ],
      "metadata": {
        "id": "DEMptfxd52k1"
      }
    },
    {
      "cell_type": "code",
      "source": [
        "olympix.columns # checking the columns in dataset"
      ],
      "metadata": {
        "colab": {
          "base_uri": "https://localhost:8080/"
        },
        "id": "9to71dHl-ltf",
        "outputId": "89128b98-1824-446c-aca7-978f1d2cb440"
      },
      "execution_count": null,
      "outputs": [
        {
          "output_type": "execute_result",
          "data": {
            "text/plain": [
              "['name',\n",
              " 'age',\n",
              " 'country',\n",
              " 'year',\n",
              " 'Date_Given',\n",
              " 'sports',\n",
              " 'gold_medal',\n",
              " 'silver_medal',\n",
              " 'brone_medal',\n",
              " 'total_medal']"
            ]
          },
          "metadata": {},
          "execution_count": 13
        }
      ]
    },
    {
      "cell_type": "markdown",
      "source": [
        "Here we can see the columns which are present in the dataset."
      ],
      "metadata": {
        "id": "sBUSHXQw572L"
      }
    },
    {
      "cell_type": "code",
      "source": [
        "olympix.printSchema() # schema of pyspark\n"
      ],
      "metadata": {
        "colab": {
          "base_uri": "https://localhost:8080/"
        },
        "id": "fPStyiAK-snp",
        "outputId": "3d3d5722-1d7b-4123-c011-499e2f1d520c"
      },
      "execution_count": null,
      "outputs": [
        {
          "output_type": "stream",
          "name": "stdout",
          "text": [
            "root\n",
            " |-- name: string (nullable = true)\n",
            " |-- age: integer (nullable = true)\n",
            " |-- country: string (nullable = true)\n",
            " |-- year: integer (nullable = true)\n",
            " |-- Date_Given: string (nullable = true)\n",
            " |-- sports: string (nullable = true)\n",
            " |-- gold_medal: integer (nullable = true)\n",
            " |-- silver_medal: integer (nullable = true)\n",
            " |-- brone_medal: integer (nullable = true)\n",
            " |-- total_medal: integer (nullable = true)\n",
            "\n"
          ]
        }
      ]
    },
    {
      "cell_type": "markdown",
      "source": [
        "We are checking the types of the data present in the dataset using the Schema."
      ],
      "metadata": {
        "id": "z8aaYF5y6Aj1"
      }
    },
    {
      "cell_type": "markdown",
      "source": [
        "## Write PySpark code to print the Olympic Sports/games in the dataset.\n"
      ],
      "metadata": {
        "id": "WNLo3cL6Aei0"
      }
    },
    {
      "cell_type": "code",
      "source": [
        "olympix.select('sports').distinct().show() #distinct sports in dataframe\n"
      ],
      "metadata": {
        "colab": {
          "base_uri": "https://localhost:8080/"
        },
        "id": "tAADHQRE_zd-",
        "outputId": "e932a897-ec59-44aa-b1a3-01cf7d4a38ce"
      },
      "execution_count": null,
      "outputs": [
        {
          "output_type": "stream",
          "name": "stdout",
          "text": [
            "+--------------------+\n",
            "|              sports|\n",
            "+--------------------+\n",
            "|          Gymnastics|\n",
            "|              Tennis|\n",
            "|              Boxing|\n",
            "|Short-Track Speed...|\n",
            "|          Ice Hockey|\n",
            "|              Rowing|\n",
            "|                Judo|\n",
            "|            Softball|\n",
            "|             Sailing|\n",
            "|            Swimming|\n",
            "|       Alpine Skiing|\n",
            "|          Basketball|\n",
            "|            Handball|\n",
            "| Rhythmic Gymnastics|\n",
            "|            Biathlon|\n",
            "|           Triathlon|\n",
            "|           Badminton|\n",
            "|           Athletics|\n",
            "|      Figure Skating|\n",
            "|    Beach Volleyball|\n",
            "+--------------------+\n",
            "only showing top 20 rows\n",
            "\n"
          ]
        }
      ]
    },
    {
      "cell_type": "markdown",
      "source": [
        "Here we can clearly see that the sports which are given in the dataset."
      ],
      "metadata": {
        "id": "TAAlMenH6IiX"
      }
    },
    {
      "cell_type": "markdown",
      "source": [
        "## Write PySpark code to plot the total number of medals in each Olympic Sport/game"
      ],
      "metadata": {
        "id": "uVHUObUoAsRC"
      }
    },
    {
      "cell_type": "code",
      "source": [
        "# groupby sports than performing aggregate function on total medals and than arranging in descending order\n",
        "\n",
        "sport_medal=olympix.groupBy(\"sports\") \\\n",
        "    .agg(sum(\"total_medal\").alias(\"Total\")) \\\n",
        "    .sort(desc(\"Total\"))"
      ],
      "metadata": {
        "id": "i5583rMNA1c0"
      },
      "execution_count": null,
      "outputs": []
    },
    {
      "cell_type": "code",
      "source": [
        "plot_sport_medal=sport_medal.toPandas() # using pandas for plotting purpose\n",
        "plot_sport_medal"
      ],
      "metadata": {
        "colab": {
          "base_uri": "https://localhost:8080/",
          "height": 1000
        },
        "id": "uukMkIKGBW13",
        "outputId": "e95e1779-1917-4bf6-bfa7-10f4a9327653"
      },
      "execution_count": null,
      "outputs": [
        {
          "output_type": "execute_result",
          "data": {
            "text/plain": [
              "                       sports  Total\n",
              "0                    Swimming    765\n",
              "1                   Athletics    753\n",
              "2                      Rowing    576\n",
              "3                    Football    407\n",
              "4                      Hockey    388\n",
              "5                  Ice Hockey    384\n",
              "6                    Handball    351\n",
              "7                    Canoeing    333\n",
              "8                   Waterpolo    306\n",
              "9                     Cycling    306\n",
              "10                 Basketball    287\n",
              "11                 Gymnastics    282\n",
              "12                 Volleyball    281\n",
              "13                    Fencing    256\n",
              "14                  Wrestling    245\n",
              "15                       Judo    224\n",
              "16                   Baseball    216\n",
              "17                    Sailing    210\n",
              "18                   Shooting    192\n",
              "19                     Boxing    188\n",
              "20                 Equestrian    182\n",
              "21              Weightlifting    180\n",
              "22       Cross Country Skiing    174\n",
              "23                     Diving    144\n",
              "24              Speed Skating    140\n",
              "25  Short-Track Speed Skating    138\n",
              "26                   Biathlon    138\n",
              "27                   Softball    134\n",
              "28      Synchronized Swimming    129\n",
              "29                  Taekwondo    112\n",
              "30                  Badminton     96\n",
              "31                    Archery     96\n",
              "32              Alpine Skiing     90\n",
              "33        Rhythmic Gymnastics     84\n",
              "34               Table Tennis     84\n",
              "35                    Curling     82\n",
              "36                     Tennis     78\n",
              "37                  Bobsleigh     72\n",
              "38             Figure Skating     54\n",
              "39                Ski Jumping     54\n",
              "40            Nordic Combined     54\n",
              "41           Beach Volleyball     48\n",
              "42               Snowboarding     48\n",
              "43           Freestyle Skiing     42\n",
              "44                       Luge     36\n",
              "45                  Triathlon     24\n",
              "46          Modern Pentathlon     24\n",
              "47                 Trampoline     24\n",
              "48                   Skeleton     18"
            ],
            "text/html": [
              "\n",
              "  <div id=\"df-1af76cd5-4546-43f1-9b65-3aa72d7d0405\">\n",
              "    <div class=\"colab-df-container\">\n",
              "      <div>\n",
              "<style scoped>\n",
              "    .dataframe tbody tr th:only-of-type {\n",
              "        vertical-align: middle;\n",
              "    }\n",
              "\n",
              "    .dataframe tbody tr th {\n",
              "        vertical-align: top;\n",
              "    }\n",
              "\n",
              "    .dataframe thead th {\n",
              "        text-align: right;\n",
              "    }\n",
              "</style>\n",
              "<table border=\"1\" class=\"dataframe\">\n",
              "  <thead>\n",
              "    <tr style=\"text-align: right;\">\n",
              "      <th></th>\n",
              "      <th>sports</th>\n",
              "      <th>Total</th>\n",
              "    </tr>\n",
              "  </thead>\n",
              "  <tbody>\n",
              "    <tr>\n",
              "      <th>0</th>\n",
              "      <td>Swimming</td>\n",
              "      <td>765</td>\n",
              "    </tr>\n",
              "    <tr>\n",
              "      <th>1</th>\n",
              "      <td>Athletics</td>\n",
              "      <td>753</td>\n",
              "    </tr>\n",
              "    <tr>\n",
              "      <th>2</th>\n",
              "      <td>Rowing</td>\n",
              "      <td>576</td>\n",
              "    </tr>\n",
              "    <tr>\n",
              "      <th>3</th>\n",
              "      <td>Football</td>\n",
              "      <td>407</td>\n",
              "    </tr>\n",
              "    <tr>\n",
              "      <th>4</th>\n",
              "      <td>Hockey</td>\n",
              "      <td>388</td>\n",
              "    </tr>\n",
              "    <tr>\n",
              "      <th>5</th>\n",
              "      <td>Ice Hockey</td>\n",
              "      <td>384</td>\n",
              "    </tr>\n",
              "    <tr>\n",
              "      <th>6</th>\n",
              "      <td>Handball</td>\n",
              "      <td>351</td>\n",
              "    </tr>\n",
              "    <tr>\n",
              "      <th>7</th>\n",
              "      <td>Canoeing</td>\n",
              "      <td>333</td>\n",
              "    </tr>\n",
              "    <tr>\n",
              "      <th>8</th>\n",
              "      <td>Waterpolo</td>\n",
              "      <td>306</td>\n",
              "    </tr>\n",
              "    <tr>\n",
              "      <th>9</th>\n",
              "      <td>Cycling</td>\n",
              "      <td>306</td>\n",
              "    </tr>\n",
              "    <tr>\n",
              "      <th>10</th>\n",
              "      <td>Basketball</td>\n",
              "      <td>287</td>\n",
              "    </tr>\n",
              "    <tr>\n",
              "      <th>11</th>\n",
              "      <td>Gymnastics</td>\n",
              "      <td>282</td>\n",
              "    </tr>\n",
              "    <tr>\n",
              "      <th>12</th>\n",
              "      <td>Volleyball</td>\n",
              "      <td>281</td>\n",
              "    </tr>\n",
              "    <tr>\n",
              "      <th>13</th>\n",
              "      <td>Fencing</td>\n",
              "      <td>256</td>\n",
              "    </tr>\n",
              "    <tr>\n",
              "      <th>14</th>\n",
              "      <td>Wrestling</td>\n",
              "      <td>245</td>\n",
              "    </tr>\n",
              "    <tr>\n",
              "      <th>15</th>\n",
              "      <td>Judo</td>\n",
              "      <td>224</td>\n",
              "    </tr>\n",
              "    <tr>\n",
              "      <th>16</th>\n",
              "      <td>Baseball</td>\n",
              "      <td>216</td>\n",
              "    </tr>\n",
              "    <tr>\n",
              "      <th>17</th>\n",
              "      <td>Sailing</td>\n",
              "      <td>210</td>\n",
              "    </tr>\n",
              "    <tr>\n",
              "      <th>18</th>\n",
              "      <td>Shooting</td>\n",
              "      <td>192</td>\n",
              "    </tr>\n",
              "    <tr>\n",
              "      <th>19</th>\n",
              "      <td>Boxing</td>\n",
              "      <td>188</td>\n",
              "    </tr>\n",
              "    <tr>\n",
              "      <th>20</th>\n",
              "      <td>Equestrian</td>\n",
              "      <td>182</td>\n",
              "    </tr>\n",
              "    <tr>\n",
              "      <th>21</th>\n",
              "      <td>Weightlifting</td>\n",
              "      <td>180</td>\n",
              "    </tr>\n",
              "    <tr>\n",
              "      <th>22</th>\n",
              "      <td>Cross Country Skiing</td>\n",
              "      <td>174</td>\n",
              "    </tr>\n",
              "    <tr>\n",
              "      <th>23</th>\n",
              "      <td>Diving</td>\n",
              "      <td>144</td>\n",
              "    </tr>\n",
              "    <tr>\n",
              "      <th>24</th>\n",
              "      <td>Speed Skating</td>\n",
              "      <td>140</td>\n",
              "    </tr>\n",
              "    <tr>\n",
              "      <th>25</th>\n",
              "      <td>Short-Track Speed Skating</td>\n",
              "      <td>138</td>\n",
              "    </tr>\n",
              "    <tr>\n",
              "      <th>26</th>\n",
              "      <td>Biathlon</td>\n",
              "      <td>138</td>\n",
              "    </tr>\n",
              "    <tr>\n",
              "      <th>27</th>\n",
              "      <td>Softball</td>\n",
              "      <td>134</td>\n",
              "    </tr>\n",
              "    <tr>\n",
              "      <th>28</th>\n",
              "      <td>Synchronized Swimming</td>\n",
              "      <td>129</td>\n",
              "    </tr>\n",
              "    <tr>\n",
              "      <th>29</th>\n",
              "      <td>Taekwondo</td>\n",
              "      <td>112</td>\n",
              "    </tr>\n",
              "    <tr>\n",
              "      <th>30</th>\n",
              "      <td>Badminton</td>\n",
              "      <td>96</td>\n",
              "    </tr>\n",
              "    <tr>\n",
              "      <th>31</th>\n",
              "      <td>Archery</td>\n",
              "      <td>96</td>\n",
              "    </tr>\n",
              "    <tr>\n",
              "      <th>32</th>\n",
              "      <td>Alpine Skiing</td>\n",
              "      <td>90</td>\n",
              "    </tr>\n",
              "    <tr>\n",
              "      <th>33</th>\n",
              "      <td>Rhythmic Gymnastics</td>\n",
              "      <td>84</td>\n",
              "    </tr>\n",
              "    <tr>\n",
              "      <th>34</th>\n",
              "      <td>Table Tennis</td>\n",
              "      <td>84</td>\n",
              "    </tr>\n",
              "    <tr>\n",
              "      <th>35</th>\n",
              "      <td>Curling</td>\n",
              "      <td>82</td>\n",
              "    </tr>\n",
              "    <tr>\n",
              "      <th>36</th>\n",
              "      <td>Tennis</td>\n",
              "      <td>78</td>\n",
              "    </tr>\n",
              "    <tr>\n",
              "      <th>37</th>\n",
              "      <td>Bobsleigh</td>\n",
              "      <td>72</td>\n",
              "    </tr>\n",
              "    <tr>\n",
              "      <th>38</th>\n",
              "      <td>Figure Skating</td>\n",
              "      <td>54</td>\n",
              "    </tr>\n",
              "    <tr>\n",
              "      <th>39</th>\n",
              "      <td>Ski Jumping</td>\n",
              "      <td>54</td>\n",
              "    </tr>\n",
              "    <tr>\n",
              "      <th>40</th>\n",
              "      <td>Nordic Combined</td>\n",
              "      <td>54</td>\n",
              "    </tr>\n",
              "    <tr>\n",
              "      <th>41</th>\n",
              "      <td>Beach Volleyball</td>\n",
              "      <td>48</td>\n",
              "    </tr>\n",
              "    <tr>\n",
              "      <th>42</th>\n",
              "      <td>Snowboarding</td>\n",
              "      <td>48</td>\n",
              "    </tr>\n",
              "    <tr>\n",
              "      <th>43</th>\n",
              "      <td>Freestyle Skiing</td>\n",
              "      <td>42</td>\n",
              "    </tr>\n",
              "    <tr>\n",
              "      <th>44</th>\n",
              "      <td>Luge</td>\n",
              "      <td>36</td>\n",
              "    </tr>\n",
              "    <tr>\n",
              "      <th>45</th>\n",
              "      <td>Triathlon</td>\n",
              "      <td>24</td>\n",
              "    </tr>\n",
              "    <tr>\n",
              "      <th>46</th>\n",
              "      <td>Modern Pentathlon</td>\n",
              "      <td>24</td>\n",
              "    </tr>\n",
              "    <tr>\n",
              "      <th>47</th>\n",
              "      <td>Trampoline</td>\n",
              "      <td>24</td>\n",
              "    </tr>\n",
              "    <tr>\n",
              "      <th>48</th>\n",
              "      <td>Skeleton</td>\n",
              "      <td>18</td>\n",
              "    </tr>\n",
              "  </tbody>\n",
              "</table>\n",
              "</div>\n",
              "      <button class=\"colab-df-convert\" onclick=\"convertToInteractive('df-1af76cd5-4546-43f1-9b65-3aa72d7d0405')\"\n",
              "              title=\"Convert this dataframe to an interactive table.\"\n",
              "              style=\"display:none;\">\n",
              "        \n",
              "  <svg xmlns=\"http://www.w3.org/2000/svg\" height=\"24px\"viewBox=\"0 0 24 24\"\n",
              "       width=\"24px\">\n",
              "    <path d=\"M0 0h24v24H0V0z\" fill=\"none\"/>\n",
              "    <path d=\"M18.56 5.44l.94 2.06.94-2.06 2.06-.94-2.06-.94-.94-2.06-.94 2.06-2.06.94zm-11 1L8.5 8.5l.94-2.06 2.06-.94-2.06-.94L8.5 2.5l-.94 2.06-2.06.94zm10 10l.94 2.06.94-2.06 2.06-.94-2.06-.94-.94-2.06-.94 2.06-2.06.94z\"/><path d=\"M17.41 7.96l-1.37-1.37c-.4-.4-.92-.59-1.43-.59-.52 0-1.04.2-1.43.59L10.3 9.45l-7.72 7.72c-.78.78-.78 2.05 0 2.83L4 21.41c.39.39.9.59 1.41.59.51 0 1.02-.2 1.41-.59l7.78-7.78 2.81-2.81c.8-.78.8-2.07 0-2.86zM5.41 20L4 18.59l7.72-7.72 1.47 1.35L5.41 20z\"/>\n",
              "  </svg>\n",
              "      </button>\n",
              "      \n",
              "  <style>\n",
              "    .colab-df-container {\n",
              "      display:flex;\n",
              "      flex-wrap:wrap;\n",
              "      gap: 12px;\n",
              "    }\n",
              "\n",
              "    .colab-df-convert {\n",
              "      background-color: #E8F0FE;\n",
              "      border: none;\n",
              "      border-radius: 50%;\n",
              "      cursor: pointer;\n",
              "      display: none;\n",
              "      fill: #1967D2;\n",
              "      height: 32px;\n",
              "      padding: 0 0 0 0;\n",
              "      width: 32px;\n",
              "    }\n",
              "\n",
              "    .colab-df-convert:hover {\n",
              "      background-color: #E2EBFA;\n",
              "      box-shadow: 0px 1px 2px rgba(60, 64, 67, 0.3), 0px 1px 3px 1px rgba(60, 64, 67, 0.15);\n",
              "      fill: #174EA6;\n",
              "    }\n",
              "\n",
              "    [theme=dark] .colab-df-convert {\n",
              "      background-color: #3B4455;\n",
              "      fill: #D2E3FC;\n",
              "    }\n",
              "\n",
              "    [theme=dark] .colab-df-convert:hover {\n",
              "      background-color: #434B5C;\n",
              "      box-shadow: 0px 1px 3px 1px rgba(0, 0, 0, 0.15);\n",
              "      filter: drop-shadow(0px 1px 2px rgba(0, 0, 0, 0.3));\n",
              "      fill: #FFFFFF;\n",
              "    }\n",
              "  </style>\n",
              "\n",
              "      <script>\n",
              "        const buttonEl =\n",
              "          document.querySelector('#df-1af76cd5-4546-43f1-9b65-3aa72d7d0405 button.colab-df-convert');\n",
              "        buttonEl.style.display =\n",
              "          google.colab.kernel.accessAllowed ? 'block' : 'none';\n",
              "\n",
              "        async function convertToInteractive(key) {\n",
              "          const element = document.querySelector('#df-1af76cd5-4546-43f1-9b65-3aa72d7d0405');\n",
              "          const dataTable =\n",
              "            await google.colab.kernel.invokeFunction('convertToInteractive',\n",
              "                                                     [key], {});\n",
              "          if (!dataTable) return;\n",
              "\n",
              "          const docLinkHtml = 'Like what you see? Visit the ' +\n",
              "            '<a target=\"_blank\" href=https://colab.research.google.com/notebooks/data_table.ipynb>data table notebook</a>'\n",
              "            + ' to learn more about interactive tables.';\n",
              "          element.innerHTML = '';\n",
              "          dataTable['output_type'] = 'display_data';\n",
              "          await google.colab.output.renderOutput(dataTable, element);\n",
              "          const docLink = document.createElement('div');\n",
              "          docLink.innerHTML = docLinkHtml;\n",
              "          element.appendChild(docLink);\n",
              "        }\n",
              "      </script>\n",
              "    </div>\n",
              "  </div>\n",
              "  "
            ]
          },
          "metadata": {},
          "execution_count": 17
        }
      ]
    },
    {
      "cell_type": "markdown",
      "source": [
        "We can see the total number of medals in each sports in the Olympics."
      ],
      "metadata": {
        "id": "aSnqcWJ46PZ_"
      }
    },
    {
      "cell_type": "markdown",
      "source": [
        "## Sort the result based on the total number of medals."
      ],
      "metadata": {
        "id": "c-wMk28uCRfk"
      }
    },
    {
      "cell_type": "code",
      "source": [
        "# plotting with help of ploty\n",
        "import plotly.express as px\n",
        "fig = px.treemap(plot_sport_medal, \n",
        "                 path=[\"sports\",\"Total\"],\n",
        "                 values=plot_sport_medal[\"Total\"],\n",
        "                 color='sports',width=1400, height=1600\n",
        "                )\n",
        "\n",
        "\n",
        "fig.show()"
      ],
      "metadata": {
        "colab": {
          "base_uri": "https://localhost:8080/",
          "height": 1000
        },
        "id": "A1DqgDbHBjFj",
        "outputId": "0808c975-c63b-4a0f-925b-824186e5a344"
      },
      "execution_count": null,
      "outputs": [
        {
          "output_type": "display_data",
          "data": {
            "text/html": [
              "<html>\n",
              "<head><meta charset=\"utf-8\" /></head>\n",
              "<body>\n",
              "    <div>            <script src=\"https://cdnjs.cloudflare.com/ajax/libs/mathjax/2.7.5/MathJax.js?config=TeX-AMS-MML_SVG\"></script><script type=\"text/javascript\">if (window.MathJax) {MathJax.Hub.Config({SVG: {font: \"STIX-Web\"}});}</script>                <script type=\"text/javascript\">window.PlotlyConfig = {MathJaxConfig: 'local'};</script>\n",
              "        <script src=\"https://cdn.plot.ly/plotly-2.8.3.min.js\"></script>                <div id=\"23a363d2-06b4-4e29-9d3f-46cec95ba3c5\" class=\"plotly-graph-div\" style=\"height:1600px; width:1400px;\"></div>            <script type=\"text/javascript\">                                    window.PLOTLYENV=window.PLOTLYENV || {};                                    if (document.getElementById(\"23a363d2-06b4-4e29-9d3f-46cec95ba3c5\")) {                    Plotly.newPlot(                        \"23a363d2-06b4-4e29-9d3f-46cec95ba3c5\",                        [{\"branchvalues\":\"total\",\"customdata\":[[\"Baseball\"],[\"Sailing\"],[\"Modern Pentathlon\"],[\"Shooting\"],[\"Alpine Skiing\"],[\"Ski Jumping\"],[\"Canoeing\"],[\"Cross Country Skiing\"],[\"Gymnastics\"],[\"Taekwondo\"],[\"Snowboarding\"],[\"Biathlon\"],[\"Fencing\"],[\"Nordic Combined\"],[\"Short-Track Speed Skating\"],[\"Synchronized Swimming\"],[\"Curling\"],[\"Basketball\"],[\"Triathlon\"],[\"Ice Hockey\"],[\"Bobsleigh\"],[\"Beach Volleyball\"],[\"Luge\"],[\"Freestyle Skiing\"],[\"Table Tennis\"],[\"Hockey\"],[\"Rowing\"],[\"Waterpolo\"],[\"Judo\"],[\"Trampoline\"],[\"Archery\"],[\"Badminton\"],[\"Diving\"],[\"Swimming\"],[\"Cycling\"],[\"Handball\"],[\"Weightlifting\"],[\"Speed Skating\"],[\"Skeleton\"],[\"Equestrian\"],[\"Wrestling\"],[\"Boxing\"],[\"Volleyball\"],[\"Athletics\"],[\"Football\"],[\"Tennis\"],[\"Figure Skating\"],[\"Softball\"],[\"Rhythmic Gymnastics\"],[\"Alpine Skiing\"],[\"Archery\"],[\"Athletics\"],[\"Badminton\"],[\"Baseball\"],[\"Basketball\"],[\"Beach Volleyball\"],[\"Biathlon\"],[\"Bobsleigh\"],[\"Boxing\"],[\"Canoeing\"],[\"Cross Country Skiing\"],[\"Curling\"],[\"Cycling\"],[\"Diving\"],[\"Equestrian\"],[\"Fencing\"],[\"Figure Skating\"],[\"Football\"],[\"Freestyle Skiing\"],[\"Gymnastics\"],[\"Handball\"],[\"Hockey\"],[\"Ice Hockey\"],[\"Judo\"],[\"Luge\"],[\"Modern Pentathlon\"],[\"Nordic Combined\"],[\"Rhythmic Gymnastics\"],[\"Rowing\"],[\"Sailing\"],[\"Shooting\"],[\"Short-Track Speed Skating\"],[\"Skeleton\"],[\"Ski Jumping\"],[\"Snowboarding\"],[\"Softball\"],[\"Speed Skating\"],[\"Swimming\"],[\"Synchronized Swimming\"],[\"Table Tennis\"],[\"Taekwondo\"],[\"Tennis\"],[\"Trampoline\"],[\"Triathlon\"],[\"Volleyball\"],[\"Waterpolo\"],[\"Weightlifting\"],[\"Wrestling\"]],\"domain\":{\"x\":[0.0,1.0],\"y\":[0.0,1.0]},\"hovertemplate\":\"labels=%{label}<br>Total=%{value}<br>parent=%{parent}<br>id=%{id}<br>sports=%{customdata[0]}<extra></extra>\",\"ids\":[\"Baseball/216\",\"Sailing/210\",\"Modern Pentathlon/24\",\"Shooting/192\",\"Alpine Skiing/90\",\"Ski Jumping/54\",\"Canoeing/333\",\"Cross Country Skiing/174\",\"Gymnastics/282\",\"Taekwondo/112\",\"Snowboarding/48\",\"Biathlon/138\",\"Fencing/256\",\"Nordic Combined/54\",\"Short-Track Speed Skating/138\",\"Synchronized Swimming/129\",\"Curling/82\",\"Basketball/287\",\"Triathlon/24\",\"Ice Hockey/384\",\"Bobsleigh/72\",\"Beach Volleyball/48\",\"Luge/36\",\"Freestyle Skiing/42\",\"Table Tennis/84\",\"Hockey/388\",\"Rowing/576\",\"Waterpolo/306\",\"Judo/224\",\"Trampoline/24\",\"Archery/96\",\"Badminton/96\",\"Diving/144\",\"Swimming/765\",\"Cycling/306\",\"Handball/351\",\"Weightlifting/180\",\"Speed Skating/140\",\"Skeleton/18\",\"Equestrian/182\",\"Wrestling/245\",\"Boxing/188\",\"Volleyball/281\",\"Athletics/753\",\"Football/407\",\"Tennis/78\",\"Figure Skating/54\",\"Softball/134\",\"Rhythmic Gymnastics/84\",\"Alpine Skiing\",\"Archery\",\"Athletics\",\"Badminton\",\"Baseball\",\"Basketball\",\"Beach Volleyball\",\"Biathlon\",\"Bobsleigh\",\"Boxing\",\"Canoeing\",\"Cross Country Skiing\",\"Curling\",\"Cycling\",\"Diving\",\"Equestrian\",\"Fencing\",\"Figure Skating\",\"Football\",\"Freestyle Skiing\",\"Gymnastics\",\"Handball\",\"Hockey\",\"Ice Hockey\",\"Judo\",\"Luge\",\"Modern Pentathlon\",\"Nordic Combined\",\"Rhythmic Gymnastics\",\"Rowing\",\"Sailing\",\"Shooting\",\"Short-Track Speed Skating\",\"Skeleton\",\"Ski Jumping\",\"Snowboarding\",\"Softball\",\"Speed Skating\",\"Swimming\",\"Synchronized Swimming\",\"Table Tennis\",\"Taekwondo\",\"Tennis\",\"Trampoline\",\"Triathlon\",\"Volleyball\",\"Waterpolo\",\"Weightlifting\",\"Wrestling\"],\"labels\":[\"216\",\"210\",\"24\",\"192\",\"90\",\"54\",\"333\",\"174\",\"282\",\"112\",\"48\",\"138\",\"256\",\"54\",\"138\",\"129\",\"82\",\"287\",\"24\",\"384\",\"72\",\"48\",\"36\",\"42\",\"84\",\"388\",\"576\",\"306\",\"224\",\"24\",\"96\",\"96\",\"144\",\"765\",\"306\",\"351\",\"180\",\"140\",\"18\",\"182\",\"245\",\"188\",\"281\",\"753\",\"407\",\"78\",\"54\",\"134\",\"84\",\"Alpine Skiing\",\"Archery\",\"Athletics\",\"Badminton\",\"Baseball\",\"Basketball\",\"Beach Volleyball\",\"Biathlon\",\"Bobsleigh\",\"Boxing\",\"Canoeing\",\"Cross Country Skiing\",\"Curling\",\"Cycling\",\"Diving\",\"Equestrian\",\"Fencing\",\"Figure Skating\",\"Football\",\"Freestyle Skiing\",\"Gymnastics\",\"Handball\",\"Hockey\",\"Ice Hockey\",\"Judo\",\"Luge\",\"Modern Pentathlon\",\"Nordic Combined\",\"Rhythmic Gymnastics\",\"Rowing\",\"Sailing\",\"Shooting\",\"Short-Track Speed Skating\",\"Skeleton\",\"Ski Jumping\",\"Snowboarding\",\"Softball\",\"Speed Skating\",\"Swimming\",\"Synchronized Swimming\",\"Table Tennis\",\"Taekwondo\",\"Tennis\",\"Trampoline\",\"Triathlon\",\"Volleyball\",\"Waterpolo\",\"Weightlifting\",\"Wrestling\"],\"marker\":{\"colors\":[\"#636efa\",\"#EF553B\",\"#00cc96\",\"#ab63fa\",\"#FFA15A\",\"#19d3f3\",\"#FF6692\",\"#B6E880\",\"#FF97FF\",\"#FECB52\",\"#636efa\",\"#EF553B\",\"#00cc96\",\"#ab63fa\",\"#FFA15A\",\"#19d3f3\",\"#FF6692\",\"#B6E880\",\"#FF97FF\",\"#FECB52\",\"#636efa\",\"#EF553B\",\"#00cc96\",\"#ab63fa\",\"#FFA15A\",\"#19d3f3\",\"#FF6692\",\"#B6E880\",\"#FF97FF\",\"#FECB52\",\"#636efa\",\"#EF553B\",\"#00cc96\",\"#ab63fa\",\"#FFA15A\",\"#19d3f3\",\"#FF6692\",\"#B6E880\",\"#FF97FF\",\"#FECB52\",\"#636efa\",\"#EF553B\",\"#00cc96\",\"#ab63fa\",\"#FFA15A\",\"#19d3f3\",\"#FF6692\",\"#B6E880\",\"#FF97FF\",\"#FFA15A\",\"#636efa\",\"#ab63fa\",\"#EF553B\",\"#636efa\",\"#B6E880\",\"#EF553B\",\"#EF553B\",\"#636efa\",\"#EF553B\",\"#FF6692\",\"#B6E880\",\"#FF6692\",\"#FFA15A\",\"#00cc96\",\"#FECB52\",\"#00cc96\",\"#FF6692\",\"#FFA15A\",\"#ab63fa\",\"#FF97FF\",\"#19d3f3\",\"#19d3f3\",\"#FECB52\",\"#FF97FF\",\"#00cc96\",\"#00cc96\",\"#ab63fa\",\"#FF97FF\",\"#FF6692\",\"#EF553B\",\"#ab63fa\",\"#FFA15A\",\"#FF97FF\",\"#19d3f3\",\"#636efa\",\"#B6E880\",\"#B6E880\",\"#ab63fa\",\"#19d3f3\",\"#FFA15A\",\"#FECB52\",\"#19d3f3\",\"#FECB52\",\"#FF97FF\",\"#00cc96\",\"#B6E880\",\"#FF6692\",\"#636efa\"]},\"name\":\"\",\"parents\":[\"Baseball\",\"Sailing\",\"Modern Pentathlon\",\"Shooting\",\"Alpine Skiing\",\"Ski Jumping\",\"Canoeing\",\"Cross Country Skiing\",\"Gymnastics\",\"Taekwondo\",\"Snowboarding\",\"Biathlon\",\"Fencing\",\"Nordic Combined\",\"Short-Track Speed Skating\",\"Synchronized Swimming\",\"Curling\",\"Basketball\",\"Triathlon\",\"Ice Hockey\",\"Bobsleigh\",\"Beach Volleyball\",\"Luge\",\"Freestyle Skiing\",\"Table Tennis\",\"Hockey\",\"Rowing\",\"Waterpolo\",\"Judo\",\"Trampoline\",\"Archery\",\"Badminton\",\"Diving\",\"Swimming\",\"Cycling\",\"Handball\",\"Weightlifting\",\"Speed Skating\",\"Skeleton\",\"Equestrian\",\"Wrestling\",\"Boxing\",\"Volleyball\",\"Athletics\",\"Football\",\"Tennis\",\"Figure Skating\",\"Softball\",\"Rhythmic Gymnastics\",\"\",\"\",\"\",\"\",\"\",\"\",\"\",\"\",\"\",\"\",\"\",\"\",\"\",\"\",\"\",\"\",\"\",\"\",\"\",\"\",\"\",\"\",\"\",\"\",\"\",\"\",\"\",\"\",\"\",\"\",\"\",\"\",\"\",\"\",\"\",\"\",\"\",\"\",\"\",\"\",\"\",\"\",\"\",\"\",\"\",\"\",\"\",\"\",\"\"],\"values\":[216,210,24,192,90,54,333,174,282,112,48,138,256,54,138,129,82,287,24,384,72,48,36,42,84,388,576,306,224,24,96,96,144,765,306,351,180,140,18,182,245,188,281,753,407,78,54,134,84,90,96,753,96,216,287,48,138,72,188,333,174,82,306,144,182,256,54,407,42,282,351,388,384,224,36,24,54,84,576,210,192,138,18,54,48,134,140,765,129,84,112,78,24,24,281,306,180,245],\"type\":\"treemap\"}],                        {\"template\":{\"data\":{\"bar\":[{\"error_x\":{\"color\":\"#2a3f5f\"},\"error_y\":{\"color\":\"#2a3f5f\"},\"marker\":{\"line\":{\"color\":\"#E5ECF6\",\"width\":0.5},\"pattern\":{\"fillmode\":\"overlay\",\"size\":10,\"solidity\":0.2}},\"type\":\"bar\"}],\"barpolar\":[{\"marker\":{\"line\":{\"color\":\"#E5ECF6\",\"width\":0.5},\"pattern\":{\"fillmode\":\"overlay\",\"size\":10,\"solidity\":0.2}},\"type\":\"barpolar\"}],\"carpet\":[{\"aaxis\":{\"endlinecolor\":\"#2a3f5f\",\"gridcolor\":\"white\",\"linecolor\":\"white\",\"minorgridcolor\":\"white\",\"startlinecolor\":\"#2a3f5f\"},\"baxis\":{\"endlinecolor\":\"#2a3f5f\",\"gridcolor\":\"white\",\"linecolor\":\"white\",\"minorgridcolor\":\"white\",\"startlinecolor\":\"#2a3f5f\"},\"type\":\"carpet\"}],\"choropleth\":[{\"colorbar\":{\"outlinewidth\":0,\"ticks\":\"\"},\"type\":\"choropleth\"}],\"contour\":[{\"colorbar\":{\"outlinewidth\":0,\"ticks\":\"\"},\"colorscale\":[[0.0,\"#0d0887\"],[0.1111111111111111,\"#46039f\"],[0.2222222222222222,\"#7201a8\"],[0.3333333333333333,\"#9c179e\"],[0.4444444444444444,\"#bd3786\"],[0.5555555555555556,\"#d8576b\"],[0.6666666666666666,\"#ed7953\"],[0.7777777777777778,\"#fb9f3a\"],[0.8888888888888888,\"#fdca26\"],[1.0,\"#f0f921\"]],\"type\":\"contour\"}],\"contourcarpet\":[{\"colorbar\":{\"outlinewidth\":0,\"ticks\":\"\"},\"type\":\"contourcarpet\"}],\"heatmap\":[{\"colorbar\":{\"outlinewidth\":0,\"ticks\":\"\"},\"colorscale\":[[0.0,\"#0d0887\"],[0.1111111111111111,\"#46039f\"],[0.2222222222222222,\"#7201a8\"],[0.3333333333333333,\"#9c179e\"],[0.4444444444444444,\"#bd3786\"],[0.5555555555555556,\"#d8576b\"],[0.6666666666666666,\"#ed7953\"],[0.7777777777777778,\"#fb9f3a\"],[0.8888888888888888,\"#fdca26\"],[1.0,\"#f0f921\"]],\"type\":\"heatmap\"}],\"heatmapgl\":[{\"colorbar\":{\"outlinewidth\":0,\"ticks\":\"\"},\"colorscale\":[[0.0,\"#0d0887\"],[0.1111111111111111,\"#46039f\"],[0.2222222222222222,\"#7201a8\"],[0.3333333333333333,\"#9c179e\"],[0.4444444444444444,\"#bd3786\"],[0.5555555555555556,\"#d8576b\"],[0.6666666666666666,\"#ed7953\"],[0.7777777777777778,\"#fb9f3a\"],[0.8888888888888888,\"#fdca26\"],[1.0,\"#f0f921\"]],\"type\":\"heatmapgl\"}],\"histogram\":[{\"marker\":{\"pattern\":{\"fillmode\":\"overlay\",\"size\":10,\"solidity\":0.2}},\"type\":\"histogram\"}],\"histogram2d\":[{\"colorbar\":{\"outlinewidth\":0,\"ticks\":\"\"},\"colorscale\":[[0.0,\"#0d0887\"],[0.1111111111111111,\"#46039f\"],[0.2222222222222222,\"#7201a8\"],[0.3333333333333333,\"#9c179e\"],[0.4444444444444444,\"#bd3786\"],[0.5555555555555556,\"#d8576b\"],[0.6666666666666666,\"#ed7953\"],[0.7777777777777778,\"#fb9f3a\"],[0.8888888888888888,\"#fdca26\"],[1.0,\"#f0f921\"]],\"type\":\"histogram2d\"}],\"histogram2dcontour\":[{\"colorbar\":{\"outlinewidth\":0,\"ticks\":\"\"},\"colorscale\":[[0.0,\"#0d0887\"],[0.1111111111111111,\"#46039f\"],[0.2222222222222222,\"#7201a8\"],[0.3333333333333333,\"#9c179e\"],[0.4444444444444444,\"#bd3786\"],[0.5555555555555556,\"#d8576b\"],[0.6666666666666666,\"#ed7953\"],[0.7777777777777778,\"#fb9f3a\"],[0.8888888888888888,\"#fdca26\"],[1.0,\"#f0f921\"]],\"type\":\"histogram2dcontour\"}],\"mesh3d\":[{\"colorbar\":{\"outlinewidth\":0,\"ticks\":\"\"},\"type\":\"mesh3d\"}],\"parcoords\":[{\"line\":{\"colorbar\":{\"outlinewidth\":0,\"ticks\":\"\"}},\"type\":\"parcoords\"}],\"pie\":[{\"automargin\":true,\"type\":\"pie\"}],\"scatter\":[{\"marker\":{\"colorbar\":{\"outlinewidth\":0,\"ticks\":\"\"}},\"type\":\"scatter\"}],\"scatter3d\":[{\"line\":{\"colorbar\":{\"outlinewidth\":0,\"ticks\":\"\"}},\"marker\":{\"colorbar\":{\"outlinewidth\":0,\"ticks\":\"\"}},\"type\":\"scatter3d\"}],\"scattercarpet\":[{\"marker\":{\"colorbar\":{\"outlinewidth\":0,\"ticks\":\"\"}},\"type\":\"scattercarpet\"}],\"scattergeo\":[{\"marker\":{\"colorbar\":{\"outlinewidth\":0,\"ticks\":\"\"}},\"type\":\"scattergeo\"}],\"scattergl\":[{\"marker\":{\"colorbar\":{\"outlinewidth\":0,\"ticks\":\"\"}},\"type\":\"scattergl\"}],\"scattermapbox\":[{\"marker\":{\"colorbar\":{\"outlinewidth\":0,\"ticks\":\"\"}},\"type\":\"scattermapbox\"}],\"scatterpolar\":[{\"marker\":{\"colorbar\":{\"outlinewidth\":0,\"ticks\":\"\"}},\"type\":\"scatterpolar\"}],\"scatterpolargl\":[{\"marker\":{\"colorbar\":{\"outlinewidth\":0,\"ticks\":\"\"}},\"type\":\"scatterpolargl\"}],\"scatterternary\":[{\"marker\":{\"colorbar\":{\"outlinewidth\":0,\"ticks\":\"\"}},\"type\":\"scatterternary\"}],\"surface\":[{\"colorbar\":{\"outlinewidth\":0,\"ticks\":\"\"},\"colorscale\":[[0.0,\"#0d0887\"],[0.1111111111111111,\"#46039f\"],[0.2222222222222222,\"#7201a8\"],[0.3333333333333333,\"#9c179e\"],[0.4444444444444444,\"#bd3786\"],[0.5555555555555556,\"#d8576b\"],[0.6666666666666666,\"#ed7953\"],[0.7777777777777778,\"#fb9f3a\"],[0.8888888888888888,\"#fdca26\"],[1.0,\"#f0f921\"]],\"type\":\"surface\"}],\"table\":[{\"cells\":{\"fill\":{\"color\":\"#EBF0F8\"},\"line\":{\"color\":\"white\"}},\"header\":{\"fill\":{\"color\":\"#C8D4E3\"},\"line\":{\"color\":\"white\"}},\"type\":\"table\"}]},\"layout\":{\"annotationdefaults\":{\"arrowcolor\":\"#2a3f5f\",\"arrowhead\":0,\"arrowwidth\":1},\"autotypenumbers\":\"strict\",\"coloraxis\":{\"colorbar\":{\"outlinewidth\":0,\"ticks\":\"\"}},\"colorscale\":{\"diverging\":[[0,\"#8e0152\"],[0.1,\"#c51b7d\"],[0.2,\"#de77ae\"],[0.3,\"#f1b6da\"],[0.4,\"#fde0ef\"],[0.5,\"#f7f7f7\"],[0.6,\"#e6f5d0\"],[0.7,\"#b8e186\"],[0.8,\"#7fbc41\"],[0.9,\"#4d9221\"],[1,\"#276419\"]],\"sequential\":[[0.0,\"#0d0887\"],[0.1111111111111111,\"#46039f\"],[0.2222222222222222,\"#7201a8\"],[0.3333333333333333,\"#9c179e\"],[0.4444444444444444,\"#bd3786\"],[0.5555555555555556,\"#d8576b\"],[0.6666666666666666,\"#ed7953\"],[0.7777777777777778,\"#fb9f3a\"],[0.8888888888888888,\"#fdca26\"],[1.0,\"#f0f921\"]],\"sequentialminus\":[[0.0,\"#0d0887\"],[0.1111111111111111,\"#46039f\"],[0.2222222222222222,\"#7201a8\"],[0.3333333333333333,\"#9c179e\"],[0.4444444444444444,\"#bd3786\"],[0.5555555555555556,\"#d8576b\"],[0.6666666666666666,\"#ed7953\"],[0.7777777777777778,\"#fb9f3a\"],[0.8888888888888888,\"#fdca26\"],[1.0,\"#f0f921\"]]},\"colorway\":[\"#636efa\",\"#EF553B\",\"#00cc96\",\"#ab63fa\",\"#FFA15A\",\"#19d3f3\",\"#FF6692\",\"#B6E880\",\"#FF97FF\",\"#FECB52\"],\"font\":{\"color\":\"#2a3f5f\"},\"geo\":{\"bgcolor\":\"white\",\"lakecolor\":\"white\",\"landcolor\":\"#E5ECF6\",\"showlakes\":true,\"showland\":true,\"subunitcolor\":\"white\"},\"hoverlabel\":{\"align\":\"left\"},\"hovermode\":\"closest\",\"mapbox\":{\"style\":\"light\"},\"paper_bgcolor\":\"white\",\"plot_bgcolor\":\"#E5ECF6\",\"polar\":{\"angularaxis\":{\"gridcolor\":\"white\",\"linecolor\":\"white\",\"ticks\":\"\"},\"bgcolor\":\"#E5ECF6\",\"radialaxis\":{\"gridcolor\":\"white\",\"linecolor\":\"white\",\"ticks\":\"\"}},\"scene\":{\"xaxis\":{\"backgroundcolor\":\"#E5ECF6\",\"gridcolor\":\"white\",\"gridwidth\":2,\"linecolor\":\"white\",\"showbackground\":true,\"ticks\":\"\",\"zerolinecolor\":\"white\"},\"yaxis\":{\"backgroundcolor\":\"#E5ECF6\",\"gridcolor\":\"white\",\"gridwidth\":2,\"linecolor\":\"white\",\"showbackground\":true,\"ticks\":\"\",\"zerolinecolor\":\"white\"},\"zaxis\":{\"backgroundcolor\":\"#E5ECF6\",\"gridcolor\":\"white\",\"gridwidth\":2,\"linecolor\":\"white\",\"showbackground\":true,\"ticks\":\"\",\"zerolinecolor\":\"white\"}},\"shapedefaults\":{\"line\":{\"color\":\"#2a3f5f\"}},\"ternary\":{\"aaxis\":{\"gridcolor\":\"white\",\"linecolor\":\"white\",\"ticks\":\"\"},\"baxis\":{\"gridcolor\":\"white\",\"linecolor\":\"white\",\"ticks\":\"\"},\"bgcolor\":\"#E5ECF6\",\"caxis\":{\"gridcolor\":\"white\",\"linecolor\":\"white\",\"ticks\":\"\"}},\"title\":{\"x\":0.05},\"xaxis\":{\"automargin\":true,\"gridcolor\":\"white\",\"linecolor\":\"white\",\"ticks\":\"\",\"title\":{\"standoff\":15},\"zerolinecolor\":\"white\",\"zerolinewidth\":2},\"yaxis\":{\"automargin\":true,\"gridcolor\":\"white\",\"linecolor\":\"white\",\"ticks\":\"\",\"title\":{\"standoff\":15},\"zerolinecolor\":\"white\",\"zerolinewidth\":2}}},\"legend\":{\"tracegroupgap\":0},\"margin\":{\"t\":60},\"height\":1600,\"width\":1400},                        {\"responsive\": true}                    ).then(function(){\n",
              "                            \n",
              "var gd = document.getElementById('23a363d2-06b4-4e29-9d3f-46cec95ba3c5');\n",
              "var x = new MutationObserver(function (mutations, observer) {{\n",
              "        var display = window.getComputedStyle(gd).display;\n",
              "        if (!display || display === 'none') {{\n",
              "            console.log([gd, 'removed!']);\n",
              "            Plotly.purge(gd);\n",
              "            observer.disconnect();\n",
              "        }}\n",
              "}});\n",
              "\n",
              "// Listen for the removal of the full notebook cells\n",
              "var notebookContainer = gd.closest('#notebook-container');\n",
              "if (notebookContainer) {{\n",
              "    x.observe(notebookContainer, {childList: true});\n",
              "}}\n",
              "\n",
              "// Listen for the clearing of the current output cell\n",
              "var outputEl = gd.closest('.output');\n",
              "if (outputEl) {{\n",
              "    x.observe(outputEl, {childList: true});\n",
              "}}\n",
              "\n",
              "                        })                };                            </script>        </div>\n",
              "</body>\n",
              "</html>"
            ]
          },
          "metadata": {}
        }
      ]
    },
    {
      "cell_type": "markdown",
      "source": [
        "In this plot we can visualize clear view of each sports with the count of the medals and we can see that the map is pointed on each sports the size of the boxes in the map are differed from each other so that we can clearly understand the sports with the count of the medals value."
      ],
      "metadata": {
        "id": "66vUEBom6c-e"
      }
    },
    {
      "cell_type": "markdown",
      "source": [
        "## Find the total number of medals won by each country in swimming."
      ],
      "metadata": {
        "id": "_-lbRsH3CEk_"
      }
    },
    {
      "cell_type": "code",
      "source": [
        "#groupby sports and country and then aggregation\n",
        "sp_count_Tot=olympix.groupby('sports','country').agg(sum(\"total_medal\").alias(\"Total\")).sort(desc(\"Total\"))"
      ],
      "metadata": {
        "id": "g2QGnZNjCfsz"
      },
      "execution_count": null,
      "outputs": []
    },
    {
      "cell_type": "code",
      "source": [
        "sp_count_Tot.filter(olympix['sports']=='Swimming').show()\n"
      ],
      "metadata": {
        "colab": {
          "base_uri": "https://localhost:8080/"
        },
        "id": "C1HSK9tHCpNJ",
        "outputId": "65cee46a-b3ea-486e-fd54-29387e458572"
      },
      "execution_count": null,
      "outputs": [
        {
          "output_type": "stream",
          "name": "stdout",
          "text": [
            "+--------+-------------+-----+\n",
            "|  sports|      country|Total|\n",
            "+--------+-------------+-----+\n",
            "|Swimming|United States|  267|\n",
            "|Swimming|    Australia|  163|\n",
            "|Swimming|  Netherlands|   46|\n",
            "|Swimming|        Japan|   43|\n",
            "|Swimming|       France|   39|\n",
            "|Swimming|        China|   35|\n",
            "|Swimming|      Germany|   32|\n",
            "|Swimming|       Russia|   20|\n",
            "|Swimming|        Italy|   16|\n",
            "|Swimming| South Africa|   11|\n",
            "|Swimming|Great Britain|   11|\n",
            "|Swimming|      Hungary|    9|\n",
            "|Swimming|       Sweden|    9|\n",
            "|Swimming|       Brazil|    8|\n",
            "|Swimming|     Zimbabwe|    7|\n",
            "|Swimming|      Ukraine|    7|\n",
            "|Swimming|      Romania|    6|\n",
            "|Swimming|       Canada|    5|\n",
            "|Swimming|  South Korea|    4|\n",
            "|Swimming|        Spain|    3|\n",
            "+--------+-------------+-----+\n",
            "only showing top 20 rows\n",
            "\n"
          ]
        }
      ]
    },
    {
      "cell_type": "markdown",
      "source": [
        "Here we are grouping the sports and country and performing an aggregation with total medals and filering the data. So that we can check with the total count of medals in Swimming."
      ],
      "metadata": {
        "id": "Q5TIQOC67FV0"
      }
    },
    {
      "cell_type": "markdown",
      "source": [
        "## Find the total number of medals won by each country in Skeleton.\n"
      ],
      "metadata": {
        "id": "sn_2QFJ4Cwl4"
      }
    },
    {
      "cell_type": "code",
      "source": [
        "sp_count_Tot.filter(olympix['sports']=='Skeleton').show()\n"
      ],
      "metadata": {
        "colab": {
          "base_uri": "https://localhost:8080/"
        },
        "id": "RPnIQQk8C2iO",
        "outputId": "08774d3e-294f-4b3a-9f32-faf9cee86ffa"
      },
      "execution_count": null,
      "outputs": [
        {
          "output_type": "stream",
          "name": "stdout",
          "text": [
            "+--------+-------------+-----+\n",
            "|  sports|      country|Total|\n",
            "+--------+-------------+-----+\n",
            "|Skeleton|       Canada|    4|\n",
            "|Skeleton|United States|    3|\n",
            "|Skeleton|  Switzerland|    3|\n",
            "|Skeleton|Great Britain|    3|\n",
            "|Skeleton|      Germany|    2|\n",
            "|Skeleton|      Austria|    1|\n",
            "|Skeleton|       Latvia|    1|\n",
            "|Skeleton|       Russia|    1|\n",
            "+--------+-------------+-----+\n",
            "\n"
          ]
        }
      ]
    },
    {
      "cell_type": "markdown",
      "source": [
        "Here we are grouping the sports and country and performing an aggregation with total medals and filtering the data. So that we can check with the total count of medals in Skeleton."
      ],
      "metadata": {
        "id": "5shwmepW7RLm"
      }
    },
    {
      "cell_type": "markdown",
      "source": [
        "## Find the number of medals that the US won yearly.\n"
      ],
      "metadata": {
        "id": "WKF_MAKHDFrT"
      }
    },
    {
      "cell_type": "code",
      "source": [
        "# filter by country than groupby by year and country , after this aggergation on total number of medals\n",
        "olympix.filter(olympix['country']=='United States').groupby('year','country').agg(sum(\"total_medal\").alias(\"Total\")).sort(desc(\"year\")).show()"
      ],
      "metadata": {
        "colab": {
          "base_uri": "https://localhost:8080/"
        },
        "id": "GTwnBv2fDKkv",
        "outputId": "53eb6104-158c-4687-9922-646beffa5f09"
      },
      "execution_count": null,
      "outputs": [
        {
          "output_type": "stream",
          "name": "stdout",
          "text": [
            "+----+-------------+-----+\n",
            "|year|      country|Total|\n",
            "+----+-------------+-----+\n",
            "|2012|United States|  254|\n",
            "|2010|United States|   97|\n",
            "|2008|United States|  317|\n",
            "|2006|United States|   52|\n",
            "|2004|United States|  265|\n",
            "|2002|United States|   84|\n",
            "|2000|United States|  243|\n",
            "+----+-------------+-----+\n",
            "\n"
          ]
        }
      ]
    },
    {
      "cell_type": "markdown",
      "source": [
        "Here we are grouping the year and country and performing an aggregation with total medals and filtering with the country United States. So that we can check with the total count of medals in United States."
      ],
      "metadata": {
        "id": "IJncJteG7mDP"
      }
    },
    {
      "cell_type": "markdown",
      "source": [
        "## Find the total number of medals won by each country."
      ],
      "metadata": {
        "id": "xppj62q-DZiK"
      }
    },
    {
      "cell_type": "code",
      "source": [
        "# group by operation on country and aggeregation on total medals\n",
        "olympix.groupby('country').agg(sum(\"total_medal\").alias(\"Total\")).sort(desc(\"Total\")).show()"
      ],
      "metadata": {
        "colab": {
          "base_uri": "https://localhost:8080/"
        },
        "id": "JPCJxvnWDknV",
        "outputId": "f1361f9f-1bf7-4a5c-dc5b-214c78982f52"
      },
      "execution_count": null,
      "outputs": [
        {
          "output_type": "stream",
          "name": "stdout",
          "text": [
            "+-------------+-----+\n",
            "|      country|Total|\n",
            "+-------------+-----+\n",
            "|United States| 1312|\n",
            "|       Russia|  768|\n",
            "|      Germany|  629|\n",
            "|    Australia|  609|\n",
            "|        China|  530|\n",
            "|       Canada|  370|\n",
            "|        Italy|  331|\n",
            "|Great Britain|  322|\n",
            "|       France|  318|\n",
            "|  Netherlands|  318|\n",
            "|  South Korea|  308|\n",
            "|        Japan|  282|\n",
            "|       Brazil|  221|\n",
            "|        Spain|  205|\n",
            "|       Norway|  192|\n",
            "|         Cuba|  188|\n",
            "|       Sweden|  181|\n",
            "|      Hungary|  145|\n",
            "|      Ukraine|  143|\n",
            "|    Argentina|  141|\n",
            "+-------------+-----+\n",
            "only showing top 20 rows\n",
            "\n"
          ]
        }
      ]
    },
    {
      "cell_type": "markdown",
      "source": [
        "Here we are grouping the country with total medals so that we can check the total number of medals won by each country."
      ],
      "metadata": {
        "id": "dzNHmpDo713O"
      }
    },
    {
      "cell_type": "markdown",
      "source": [
        "## Who was the oldest athlete in the olympics? \n",
        "\n",
        "## Which country was he/she from?\n"
      ],
      "metadata": {
        "id": "wmoapayPDwTV"
      }
    },
    {
      "cell_type": "code",
      "source": [
        "# group by country , player name and age , after it max age and sort it by age\n",
        "OLd_ath=olympix.groupby('name','country','age').max('age').sort(desc(\"max(age)\")).limit(1)\n"
      ],
      "metadata": {
        "id": "OtE34uDXDzdq"
      },
      "execution_count": null,
      "outputs": []
    },
    {
      "cell_type": "code",
      "source": [
        "OLd_ath.select('name','country','age').show() #checking the name of the athlete"
      ],
      "metadata": {
        "colab": {
          "base_uri": "https://localhost:8080/"
        },
        "id": "sPPZfLGeEB3e",
        "outputId": "6f14c514-f2f8-4f48-e507-80886470b35b"
      },
      "execution_count": null,
      "outputs": [
        {
          "output_type": "stream",
          "name": "stdout",
          "text": [
            "+----------+-------+---+\n",
            "|      name|country|age|\n",
            "+----------+-------+---+\n",
            "|Ian Millar| Canada| 61|\n",
            "+----------+-------+---+\n",
            "\n"
          ]
        }
      ]
    },
    {
      "cell_type": "markdown",
      "source": [
        "Here we can see the name, country and age of the oldest athlete in the Olympics by grouping with the maximum of the person."
      ],
      "metadata": {
        "id": "GY5s_PzQ8DqZ"
      }
    },
    {
      "cell_type": "markdown",
      "source": [
        "# **CONCLUSION**"
      ],
      "metadata": {
        "id": "Oc7e_tCLUJJ1"
      }
    },
    {
      "cell_type": "markdown",
      "source": [
        "In this project, we had used the required libraries and Pyspark to analyse the dataset. From this we came to know that Spark is the most suitable to handle the dataset and process in one go. The Analysis concludes that Spark is the favourable option.\n",
        "\n",
        "We have seen that a single player can play many games they can compete in number of Olympic events there are competitors all over the world and the Olympic games are often regarded as the world's most popular sporting event.\n",
        "\n"
      ],
      "metadata": {
        "id": "Mkim3ewpUQaK"
      }
    }
  ]
}